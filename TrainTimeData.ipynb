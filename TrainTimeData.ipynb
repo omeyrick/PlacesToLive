{
 "cells": [
  {
   "cell_type": "code",
   "execution_count": 1,
   "metadata": {
    "collapsed": true,
    "extensions": {
     "jupyter_dashboards": {
      "version": 1,
      "views": {
       "grid_default": {
        "hidden": true
       },
       "report_default": {}
      }
     }
    }
   },
   "outputs": [],
   "source": [
    "import pandas as pd\n",
    "import ipywidgets as widgets\n",
    "from ipywidgets import interact, interactive, fixed, interact_manual"
   ]
  },
  {
   "cell_type": "code",
   "execution_count": 2,
   "metadata": {
    "collapsed": true,
    "extensions": {
     "jupyter_dashboards": {
      "version": 1,
      "views": {
       "grid_default": {
        "col": 0,
        "height": 12,
        "hidden": false,
        "row": 0,
        "width": 7
       },
       "report_default": {}
      }
     }
    }
   },
   "outputs": [],
   "source": [
    "df = pd.read_csv('data/train_times_clean.csv')"
   ]
  },
  {
   "cell_type": "code",
   "execution_count": 3,
   "metadata": {
    "extensions": {
     "jupyter_dashboards": {
      "version": 1,
      "views": {
       "grid_default": {
        "col": 0,
        "height": 232,
        "hidden": false,
        "row": 12,
        "width": 8
       },
       "report_default": {}
      }
     }
    }
   },
   "outputs": [
    {
     "data": {
      "application/vnd.jupyter.widget-view+json": {
       "model_id": "ae5f7a3410954869a18dcc545046ed25"
      }
     },
     "metadata": {},
     "output_type": "display_data"
    },
    {
     "data": {
      "text/plain": [
       "<function __main__.view>"
      ]
     },
     "execution_count": 3,
     "metadata": {},
     "output_type": "execute_result"
    }
   ],
   "source": [
    "items = ['All']+sorted(df['to'].unique().tolist())\n",
    "\n",
    "def view(Terminus='', MaxTime=1.0):\n",
    "    if Terminus=='All': return df\n",
    "    return df[(df['to']==Terminus) & (df['time_hours']<MaxTime)]\n",
    "\n",
    "w_drop = widgets.Select(options=items)\n",
    "w_range = widgets.FloatSlider(min=0.0, max=4.0, step=0.5, value=1.0)\n",
    "interact(view, Terminus=w_drop, MaxTime=w_range)"
   ]
  },
  {
   "cell_type": "code",
   "execution_count": 4,
   "metadata": {
    "extensions": {
     "jupyter_dashboards": {
      "version": 1,
      "views": {
       "grid_default": {
        "hidden": true
       },
       "report_default": {}
      }
     }
    }
   },
   "outputs": [
    {
     "name": "stdout",
     "output_type": "stream",
     "text": [
      "<class 'pandas.core.frame.DataFrame'>\n",
      "RangeIndex: 1680 entries, 0 to 1679\n",
      "Data columns (total 9 columns):\n",
      "Unnamed: 0    1680 non-null int64\n",
      "tlc           1680 non-null object\n",
      "station       1680 non-null object\n",
      "latitude      1680 non-null float64\n",
      "longitude     1680 non-null float64\n",
      "time          1680 non-null object\n",
      "time_hours    1680 non-null float64\n",
      "to            1680 non-null object\n",
      "total_time    1680 non-null float64\n",
      "dtypes: float64(4), int64(1), object(4)\n",
      "memory usage: 118.2+ KB\n"
     ]
    }
   ],
   "source": [
    "df.info()"
   ]
  },
  {
   "cell_type": "code",
   "execution_count": 5,
   "metadata": {},
   "outputs": [
    {
     "data": {
      "text/plain": [
       "<pandas.core.groupby.DataFrameGroupBy object at 0x10bd4d2b0>"
      ]
     },
     "execution_count": 5,
     "metadata": {},
     "output_type": "execute_result"
    }
   ],
   "source": [
    "df.groupby('to')"
   ]
  },
  {
   "cell_type": "code",
   "execution_count": 8,
   "metadata": {},
   "outputs": [],
   "source": [
    "df2 = df.groupby('to')"
   ]
  },
  {
   "cell_type": "code",
   "execution_count": 9,
   "metadata": {},
   "outputs": [
    {
     "name": "stdout",
     "output_type": "stream",
     "text": [
      "Variable          Type                Data/Info\n",
      "-----------------------------------------------\n",
      "df                DataFrame                 Unnamed: 0  tlc    <...>\\n[1680 rows x 9 columns]\n",
      "df2               DataFrameGroupBy    <pandas.core.groupby.Data<...>By object at 0x10bd4d710>\n",
      "fixed             MetaHasTraits       <class 'ipywidgets.widgets.interaction.fixed'>\n",
      "interact          _InteractFactory    <ipywidgets.widgets.inter<...>ry object at 0x10221fd68>\n",
      "interact_manual   _InteractFactory    <ipywidgets.widgets.inter<...>ry object at 0x10221fdd8>\n",
      "interactive       MetaHasTraits       <class 'ipywidgets.widget<...>interaction.interactive'>\n",
      "items             list                n=14\n",
      "pd                module              <module 'pandas' from '/U<...>ages/pandas/__init__.py'>\n",
      "view              function            <function view at 0x10bc21d08>\n",
      "w_drop            Select              <ipywidgets.widgets.widge<...>ct object at 0x10bd4deb8>\n",
      "w_range           FloatSlider         <ipywidgets.widgets.widge<...>er object at 0x10bd4def0>\n",
      "widgets           module              <module 'ipywidgets' from<...>/ipywidgets/__init__.py'>\n"
     ]
    }
   ],
   "source": [
    "%whos"
   ]
  },
  {
   "cell_type": "code",
   "execution_count": 11,
   "metadata": {},
   "outputs": [
    {
     "data": {
      "text/plain": [
       "London Euston [EUS]                      572\n",
       "London Paddington [PAD]                  321\n",
       "London Kings Cross [KGX]                 291\n",
       "London Waterloo [WAT]                     94\n",
       "London Liverpool Street [LST]             94\n",
       "London St Pancras International [STP]     90\n",
       "London Bridge [LBG]                       66\n",
       "London Victoria [VIC]                     64\n",
       "London Marylebone [MYB]                   33\n",
       "London Fenchurch Street [FST]             17\n",
       "London Charing Cross [CHX]                17\n",
       "London Blackfriars [BFR]                  13\n",
       "London Cannon Street [CST]                 8\n",
       "Name: to, dtype: int64"
      ]
     },
     "execution_count": 11,
     "metadata": {},
     "output_type": "execute_result"
    }
   ],
   "source": [
    "df['to'].value_counts()"
   ]
  },
  {
   "cell_type": "code",
   "execution_count": null,
   "metadata": {
    "collapsed": true
   },
   "outputs": [],
   "source": []
  }
 ],
 "metadata": {
  "extensions": {
   "jupyter_dashboards": {
    "activeView": "grid_default",
    "version": 1,
    "views": {
     "grid_default": {
      "cellMargin": 10,
      "defaultCellHeight": 20,
      "maxColumns": 12,
      "name": "grid",
      "type": "grid"
     },
     "report_default": {
      "name": "report",
      "type": "report"
     }
    }
   }
  },
  "kernelspec": {
   "display_name": "Python 3",
   "language": "python",
   "name": "python3"
  },
  "language_info": {
   "codemirror_mode": {
    "name": "ipython",
    "version": 3
   },
   "file_extension": ".py",
   "mimetype": "text/x-python",
   "name": "python",
   "nbconvert_exporter": "python",
   "pygments_lexer": "ipython3",
   "version": "3.6.1"
  }
 },
 "nbformat": 4,
 "nbformat_minor": 2
}
