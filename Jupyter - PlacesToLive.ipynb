{
 "cells": [
  {
   "cell_type": "markdown",
   "metadata": {},
   "source": [
    "# UK Places To Live"
   ]
  },
  {
   "cell_type": "code",
   "execution_count": 2,
   "metadata": {
    "collapsed": true
   },
   "outputs": [],
   "source": [
    "import pandas as pd\n",
    "import numpy as np\n",
    "import scipy as sp\n",
    "\n",
    "import plotly.plotly as py\n",
    "py.sign_in('omeyrick', 'NyFF5cQrthBm4tIAxPvH')\n",
    "from plotly.tools import FigureFactory as ff"
   ]
  },
  {
   "cell_type": "markdown",
   "metadata": {},
   "source": [
    "### UK Postcodes To Lat/Lon"
   ]
  },
  {
   "cell_type": "code",
   "execution_count": 3,
   "metadata": {
    "collapsed": false
   },
   "outputs": [
    {
     "name": "stdout",
     "output_type": "stream",
     "text": [
      "<class 'pandas.core.frame.DataFrame'>\n",
      "RangeIndex: 1738223 entries, 0 to 1738222\n",
      "Data columns (total 4 columns):\n",
      "id           int64\n",
      "postcode     object\n",
      "latitude     float64\n",
      "longitude    float64\n",
      "dtypes: float64(2), int64(1), object(1)\n",
      "memory usage: 53.0+ MB\n"
     ]
    }
   ],
   "source": [
    "df_postcodes = pd.read_csv(\"/Users/OliverM/Code/PlacesToLive/data/Base_data/ukpostcodes.csv\")\n",
    "df_postcodes.info()"
   ]
  },
  {
   "cell_type": "markdown",
   "metadata": {},
   "source": [
    "### Top Places To Live\n",
    "\n",
    "* 2016 Halifax Qualify of Life Survey: https://static.halifax.co.uk/assets/pdf/mortgages/pdf/161217-Halifax-Quality-of-Life%202016-FINAL.pdf\n",
    "* Daily Mail Top 100 Places To Live: http://www.thisismoney.co.uk/money/mortgageshome/article-3221296/The-100-best-places-families-live-revealed.html"
   ]
  },
  {
   "cell_type": "code",
   "execution_count": 4,
   "metadata": {
    "collapsed": false
   },
   "outputs": [
    {
     "data": {
      "text/html": [
       "<div>\n",
       "<table border=\"1\" class=\"dataframe\">\n",
       "  <thead>\n",
       "    <tr style=\"text-align: right;\">\n",
       "      <th></th>\n",
       "      <th>Local Authority</th>\n",
       "      <th>Region</th>\n",
       "      <th>Rank</th>\n",
       "      <th>link</th>\n",
       "      <th>location</th>\n",
       "      <th>latitude</th>\n",
       "      <th>longitude</th>\n",
       "    </tr>\n",
       "  </thead>\n",
       "  <tbody>\n",
       "    <tr>\n",
       "      <th>0</th>\n",
       "      <td>Winchester</td>\n",
       "      <td>South East</td>\n",
       "      <td>1</td>\n",
       "      <td>https://en.wikipedia.org/wiki/Winchester</td>\n",
       "      <td>51.0632Â°N 1.308Â°W</td>\n",
       "      <td>51.0632</td>\n",
       "      <td>-1.308</td>\n",
       "    </tr>\n",
       "    <tr>\n",
       "      <th>1</th>\n",
       "      <td>Orkney Islands</td>\n",
       "      <td>Scotland</td>\n",
       "      <td>2</td>\n",
       "      <td>https://en.wikipedia.org/wiki/Orkney_Islands</td>\n",
       "      <td>59Â°N 3Â°W</td>\n",
       "      <td>59.0000</td>\n",
       "      <td>-3.000</td>\n",
       "    </tr>\n",
       "    <tr>\n",
       "      <th>2</th>\n",
       "      <td>Wychavon</td>\n",
       "      <td>West Midlands</td>\n",
       "      <td>3</td>\n",
       "      <td>https://en.wikipedia.org/wiki/Wychavon</td>\n",
       "      <td>52.114Â°N 2.081Â°W</td>\n",
       "      <td>52.1140</td>\n",
       "      <td>-2.081</td>\n",
       "    </tr>\n",
       "    <tr>\n",
       "      <th>3</th>\n",
       "      <td>Derbyshire Dales</td>\n",
       "      <td>East Midlands</td>\n",
       "      <td>4</td>\n",
       "      <td>https://en.wikipedia.org/wiki/Derbyshire_Dales</td>\n",
       "      <td>53.05Â°N 1.70Â°W</td>\n",
       "      <td>53.0500</td>\n",
       "      <td>-1.700</td>\n",
       "    </tr>\n",
       "    <tr>\n",
       "      <th>4</th>\n",
       "      <td>Hambleton</td>\n",
       "      <td>Yorkshire and The Humber</td>\n",
       "      <td>5</td>\n",
       "      <td>https://en.wikipedia.org/wiki/Hambleton</td>\n",
       "      <td>54.334Â°N 1.429Â°W</td>\n",
       "      <td>54.3340</td>\n",
       "      <td>-1.429</td>\n",
       "    </tr>\n",
       "  </tbody>\n",
       "</table>\n",
       "</div>"
      ],
      "text/plain": [
       "    Local Authority                    Region  Rank  \\\n",
       "0        Winchester                South East     1   \n",
       "1    Orkney Islands                  Scotland     2   \n",
       "2          Wychavon             West Midlands     3   \n",
       "3  Derbyshire Dales             East Midlands     4   \n",
       "4         Hambleton  Yorkshire and The Humber     5   \n",
       "\n",
       "                                             link             location  \\\n",
       "0        https://en.wikipedia.org/wiki/Winchester  51.0632Â°N 1.308Â°W   \n",
       "1    https://en.wikipedia.org/wiki/Orkney_Islands           59Â°N 3Â°W   \n",
       "2          https://en.wikipedia.org/wiki/Wychavon   52.114Â°N 2.081Â°W   \n",
       "3  https://en.wikipedia.org/wiki/Derbyshire_Dales     53.05Â°N 1.70Â°W   \n",
       "4         https://en.wikipedia.org/wiki/Hambleton   54.334Â°N 1.429Â°W   \n",
       "\n",
       "   latitude  longitude  \n",
       "0   51.0632     -1.308  \n",
       "1   59.0000     -3.000  \n",
       "2   52.1140     -2.081  \n",
       "3   53.0500     -1.700  \n",
       "4   54.3340     -1.429  "
      ]
     },
     "execution_count": 4,
     "metadata": {},
     "output_type": "execute_result"
    }
   ],
   "source": [
    "df_qol = pd.read_csv(\"/Users/OliverM/Code/PlacesToLive/data/Halifax_quality_of_life.csv\")\n",
    "df_qol.head()"
   ]
  },
  {
   "cell_type": "code",
   "execution_count": 5,
   "metadata": {
    "collapsed": false
   },
   "outputs": [
    {
     "data": {
      "text/html": [
       "<div>\n",
       "<table border=\"1\" class=\"dataframe\">\n",
       "  <thead>\n",
       "    <tr style=\"text-align: right;\">\n",
       "      <th></th>\n",
       "      <th>rank</th>\n",
       "      <th>postcode</th>\n",
       "      <th>street name</th>\n",
       "      <th>locality</th>\n",
       "      <th>scores highly on</th>\n",
       "      <th>scores less well on</th>\n",
       "      <th>id</th>\n",
       "      <th>latitude</th>\n",
       "      <th>longitude</th>\n",
       "    </tr>\n",
       "  </thead>\n",
       "  <tbody>\n",
       "    <tr>\n",
       "      <th>0</th>\n",
       "      <td>1</td>\n",
       "      <td>SK10 5SG</td>\n",
       "      <td>Shrigley Road</td>\n",
       "      <td>Bollington</td>\n",
       "      <td>Activities</td>\n",
       "      <td>Childcare</td>\n",
       "      <td>364076</td>\n",
       "      <td>53.331510</td>\n",
       "      <td>-2.079378</td>\n",
       "    </tr>\n",
       "    <tr>\n",
       "      <th>1</th>\n",
       "      <td>19</td>\n",
       "      <td>CR6 9PD</td>\n",
       "      <td>Harrow Road</td>\n",
       "      <td>Warlingham</td>\n",
       "      <td>Activities</td>\n",
       "      <td>NCT community</td>\n",
       "      <td>1403610</td>\n",
       "      <td>51.316421</td>\n",
       "      <td>-0.035617</td>\n",
       "    </tr>\n",
       "    <tr>\n",
       "      <th>2</th>\n",
       "      <td>22</td>\n",
       "      <td>LE9 7TF</td>\n",
       "      <td>Enderby Road</td>\n",
       "      <td>Thurlaston</td>\n",
       "      <td>Activities</td>\n",
       "      <td>Schools</td>\n",
       "      <td>903891</td>\n",
       "      <td>52.588841</td>\n",
       "      <td>-1.254706</td>\n",
       "    </tr>\n",
       "    <tr>\n",
       "      <th>3</th>\n",
       "      <td>23</td>\n",
       "      <td>WA4 4JL</td>\n",
       "      <td>Marsh Lane</td>\n",
       "      <td>Lower Whitley</td>\n",
       "      <td>Activities</td>\n",
       "      <td>Schools</td>\n",
       "      <td>87215</td>\n",
       "      <td>53.307662</td>\n",
       "      <td>-2.614287</td>\n",
       "    </tr>\n",
       "    <tr>\n",
       "      <th>4</th>\n",
       "      <td>66</td>\n",
       "      <td>LE18 3SH</td>\n",
       "      <td>Newton Lane</td>\n",
       "      <td>Wigston</td>\n",
       "      <td>Activities</td>\n",
       "      <td>Childcare</td>\n",
       "      <td>916457</td>\n",
       "      <td>52.575904</td>\n",
       "      <td>-1.080679</td>\n",
       "    </tr>\n",
       "  </tbody>\n",
       "</table>\n",
       "</div>"
      ],
      "text/plain": [
       "   rank  postcode    street name       locality scores highly on  \\\n",
       "0     1  SK10 5SG  Shrigley Road     Bollington       Activities   \n",
       "1    19   CR6 9PD    Harrow Road     Warlingham       Activities   \n",
       "2    22   LE9 7TF   Enderby Road     Thurlaston       Activities   \n",
       "3    23   WA4 4JL     Marsh Lane  Lower Whitley       Activities   \n",
       "4    66  LE18 3SH    Newton Lane        Wigston       Activities   \n",
       "\n",
       "  scores less well on       id   latitude  longitude  \n",
       "0           Childcare   364076  53.331510  -2.079378  \n",
       "1       NCT community  1403610  51.316421  -0.035617  \n",
       "2             Schools   903891  52.588841  -1.254706  \n",
       "3             Schools    87215  53.307662  -2.614287  \n",
       "4           Childcare   916457  52.575904  -1.080679  "
      ]
     },
     "execution_count": 5,
     "metadata": {},
     "output_type": "execute_result"
    }
   ],
   "source": [
    "df_places = pd.read_csv(\"/Users/OliverM/Code/PlacesToLive/data/DM_Top_100_Places_to_live.csv\")\n",
    "df_places = df_places.sort_values(by='scores highly on')\n",
    "df_places = df_places.merge(df_postcodes, on = 'postcode', how = 'left')\n",
    "df_places.head()\n",
    "#table2 = ff.create_table(df_places)\n",
    "#py.iplot(table2)"
   ]
  },
  {
   "cell_type": "markdown",
   "metadata": {},
   "source": [
    "### UK Tech Centres\n",
    "\n",
    "Sourced from http://www.techcityuk.com/"
   ]
  },
  {
   "cell_type": "code",
   "execution_count": 6,
   "metadata": {
    "collapsed": false
   },
   "outputs": [],
   "source": [
    "df_tech = pd.read_csv(\"/Users/OliverM/Code/PlacesToLive/data/top_tech_cities.csv\")\n",
    "df_tech = df_tech.merge(df_postcodes, on = 'postcode', how = 'left')\n",
    "\n",
    "#table = ff.create_table(df_tech)\n",
    "#py.iplot(table)"
   ]
  },
  {
   "cell_type": "markdown",
   "metadata": {},
   "source": [
    "### Best Places For Artists\n",
    "\n",
    "Sourced from random articles online. Could find a better proxy (theatres?)"
   ]
  },
  {
   "cell_type": "code",
   "execution_count": 7,
   "metadata": {
    "collapsed": false
   },
   "outputs": [
    {
     "data": {
      "text/html": [
       "<div>\n",
       "<table border=\"1\" class=\"dataframe\">\n",
       "  <thead>\n",
       "    <tr style=\"text-align: right;\">\n",
       "      <th></th>\n",
       "      <th>location</th>\n",
       "      <th>postcode</th>\n",
       "      <th>id</th>\n",
       "      <th>latitude</th>\n",
       "      <th>longitude</th>\n",
       "    </tr>\n",
       "  </thead>\n",
       "  <tbody>\n",
       "    <tr>\n",
       "      <th>0</th>\n",
       "      <td>St Ives</td>\n",
       "      <td>TR26 2DS</td>\n",
       "      <td>158205</td>\n",
       "      <td>50.211618</td>\n",
       "      <td>-5.479880</td>\n",
       "    </tr>\n",
       "    <tr>\n",
       "      <th>1</th>\n",
       "      <td>Aldeburgh</td>\n",
       "      <td>IP15 5DS</td>\n",
       "      <td>1019136</td>\n",
       "      <td>52.154941</td>\n",
       "      <td>1.602925</td>\n",
       "    </tr>\n",
       "    <tr>\n",
       "      <th>2</th>\n",
       "      <td>Lewes</td>\n",
       "      <td>BN7 2QS</td>\n",
       "      <td>1540096</td>\n",
       "      <td>50.873543</td>\n",
       "      <td>0.010354</td>\n",
       "    </tr>\n",
       "    <tr>\n",
       "      <th>3</th>\n",
       "      <td>Hay-on-Wye</td>\n",
       "      <td>HR3 5BL</td>\n",
       "      <td>1052486</td>\n",
       "      <td>52.075093</td>\n",
       "      <td>-3.124624</td>\n",
       "    </tr>\n",
       "    <tr>\n",
       "      <th>4</th>\n",
       "      <td>Stratford-upon-Avon</td>\n",
       "      <td>CV37 6EF</td>\n",
       "      <td>1373985</td>\n",
       "      <td>52.191333</td>\n",
       "      <td>-1.705438</td>\n",
       "    </tr>\n",
       "  </tbody>\n",
       "</table>\n",
       "</div>"
      ],
      "text/plain": [
       "              location  postcode       id   latitude  longitude\n",
       "0              St Ives  TR26 2DS   158205  50.211618  -5.479880\n",
       "1            Aldeburgh  IP15 5DS  1019136  52.154941   1.602925\n",
       "2                Lewes   BN7 2QS  1540096  50.873543   0.010354\n",
       "3           Hay-on-Wye   HR3 5BL  1052486  52.075093  -3.124624\n",
       "4  Stratford-upon-Avon  CV37 6EF  1373985  52.191333  -1.705438"
      ]
     },
     "execution_count": 7,
     "metadata": {},
     "output_type": "execute_result"
    }
   ],
   "source": [
    "df_art = pd.read_csv(\"/Users/OliverM/Code/PlacesToLive/data/artistic_locations.csv\")\n",
    "df_art = df_art.merge(df_postcodes, on = 'postcode', how = 'left')\n",
    "df_art.head(5)"
   ]
  },
  {
   "cell_type": "markdown",
   "metadata": {},
   "source": [
    "### Schools: HMC Schools\n",
    "\n",
    "Sourced from https://en.wikipedia.org/wiki/Headmasters'_and_Headmistresses'_Conference"
   ]
  },
  {
   "cell_type": "code",
   "execution_count": 8,
   "metadata": {
    "collapsed": false
   },
   "outputs": [
    {
     "data": {
      "text/html": [
       "<div>\n",
       "<table border=\"1\" class=\"dataframe\">\n",
       "  <thead>\n",
       "    <tr style=\"text-align: right;\">\n",
       "      <th></th>\n",
       "      <th>hmc school</th>\n",
       "      <th>wikipedia link</th>\n",
       "      <th>postcode</th>\n",
       "      <th>id</th>\n",
       "      <th>latitude</th>\n",
       "      <th>longitude</th>\n",
       "    </tr>\n",
       "  </thead>\n",
       "  <tbody>\n",
       "    <tr>\n",
       "      <th>0</th>\n",
       "      <td>The Abbey School, Reading</td>\n",
       "      <td>https://en.wikipedia.org/wiki/The_Abbey_School...</td>\n",
       "      <td>RG1 5DZ</td>\n",
       "      <td>502311.0</td>\n",
       "      <td>51.448619</td>\n",
       "      <td>-0.962739</td>\n",
       "    </tr>\n",
       "    <tr>\n",
       "      <th>1</th>\n",
       "      <td>Abingdon School</td>\n",
       "      <td>https://en.wikipedia.org/wiki/Abingdon_School</td>\n",
       "      <td>OX14 1DE</td>\n",
       "      <td>612789.0</td>\n",
       "      <td>51.672989</td>\n",
       "      <td>-1.288396</td>\n",
       "    </tr>\n",
       "    <tr>\n",
       "      <th>2</th>\n",
       "      <td>Ackworth School</td>\n",
       "      <td>https://en.wikipedia.org/wiki/Ackworth_School</td>\n",
       "      <td>WF7 7LT</td>\n",
       "      <td>57152.0</td>\n",
       "      <td>53.649536</td>\n",
       "      <td>-1.334989</td>\n",
       "    </tr>\n",
       "    <tr>\n",
       "      <th>3</th>\n",
       "      <td>Arnold KEQMS</td>\n",
       "      <td>https://en.wikipedia.org/wiki/Arnold_KEQMS</td>\n",
       "      <td>FY8 1DT</td>\n",
       "      <td>1166466.0</td>\n",
       "      <td>53.740840</td>\n",
       "      <td>-3.010122</td>\n",
       "    </tr>\n",
       "    <tr>\n",
       "      <th>4</th>\n",
       "      <td>Aldenham School</td>\n",
       "      <td>https://en.wikipedia.org/wiki/Aldenham_School</td>\n",
       "      <td>WD6 3AJ</td>\n",
       "      <td>70347.0</td>\n",
       "      <td>51.663244</td>\n",
       "      <td>-0.327918</td>\n",
       "    </tr>\n",
       "  </tbody>\n",
       "</table>\n",
       "</div>"
      ],
      "text/plain": [
       "                  hmc school  \\\n",
       "0  The Abbey School, Reading   \n",
       "1            Abingdon School   \n",
       "2            Ackworth School   \n",
       "3               Arnold KEQMS   \n",
       "4            Aldenham School   \n",
       "\n",
       "                                      wikipedia link  postcode         id  \\\n",
       "0  https://en.wikipedia.org/wiki/The_Abbey_School...   RG1 5DZ   502311.0   \n",
       "1      https://en.wikipedia.org/wiki/Abingdon_School  OX14 1DE   612789.0   \n",
       "2      https://en.wikipedia.org/wiki/Ackworth_School   WF7 7LT    57152.0   \n",
       "3         https://en.wikipedia.org/wiki/Arnold_KEQMS   FY8 1DT  1166466.0   \n",
       "4      https://en.wikipedia.org/wiki/Aldenham_School   WD6 3AJ    70347.0   \n",
       "\n",
       "    latitude  longitude  \n",
       "0  51.448619  -0.962739  \n",
       "1  51.672989  -1.288396  \n",
       "2  53.649536  -1.334989  \n",
       "3  53.740840  -3.010122  \n",
       "4  51.663244  -0.327918  "
      ]
     },
     "execution_count": 8,
     "metadata": {},
     "output_type": "execute_result"
    }
   ],
   "source": [
    "df_hmc = pd.read_csv(\"/Users/OliverM/Code/PlacesToLive/data/hmc_schools_postcode.csv\")\n",
    "df_hmc = df_hmc.merge(df_postcodes, on = 'postcode', how = 'left')\n",
    "df_hmc.head(5)"
   ]
  },
  {
   "cell_type": "markdown",
   "metadata": {},
   "source": [
    "### Schools: Outstanding Secondaries\n",
    "\n",
    "Sourced from https://www.gov.uk/school-performance-tables"
   ]
  },
  {
   "cell_type": "code",
   "execution_count": 9,
   "metadata": {
    "collapsed": false
   },
   "outputs": [],
   "source": [
    "df_offsted = pd.read_csv(\"/Users/OliverM/Code/PlacesToLive/data/offsted.csv\")\n",
    "df_offsted = df_offsted.rename(columns={'Postcode': 'postcode'})\n",
    "df_offsted = df_offsted.merge(df_postcodes, on = 'postcode', how = 'left')"
   ]
  },
  {
   "cell_type": "code",
   "execution_count": 10,
   "metadata": {
    "collapsed": false
   },
   "outputs": [],
   "source": [
    "df_secondary_offsted = df_offsted.loc[df_offsted['Phase of education'] == 'Secondary']\n",
    "df_secondary_offsted = df_secondary_offsted.loc[df_secondary_offsted['Overall effectiveness'] == 1]"
   ]
  },
  {
   "cell_type": "markdown",
   "metadata": {},
   "source": [
    "### Waitrose Locations\n",
    "\n",
    "Sourced from http://www.waitrose.com/"
   ]
  },
  {
   "cell_type": "code",
   "execution_count": 11,
   "metadata": {
    "collapsed": false
   },
   "outputs": [],
   "source": [
    "df_waitrose = pd.read_csv(\"/Users/OliverM/Code/PlacesToLive/data/waitrose_postcode.csv\")\n",
    "df_waitrose = df_waitrose.merge(df_postcodes, on = 'postcode', how = 'left')"
   ]
  },
  {
   "cell_type": "markdown",
   "metadata": {},
   "source": [
    "### Crown Post Offices"
   ]
  },
  {
   "cell_type": "code",
   "execution_count": 12,
   "metadata": {
    "collapsed": false
   },
   "outputs": [
    {
     "data": {
      "text/html": [
       "<div>\n",
       "<table border=\"1\" class=\"dataframe\">\n",
       "  <thead>\n",
       "    <tr style=\"text-align: right;\">\n",
       "      <th></th>\n",
       "      <th>branch_name</th>\n",
       "      <th>postcode</th>\n",
       "      <th>id</th>\n",
       "      <th>latitude</th>\n",
       "      <th>longitude</th>\n",
       "    </tr>\n",
       "  </thead>\n",
       "  <tbody>\n",
       "    <tr>\n",
       "      <th>0</th>\n",
       "      <td>Abbey Wood</td>\n",
       "      <td>SE2 9NN</td>\n",
       "      <td>387408.0</td>\n",
       "      <td>51.489596</td>\n",
       "      <td>0.120750</td>\n",
       "    </tr>\n",
       "    <tr>\n",
       "      <th>1</th>\n",
       "      <td>Abergavenny</td>\n",
       "      <td>NP7 5EB</td>\n",
       "      <td>667539.0</td>\n",
       "      <td>51.821699</td>\n",
       "      <td>-3.019567</td>\n",
       "    </tr>\n",
       "    <tr>\n",
       "      <th>2</th>\n",
       "      <td>Aberystwyth</td>\n",
       "      <td>SY23 1DE</td>\n",
       "      <td>227742.0</td>\n",
       "      <td>52.414738</td>\n",
       "      <td>-4.084735</td>\n",
       "    </tr>\n",
       "    <tr>\n",
       "      <th>3</th>\n",
       "      <td>Acocks Green</td>\n",
       "      <td>B27 6BG</td>\n",
       "      <td>1685622.0</td>\n",
       "      <td>52.446691</td>\n",
       "      <td>-1.822046</td>\n",
       "    </tr>\n",
       "    <tr>\n",
       "      <th>4</th>\n",
       "      <td>Acton</td>\n",
       "      <td>W3 9LD</td>\n",
       "      <td>103165.0</td>\n",
       "      <td>51.508181</td>\n",
       "      <td>-0.271983</td>\n",
       "    </tr>\n",
       "  </tbody>\n",
       "</table>\n",
       "</div>"
      ],
      "text/plain": [
       "    branch_name  postcode         id   latitude  longitude\n",
       "0    Abbey Wood   SE2 9NN   387408.0  51.489596   0.120750\n",
       "1   Abergavenny   NP7 5EB   667539.0  51.821699  -3.019567\n",
       "2   Aberystwyth  SY23 1DE   227742.0  52.414738  -4.084735\n",
       "3  Acocks Green   B27 6BG  1685622.0  52.446691  -1.822046\n",
       "4         Acton    W3 9LD   103165.0  51.508181  -0.271983"
      ]
     },
     "execution_count": 12,
     "metadata": {},
     "output_type": "execute_result"
    }
   ],
   "source": [
    "df_post_offices = pd.read_csv(\"/Users/OliverM/Code/PlacesToLive/data/postoffices.csv\")\n",
    "df_post_offices = df_post_offices.merge(df_postcodes, on = 'postcode', how = 'left')\n",
    "df_post_offices.head()"
   ]
  },
  {
   "cell_type": "markdown",
   "metadata": {},
   "source": [
    "### Crossrail  / Elizabeth Line locations\n",
    "\n",
    "Sourced from http://www.crossrail.co.uk/route/maps/"
   ]
  },
  {
   "cell_type": "code",
   "execution_count": 13,
   "metadata": {
    "collapsed": false
   },
   "outputs": [
    {
     "data": {
      "text/html": [
       "<div>\n",
       "<table border=\"1\" class=\"dataframe\">\n",
       "  <thead>\n",
       "    <tr style=\"text-align: right;\">\n",
       "      <th></th>\n",
       "      <th>cross rail station</th>\n",
       "      <th>tube_link</th>\n",
       "      <th>railway_link</th>\n",
       "      <th>location</th>\n",
       "      <th>latitude</th>\n",
       "      <th>longitude</th>\n",
       "    </tr>\n",
       "  </thead>\n",
       "  <tbody>\n",
       "    <tr>\n",
       "      <th>0</th>\n",
       "      <td>Reading</td>\n",
       "      <td>https://en.wikipedia.org/wiki/Reading_tube_sta...</td>\n",
       "      <td>https://en.wikipedia.org/wiki/Reading_railway_...</td>\n",
       "      <td>51.4590Â°N 0.9722Â°W</td>\n",
       "      <td>51.459</td>\n",
       "      <td>-0.9722</td>\n",
       "    </tr>\n",
       "    <tr>\n",
       "      <th>1</th>\n",
       "      <td>Twyford</td>\n",
       "      <td>https://en.wikipedia.org/wiki/Twyford_tube_sta...</td>\n",
       "      <td>https://en.wikipedia.org/wiki/Twyford_railway_...</td>\n",
       "      <td>51.476Â°N 0.863Â°W</td>\n",
       "      <td>51.476</td>\n",
       "      <td>-0.8630</td>\n",
       "    </tr>\n",
       "    <tr>\n",
       "      <th>2</th>\n",
       "      <td>Maidenhead</td>\n",
       "      <td>https://en.wikipedia.org/wiki/Maidenhead_tube_...</td>\n",
       "      <td>https://en.wikipedia.org/wiki/Maidenhead_railw...</td>\n",
       "      <td>51.519Â°N 0.723Â°W</td>\n",
       "      <td>51.519</td>\n",
       "      <td>-0.7230</td>\n",
       "    </tr>\n",
       "    <tr>\n",
       "      <th>3</th>\n",
       "      <td>Taplow</td>\n",
       "      <td>https://en.wikipedia.org/wiki/Taplow_tube_station</td>\n",
       "      <td>https://en.wikipedia.org/wiki/Taplow_railway_s...</td>\n",
       "      <td>51.524Â°N 0.681Â°W</td>\n",
       "      <td>51.524</td>\n",
       "      <td>-0.6810</td>\n",
       "    </tr>\n",
       "    <tr>\n",
       "      <th>4</th>\n",
       "      <td>Burnham</td>\n",
       "      <td>https://en.wikipedia.org/wiki/Burnham_tube_sta...</td>\n",
       "      <td>https://en.wikipedia.org/wiki/Burnham_railway_...</td>\n",
       "      <td>51.524Â°N 0.646Â°W</td>\n",
       "      <td>51.524</td>\n",
       "      <td>-0.6460</td>\n",
       "    </tr>\n",
       "  </tbody>\n",
       "</table>\n",
       "</div>"
      ],
      "text/plain": [
       "  cross rail station                                          tube_link  \\\n",
       "0            Reading  https://en.wikipedia.org/wiki/Reading_tube_sta...   \n",
       "1            Twyford  https://en.wikipedia.org/wiki/Twyford_tube_sta...   \n",
       "2         Maidenhead  https://en.wikipedia.org/wiki/Maidenhead_tube_...   \n",
       "3             Taplow  https://en.wikipedia.org/wiki/Taplow_tube_station   \n",
       "4            Burnham  https://en.wikipedia.org/wiki/Burnham_tube_sta...   \n",
       "\n",
       "                                        railway_link              location  \\\n",
       "0  https://en.wikipedia.org/wiki/Reading_railway_...  51.4590Â°N 0.9722Â°W   \n",
       "1  https://en.wikipedia.org/wiki/Twyford_railway_...    51.476Â°N 0.863Â°W   \n",
       "2  https://en.wikipedia.org/wiki/Maidenhead_railw...    51.519Â°N 0.723Â°W   \n",
       "3  https://en.wikipedia.org/wiki/Taplow_railway_s...    51.524Â°N 0.681Â°W   \n",
       "4  https://en.wikipedia.org/wiki/Burnham_railway_...    51.524Â°N 0.646Â°W   \n",
       "\n",
       "   latitude  longitude  \n",
       "0    51.459    -0.9722  \n",
       "1    51.476    -0.8630  \n",
       "2    51.519    -0.7230  \n",
       "3    51.524    -0.6810  \n",
       "4    51.524    -0.6460  "
      ]
     },
     "execution_count": 13,
     "metadata": {},
     "output_type": "execute_result"
    }
   ],
   "source": [
    "df_crossrail = pd.read_csv(\"/Users/OliverM/Code/PlacesToLive/data/crossrail.csv\")\n",
    "df_crossrail.head()"
   ]
  },
  {
   "cell_type": "markdown",
   "metadata": {},
   "source": [
    "### UK International Airports\n",
    "\n",
    "Source from https://en.wikipedia.org/wiki/List_of_international_airports_by_country#United_Kingdom"
   ]
  },
  {
   "cell_type": "code",
   "execution_count": 14,
   "metadata": {
    "collapsed": false
   },
   "outputs": [
    {
     "data": {
      "text/html": [
       "<div>\n",
       "<table border=\"1\" class=\"dataframe\">\n",
       "  <thead>\n",
       "    <tr style=\"text-align: right;\">\n",
       "      <th></th>\n",
       "      <th>Location</th>\n",
       "      <th>Airport</th>\n",
       "      <th>IATA Code</th>\n",
       "      <th>Passenger Role</th>\n",
       "      <th>2015 Passengers</th>\n",
       "      <th>2015 Daily Avg.</th>\n",
       "      <th>link</th>\n",
       "      <th>location</th>\n",
       "      <th>longitude</th>\n",
       "      <th>latitude</th>\n",
       "    </tr>\n",
       "  </thead>\n",
       "  <tbody>\n",
       "    <tr>\n",
       "      <th>0</th>\n",
       "      <td>Birmingham</td>\n",
       "      <td>Birmingham International Airport</td>\n",
       "      <td>BHX</td>\n",
       "      <td>Medium</td>\n",
       "      <td>10,187,122</td>\n",
       "      <td>27,910</td>\n",
       "      <td>https://en.wikipedia.org/wiki/Birmingham_Inter...</td>\n",
       "      <td>52°27′14″N001°44′53″W</td>\n",
       "      <td>52.453889</td>\n",
       "      <td>-1.748056</td>\n",
       "    </tr>\n",
       "    <tr>\n",
       "      <th>1</th>\n",
       "      <td>Bournemouth</td>\n",
       "      <td>Bournemouth Airport</td>\n",
       "      <td>BOH</td>\n",
       "      <td>Small</td>\n",
       "      <td>705,403</td>\n",
       "      <td>1,933</td>\n",
       "      <td>https://en.wikipedia.org/wiki/Bournemouth_Airport</td>\n",
       "      <td>50.78000Â°N 1.84250Â°W</td>\n",
       "      <td>50.780000</td>\n",
       "      <td>-1.842500</td>\n",
       "    </tr>\n",
       "    <tr>\n",
       "      <th>2</th>\n",
       "      <td>Bristol</td>\n",
       "      <td>Bristol Airport</td>\n",
       "      <td>BRS</td>\n",
       "      <td>Medium</td>\n",
       "      <td>6,786,790</td>\n",
       "      <td>18,594</td>\n",
       "      <td>https://en.wikipedia.org/wiki/Bristol_Airport</td>\n",
       "      <td>51.38278Â°N 2.71917Â°W</td>\n",
       "      <td>51.382780</td>\n",
       "      <td>-2.719170</td>\n",
       "    </tr>\n",
       "    <tr>\n",
       "      <th>3</th>\n",
       "      <td>Cardiff</td>\n",
       "      <td>Cardiff Airport</td>\n",
       "      <td>CWL</td>\n",
       "      <td>Small</td>\n",
       "      <td>1,160,506</td>\n",
       "      <td>3,179</td>\n",
       "      <td>https://en.wikipedia.org/wiki/Cardiff_Airport</td>\n",
       "      <td>51.39667Â°N 3.34333Â°W</td>\n",
       "      <td>51.396670</td>\n",
       "      <td>-3.343330</td>\n",
       "    </tr>\n",
       "    <tr>\n",
       "      <th>4</th>\n",
       "      <td>Doncaster/Sheffield</td>\n",
       "      <td>Robin Hood Airport Doncaster Sheffield</td>\n",
       "      <td>DSA</td>\n",
       "      <td>Small</td>\n",
       "      <td>856,952</td>\n",
       "      <td>2,348</td>\n",
       "      <td>https://en.wikipedia.org/wiki/Robin_Hood_Airpo...</td>\n",
       "      <td>53.47528Â°N 1.00417Â°W</td>\n",
       "      <td>53.475280</td>\n",
       "      <td>-1.004170</td>\n",
       "    </tr>\n",
       "  </tbody>\n",
       "</table>\n",
       "</div>"
      ],
      "text/plain": [
       "              Location                                 Airport IATA Code  \\\n",
       "0           Birmingham        Birmingham International Airport       BHX   \n",
       "1          Bournemouth                     Bournemouth Airport       BOH   \n",
       "2              Bristol                         Bristol Airport       BRS   \n",
       "3              Cardiff                         Cardiff Airport       CWL   \n",
       "4  Doncaster/Sheffield  Robin Hood Airport Doncaster Sheffield       DSA   \n",
       "\n",
       "  Passenger Role 2015 Passengers 2015 Daily Avg.  \\\n",
       "0         Medium      10,187,122          27,910   \n",
       "1          Small         705,403           1,933   \n",
       "2         Medium       6,786,790          18,594   \n",
       "3          Small       1,160,506           3,179   \n",
       "4          Small         856,952           2,348   \n",
       "\n",
       "                                                link                location  \\\n",
       "0  https://en.wikipedia.org/wiki/Birmingham_Inter...   52°27′14″N001°44′53″W   \n",
       "1  https://en.wikipedia.org/wiki/Bournemouth_Airport  50.78000Â°N 1.84250Â°W   \n",
       "2      https://en.wikipedia.org/wiki/Bristol_Airport  51.38278Â°N 2.71917Â°W   \n",
       "3      https://en.wikipedia.org/wiki/Cardiff_Airport  51.39667Â°N 3.34333Â°W   \n",
       "4  https://en.wikipedia.org/wiki/Robin_Hood_Airpo...  53.47528Â°N 1.00417Â°W   \n",
       "\n",
       "   longitude  latitude  \n",
       "0  52.453889 -1.748056  \n",
       "1  50.780000 -1.842500  \n",
       "2  51.382780 -2.719170  \n",
       "3  51.396670 -3.343330  \n",
       "4  53.475280 -1.004170  "
      ]
     },
     "execution_count": 14,
     "metadata": {},
     "output_type": "execute_result"
    }
   ],
   "source": [
    "df_airports = pd.read_csv(\"/Users/OliverM/Code/PlacesToLive/data/international_airports.csv\")\n",
    "df_airports.head()"
   ]
  },
  {
   "cell_type": "code",
   "execution_count": 15,
   "metadata": {
    "collapsed": false,
    "scrolled": true
   },
   "outputs": [
    {
     "data": {
      "text/html": [
       "<iframe id=\"igraph\" scrolling=\"no\" style=\"border:none;\" seamless=\"seamless\" src=\"https://plot.ly/~omeyrick/37.embed\" height=\"525px\" width=\"100%\"></iframe>"
      ],
      "text/plain": [
       "<plotly.tools.PlotlyDisplay object>"
      ]
     },
     "execution_count": 15,
     "metadata": {},
     "output_type": "execute_result"
    }
   ],
   "source": [
    "import plotly.plotly as py\n",
    "from plotly.graph_objs import *\n",
    "\n",
    "mapbox_access_token = 'pk.eyJ1Ijoib21leXJpY2siLCJhIjoiY2l6dm1uZmM4MDAwdjMzbzBoOGhhNWM3NyJ9.ztyR2B5aLZ49mMfZzEWhig'\n",
    "\n",
    "data = Data([\n",
    "    #Scattermapbox(\n",
    "    #    name='Top 100 Places To Live',\n",
    "    #    lat=df_places['latitude'],\n",
    "    #    lon=df_places['longitude'],\n",
    "    #    text=df_places['street name'],\n",
    "    #    mode='markers',\n",
    "    #    marker=Marker(\n",
    "    #        size=18,\n",
    "    #        color='rgb(80, 168, 227)',\n",
    "    #        opacity=0.3\n",
    "    #    ),\n",
    "    #),\n",
    "    Scattermapbox(\n",
    "        name='Halifax Places To Live Survey',\n",
    "        lat=df_qol['latitude'],\n",
    "        lon=df_qol['longitude'],\n",
    "        text=df_qol['Local Authority'],\n",
    "        mode='markers',\n",
    "        marker=Marker(\n",
    "            size=20,\n",
    "            color='rgb(80, 168, 227)',\n",
    "            opacity=0.3\n",
    "        ),\n",
    "    ),\n",
    "    Scattermapbox(\n",
    "        name='Top Places For Artists',\n",
    "        lat=df_art['latitude'],\n",
    "        lon=df_art['longitude'],\n",
    "        text=df_art['location'],\n",
    "        mode='markers',\n",
    "        marker=Marker(\n",
    "            size=10,\n",
    "            color='rgb(244,220,191)',\n",
    "            opacity=0.5\n",
    "        ),\n",
    "    ),\n",
    "    Scattermapbox(\n",
    "        name='HMC Schools',\n",
    "        lat=df_hmc['latitude'],\n",
    "        lon=df_hmc['longitude'],\n",
    "        text=df_hmc['hmc school'],\n",
    "        mode='markers',\n",
    "        marker=Marker(\n",
    "            size=6,\n",
    "            color='rgb(13, 71, 161)',\n",
    "            opacity=0.7\n",
    "        ),\n",
    "    ),\n",
    "    #Scattermapbox(\n",
    "    #    name='Crown Post Offices',\n",
    "    #    lat=df_post_offices['latitude'],\n",
    "    #    lon=df_post_offices['longitude'],\n",
    "    #    text=df_post_offices['branch_name'],\n",
    "    #    mode='markers',\n",
    "    #    marker=Marker(\n",
    "    #        size=6,\n",
    "    #        color='rgb(184, 16, 16)',\n",
    "    #        opacity=0.7\n",
    "    #    ),\n",
    "    #),\n",
    "    Scattermapbox(\n",
    "        name='Cross Rail Stations',\n",
    "        lat=df_crossrail['latitude'],\n",
    "        lon=df_crossrail['longitude'],\n",
    "        text=df_crossrail['cross rail station'],\n",
    "        mode='markers',\n",
    "        marker=Marker(\n",
    "            size=6,\n",
    "            color='rgb(156, 39, 176)',\n",
    "            opacity=0.7\n",
    "        ),\n",
    "    ),\n",
    "    Scattermapbox(\n",
    "        name='Outstanding Secondaries',\n",
    "        lat=df_secondary_offsted['latitude'],\n",
    "        lon=df_secondary_offsted['longitude'],\n",
    "        text=df_secondary_offsted['School name'],\n",
    "        mode='markers',\n",
    "        marker=Marker(\n",
    "            size=6,\n",
    "            color='rgb(33, 150, 243)',\n",
    "            opacity=0.7\n",
    "        ),\n",
    "    ),\n",
    "    Scattermapbox(\n",
    "        name='Waitrose',\n",
    "        lat=df_waitrose['latitude'],\n",
    "        lon=df_waitrose['longitude'],\n",
    "        text=df_waitrose['store name'],\n",
    "        mode='markers',\n",
    "        marker=Marker(\n",
    "            size=6,\n",
    "            color='rgb(76, 175, 80)',\n",
    "            opacity=0.7\n",
    "        ),\n",
    "    ),\n",
    "    Scattermapbox(\n",
    "        name='Airports',\n",
    "        lat=df_airports['latitude'],\n",
    "        lon=df_airports['longitude'],\n",
    "        text=df_airports['Airport'],\n",
    "        mode='markers',\n",
    "        marker=Marker(\n",
    "            size=6,\n",
    "            color='rgb(255, 235, 59)',\n",
    "            opacity=0.7\n",
    "        ),\n",
    "    ),\n",
    "    Scattermapbox(\n",
    "        name='Top UK Tech Centres',\n",
    "        lat=df_tech['latitude'],\n",
    "        lon=df_tech['longitude'],\n",
    "        text=df_tech['city'],\n",
    "        mode='markers',\n",
    "        marker=Marker(\n",
    "            size=12,\n",
    "            color='rgb(237, 2, 11)',\n",
    "            opacity=0.5\n",
    "        ),\n",
    "    )]\n",
    ")\n",
    "\n",
    "layout = Layout(\n",
    "    autosize=True,\n",
    "    hovermode='closest',\n",
    "    showlegend=True,\n",
    "    mapbox=dict(\n",
    "        accesstoken=mapbox_access_token,\n",
    "        bearing=0,\n",
    "        center=dict(\n",
    "            lat=52,\n",
    "            lon=-1   \n",
    "        ),\n",
    "        zoom=6,\n",
    "        style='basic'\n",
    "    ),\n",
    ")\n",
    "\n",
    "fig = dict(data=data, layout=layout)\n",
    "py.iplot(fig, filename='Places to live')"
   ]
  },
  {
   "cell_type": "code",
   "execution_count": null,
   "metadata": {
    "collapsed": true
   },
   "outputs": [],
   "source": []
  }
 ],
 "metadata": {
  "kernelspec": {
   "display_name": "Python [conda root]",
   "language": "python",
   "name": "conda-root-py"
  },
  "language_info": {
   "codemirror_mode": {
    "name": "ipython",
    "version": 3
   },
   "file_extension": ".py",
   "mimetype": "text/x-python",
   "name": "python",
   "nbconvert_exporter": "python",
   "pygments_lexer": "ipython3",
   "version": "3.5.2"
  }
 },
 "nbformat": 4,
 "nbformat_minor": 0
}
