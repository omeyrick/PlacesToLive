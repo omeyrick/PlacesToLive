{
 "cells": [
  {
   "cell_type": "markdown",
   "metadata": {
    "extensions": {
     "jupyter_dashboards": {
      "version": 1,
      "views": {
       "grid_default": {
        "col": 0,
        "height": 4,
        "hidden": false,
        "row": 0,
        "width": 4
       },
       "report_default": {
        "hidden": false
       }
      }
     }
    }
   },
   "source": [
    "# UK Places To Live"
   ]
  },
  {
   "cell_type": "code",
   "execution_count": 84,
   "metadata": {
    "collapsed": true,
    "extensions": {
     "jupyter_dashboards": {
      "version": 1,
      "views": {
       "grid_default": {
        "hidden": true
       },
       "report_default": {
        "hidden": true
       }
      }
     }
    }
   },
   "outputs": [],
   "source": [
    "import pandas as pd\n",
    "import numpy as np\n",
    "import scipy as sp\n",
    "from ipywidgets import interact, interactive, fixed, interact_manual\n",
    "import ipywidgets as widgets\n",
    "import config as cfg\n",
    "\n",
    "\n",
    "import plotly.plotly as py\n",
    "py.sign_in(cfg.plotly['username'], cfg.plotly['key'])\n",
    "from plotly.tools import FigureFactory as ff"
   ]
  },
  {
   "cell_type": "markdown",
   "metadata": {
    "extensions": {
     "jupyter_dashboards": {
      "version": 1,
      "views": {
       "grid_default": {
        "col": 4,
        "height": 4,
        "hidden": false,
        "row": 0,
        "width": 4
       },
       "report_default": {
        "hidden": true
       }
      }
     }
    }
   },
   "source": [
    "## UK Postcodes To Lat/Lon"
   ]
  },
  {
   "cell_type": "code",
   "execution_count": 3,
   "metadata": {
    "extensions": {
     "jupyter_dashboards": {
      "version": 1,
      "views": {
       "grid_default": {
        "col": 8,
        "height": 9,
        "hidden": false,
        "row": 0,
        "width": 4
       },
       "report_default": {
        "hidden": true
       }
      }
     }
    }
   },
   "outputs": [
    {
     "data": {
      "text/html": [
       "<div>\n",
       "<table border=\"1\" class=\"dataframe\">\n",
       "  <thead>\n",
       "    <tr style=\"text-align: right;\">\n",
       "      <th></th>\n",
       "      <th>id</th>\n",
       "      <th>latitude</th>\n",
       "      <th>longitude</th>\n",
       "    </tr>\n",
       "  </thead>\n",
       "  <tbody>\n",
       "    <tr>\n",
       "      <th>count</th>\n",
       "      <td>1.738223e+06</td>\n",
       "      <td>1.738223e+06</td>\n",
       "      <td>1.738223e+06</td>\n",
       "    </tr>\n",
       "    <tr>\n",
       "      <th>mean</th>\n",
       "      <td>9.176447e+05</td>\n",
       "      <td>5.275938e+01</td>\n",
       "      <td>-1.736150e+00</td>\n",
       "    </tr>\n",
       "    <tr>\n",
       "      <th>std</th>\n",
       "      <td>5.375113e+05</td>\n",
       "      <td>1.626506e+00</td>\n",
       "      <td>1.656172e+00</td>\n",
       "    </tr>\n",
       "    <tr>\n",
       "      <th>min</th>\n",
       "      <td>1.000000e+00</td>\n",
       "      <td>4.918194e+01</td>\n",
       "      <td>-8.163139e+00</td>\n",
       "    </tr>\n",
       "    <tr>\n",
       "      <th>25%</th>\n",
       "      <td>4.577865e+05</td>\n",
       "      <td>5.150286e+01</td>\n",
       "      <td>-2.733690e+00</td>\n",
       "    </tr>\n",
       "    <tr>\n",
       "      <th>50%</th>\n",
       "      <td>9.130330e+05</td>\n",
       "      <td>5.245770e+01</td>\n",
       "      <td>-1.597863e+00</td>\n",
       "    </tr>\n",
       "    <tr>\n",
       "      <th>75%</th>\n",
       "      <td>1.367422e+06</td>\n",
       "      <td>5.364991e+01</td>\n",
       "      <td>-3.770669e-01</td>\n",
       "    </tr>\n",
       "    <tr>\n",
       "      <th>max</th>\n",
       "      <td>2.587705e+06</td>\n",
       "      <td>1.000000e+02</td>\n",
       "      <td>1.760443e+00</td>\n",
       "    </tr>\n",
       "  </tbody>\n",
       "</table>\n",
       "</div>"
      ],
      "text/plain": [
       "                 id      latitude     longitude\n",
       "count  1.738223e+06  1.738223e+06  1.738223e+06\n",
       "mean   9.176447e+05  5.275938e+01 -1.736150e+00\n",
       "std    5.375113e+05  1.626506e+00  1.656172e+00\n",
       "min    1.000000e+00  4.918194e+01 -8.163139e+00\n",
       "25%    4.577865e+05  5.150286e+01 -2.733690e+00\n",
       "50%    9.130330e+05  5.245770e+01 -1.597863e+00\n",
       "75%    1.367422e+06  5.364991e+01 -3.770669e-01\n",
       "max    2.587705e+06  1.000000e+02  1.760443e+00"
      ]
     },
     "execution_count": 3,
     "metadata": {},
     "output_type": "execute_result"
    }
   ],
   "source": [
    "df_postcodes = pd.read_csv(\"/Users/OliverM/Code/PlacesToLive/data/Base_data/ukpostcodes.csv\")\n",
    "df_postcodes.describe()"
   ]
  },
  {
   "cell_type": "markdown",
   "metadata": {
    "extensions": {
     "jupyter_dashboards": {
      "version": 1,
      "views": {
       "grid_default": {
        "col": 0,
        "height": 5,
        "hidden": false,
        "row": 9,
        "width": 12
       },
       "report_default": {
        "hidden": false
       }
      }
     }
    }
   },
   "source": [
    "## Top Places To Live\n",
    "\n",
    "* 2017 Times Places to Live: http://www.thetimes.co.uk/article/sunday-times-best-places-to-live-2017-3qkwjnvrm#/\n",
    "* 2016 Halifax Qualify of Life Survey: https://static.halifax.co.uk/assets/pdf/mortgages/pdf/161217-Halifax-Quality-of-Life%202016-FINAL.pdf\n",
    "* Daily Mail Top 100 Places To Live: http://www.thisismoney.co.uk/money/mortgageshome/article-3221296/The-100-best-places-families-live-revealed.html"
   ]
  },
  {
   "cell_type": "markdown",
   "metadata": {
    "extensions": {
     "jupyter_dashboards": {
      "version": 1,
      "views": {
       "grid_default": {},
       "report_default": {
        "hidden": false
       }
      }
     }
    }
   },
   "source": [
    "### The Times, Places To Live Survey 2017"
   ]
  },
  {
   "cell_type": "code",
   "execution_count": 4,
   "metadata": {
    "extensions": {
     "jupyter_dashboards": {
      "version": 1,
      "views": {
       "grid_default": {
        "col": 0,
        "height": 11,
        "hidden": false,
        "row": 14,
        "width": 11
       },
       "report_default": {
        "hidden": false
       }
      }
     }
    }
   },
   "outputs": [
    {
     "data": {
      "text/html": [
       "<div>\n",
       "<table border=\"1\" class=\"dataframe\">\n",
       "  <thead>\n",
       "    <tr style=\"text-align: right;\">\n",
       "      <th></th>\n",
       "      <th>Place</th>\n",
       "      <th>Region</th>\n",
       "      <th>County</th>\n",
       "      <th>Link</th>\n",
       "      <th>Link2</th>\n",
       "      <th>Geo Merge</th>\n",
       "      <th>latitude</th>\n",
       "      <th>longitude</th>\n",
       "    </tr>\n",
       "  </thead>\n",
       "  <tbody>\n",
       "    <tr>\n",
       "      <th>0</th>\n",
       "      <td>Woodbridge</td>\n",
       "      <td>East</td>\n",
       "      <td>Suffolk</td>\n",
       "      <td>https://en.wikipedia.org/wiki/Woodbridge,_Suffolk</td>\n",
       "      <td>https://en.wikipedia.org/wiki/Woodbridge</td>\n",
       "      <td>52.0935?N 1.3179?E</td>\n",
       "      <td>52.093500</td>\n",
       "      <td>1.3179</td>\n",
       "    </tr>\n",
       "    <tr>\n",
       "      <th>1</th>\n",
       "      <td>Cambridge</td>\n",
       "      <td>East</td>\n",
       "      <td>Cambridgeshire</td>\n",
       "      <td>https://en.wikipedia.org/wiki/Cambridge,_Cambr...</td>\n",
       "      <td>https://en.wikipedia.org/wiki/Cambridge</td>\n",
       "      <td>52.205?N 0.119?E</td>\n",
       "      <td>52.205000</td>\n",
       "      <td>0.119</td>\n",
       "    </tr>\n",
       "    <tr>\n",
       "      <th>2</th>\n",
       "      <td>Aylsham</td>\n",
       "      <td>East</td>\n",
       "      <td>Norfolk</td>\n",
       "      <td>https://en.wikipedia.org/wiki/Aylsham,_Norfolk</td>\n",
       "      <td>https://en.wikipedia.org/wiki/Aylsham</td>\n",
       "      <td>52.79?N 1.256?E</td>\n",
       "      <td>52.790000</td>\n",
       "      <td>1.256</td>\n",
       "    </tr>\n",
       "    <tr>\n",
       "      <th>3</th>\n",
       "      <td>Bungay</td>\n",
       "      <td>East</td>\n",
       "      <td>Suffolk</td>\n",
       "      <td>https://en.wikipedia.org/wiki/Bungay,_Suffolk</td>\n",
       "      <td>https://en.wikipedia.org/wiki/Bungay</td>\n",
       "      <td>52.4496?N 1.4477?E</td>\n",
       "      <td>52.449600</td>\n",
       "      <td>1.4477</td>\n",
       "    </tr>\n",
       "    <tr>\n",
       "      <th>4</th>\n",
       "      <td>Dedham</td>\n",
       "      <td>East</td>\n",
       "      <td>Essex</td>\n",
       "      <td>https://en.wikipedia.org/wiki/Dedham,_Essex</td>\n",
       "      <td>https://en.wikipedia.org/wiki/Dedham</td>\n",
       "      <td>51.95888?N 0.99341?E</td>\n",
       "      <td>51.958880</td>\n",
       "      <td>0.99341</td>\n",
       "    </tr>\n",
       "    <tr>\n",
       "      <th>5</th>\n",
       "      <td>Ely</td>\n",
       "      <td>East</td>\n",
       "      <td>Cambridgeshire</td>\n",
       "      <td>https://en.wikipedia.org/wiki/Ely,_Cambridgeshire</td>\n",
       "      <td>https://en.wikipedia.org/wiki/Ely</td>\n",
       "      <td>52.40?N 0.26?E</td>\n",
       "      <td>52.400000</td>\n",
       "      <td>0.26</td>\n",
       "    </tr>\n",
       "    <tr>\n",
       "      <th>6</th>\n",
       "      <td>Felsted</td>\n",
       "      <td>East</td>\n",
       "      <td>Essex</td>\n",
       "      <td>https://en.wikipedia.org/wiki/Felsted,_Essex</td>\n",
       "      <td>https://en.wikipedia.org/wiki/Felsted</td>\n",
       "      <td>51.856?N 0.436?E</td>\n",
       "      <td>51.856000</td>\n",
       "      <td>0.436</td>\n",
       "    </tr>\n",
       "    <tr>\n",
       "      <th>7</th>\n",
       "      <td>Finchingfield</td>\n",
       "      <td>East</td>\n",
       "      <td>Essex</td>\n",
       "      <td>https://en.wikipedia.org/wiki/Finchingfield,_E...</td>\n",
       "      <td>https://en.wikipedia.org/wiki/Finchingfield</td>\n",
       "      <td>51.96747?N 0.44995?E</td>\n",
       "      <td>51.967470</td>\n",
       "      <td>0.44995</td>\n",
       "    </tr>\n",
       "    <tr>\n",
       "      <th>8</th>\n",
       "      <td>Framlingham</td>\n",
       "      <td>East</td>\n",
       "      <td>Suffolk</td>\n",
       "      <td>https://en.wikipedia.org/wiki/Framlingham,_Suf...</td>\n",
       "      <td>https://en.wikipedia.org/wiki/Framlingham</td>\n",
       "      <td>52.22207?N 1.34342?E</td>\n",
       "      <td>52.222070</td>\n",
       "      <td>1.34342</td>\n",
       "    </tr>\n",
       "    <tr>\n",
       "      <th>9</th>\n",
       "      <td>The Shelfords</td>\n",
       "      <td>East</td>\n",
       "      <td>Cambridgeshire</td>\n",
       "      <td>https://en.wikipedia.org/wiki/The Shelfords,_C...</td>\n",
       "      <td>https://en.wikipedia.org/wiki/The Shelfords</td>\n",
       "      <td>52.15038, 0.13575</td>\n",
       "      <td>52.150380</td>\n",
       "      <td>0.13575</td>\n",
       "    </tr>\n",
       "    <tr>\n",
       "      <th>10</th>\n",
       "      <td>Hemingford Grey</td>\n",
       "      <td>East</td>\n",
       "      <td>Cambridgeshire</td>\n",
       "      <td>https://en.wikipedia.org/wiki/Hemingford Grey,...</td>\n",
       "      <td>https://en.wikipedia.org/wiki/Hemingford Grey</td>\n",
       "      <td>52.318?N 0.104?W</td>\n",
       "      <td>52.318000</td>\n",
       "      <td>-0.104</td>\n",
       "    </tr>\n",
       "    <tr>\n",
       "      <th>11</th>\n",
       "      <td>Norwich</td>\n",
       "      <td>East</td>\n",
       "      <td>Norfolk</td>\n",
       "      <td>https://en.wikipedia.org/wiki/Norwich,_Norfolk</td>\n",
       "      <td>https://en.wikipedia.org/wiki/Norwich</td>\n",
       "      <td>52.6?N 1.3?E</td>\n",
       "      <td>52.600000</td>\n",
       "      <td>1.3</td>\n",
       "    </tr>\n",
       "    <tr>\n",
       "      <th>12</th>\n",
       "      <td>Orford</td>\n",
       "      <td>East</td>\n",
       "      <td>Suffolk</td>\n",
       "      <td>https://en.wikipedia.org/wiki/Orford,_Suffolk</td>\n",
       "      <td>https://en.wikipedia.org/wiki/Orford</td>\n",
       "      <td>52.095?N 1.534?E</td>\n",
       "      <td>52.095000</td>\n",
       "      <td>1.534</td>\n",
       "    </tr>\n",
       "    <tr>\n",
       "      <th>13</th>\n",
       "      <td>Saffron Walden</td>\n",
       "      <td>East</td>\n",
       "      <td>Essex</td>\n",
       "      <td>https://en.wikipedia.org/wiki/Saffron Walden,_...</td>\n",
       "      <td>https://en.wikipedia.org/wiki/Saffron Walden</td>\n",
       "      <td>52.022?N 0.243?E</td>\n",
       "      <td>52.022000</td>\n",
       "      <td>0.243</td>\n",
       "    </tr>\n",
       "    <tr>\n",
       "      <th>14</th>\n",
       "      <td>Shenfield</td>\n",
       "      <td>East</td>\n",
       "      <td>Essex</td>\n",
       "      <td>https://en.wikipedia.org/wiki/Shenfield,_Essex</td>\n",
       "      <td>https://en.wikipedia.org/wiki/Shenfield</td>\n",
       "      <td>51.6297?N 0.3192?E</td>\n",
       "      <td>51.629700</td>\n",
       "      <td>0.3192</td>\n",
       "    </tr>\n",
       "    <tr>\n",
       "      <th>15</th>\n",
       "      <td>Wells-next-the-Sea</td>\n",
       "      <td>East</td>\n",
       "      <td>Norfolk</td>\n",
       "      <td>https://en.wikipedia.org/wiki/Wells-next-the-S...</td>\n",
       "      <td>https://en.wikipedia.org/wiki/Wells-next-the-Sea</td>\n",
       "      <td>52.95?N 0.85?E</td>\n",
       "      <td>52.950000</td>\n",
       "      <td>0.85</td>\n",
       "    </tr>\n",
       "    <tr>\n",
       "      <th>16</th>\n",
       "      <td>Shipston-on-Stour</td>\n",
       "      <td>Midlands</td>\n",
       "      <td>Warwickshire</td>\n",
       "      <td>https://en.wikipedia.org/wiki/Shipston-on-Stou...</td>\n",
       "      <td>https://en.wikipedia.org/wiki/Shipston-on-Stour</td>\n",
       "      <td>52.060?N 1.623?W</td>\n",
       "      <td>52.060000</td>\n",
       "      <td>-1.623</td>\n",
       "    </tr>\n",
       "    <tr>\n",
       "      <th>17</th>\n",
       "      <td>Stamford</td>\n",
       "      <td>Midlands</td>\n",
       "      <td>Lincolnshire</td>\n",
       "      <td>https://en.wikipedia.org/wiki/Stamford,_Lincol...</td>\n",
       "      <td>https://en.wikipedia.org/wiki/Stamford</td>\n",
       "      <td>52.656?N 0.484?W</td>\n",
       "      <td>52.656000</td>\n",
       "      <td>-0.484</td>\n",
       "    </tr>\n",
       "    <tr>\n",
       "      <th>18</th>\n",
       "      <td>Bishop’s Castle</td>\n",
       "      <td>Midlands</td>\n",
       "      <td>Shropshire</td>\n",
       "      <td>https://en.wikipedia.org/wiki/Bishop’s Castle,...</td>\n",
       "      <td>https://en.wikipedia.org/wiki/Bishop’s Castle</td>\n",
       "      <td>52.493, -2.9978</td>\n",
       "      <td>52.493000</td>\n",
       "      <td>-2.9978</td>\n",
       "    </tr>\n",
       "    <tr>\n",
       "      <th>19</th>\n",
       "      <td>Leamington Spa</td>\n",
       "      <td>Midlands</td>\n",
       "      <td>Warwickshire</td>\n",
       "      <td>https://en.wikipedia.org/wiki/Leamington Spa,_...</td>\n",
       "      <td>https://en.wikipedia.org/wiki/Leamington Spa</td>\n",
       "      <td>52.292?N 1.537?W</td>\n",
       "      <td>52.292000</td>\n",
       "      <td>-1.537</td>\n",
       "    </tr>\n",
       "    <tr>\n",
       "      <th>20</th>\n",
       "      <td>Ledbury</td>\n",
       "      <td>Midlands</td>\n",
       "      <td>Herefordshire</td>\n",
       "      <td>https://en.wikipedia.org/wiki/Ledbury,_Herefor...</td>\n",
       "      <td>https://en.wikipedia.org/wiki/Ledbury</td>\n",
       "      <td>52.0339?N 2.4235?W</td>\n",
       "      <td>52.033900</td>\n",
       "      <td>-2.4235</td>\n",
       "    </tr>\n",
       "    <tr>\n",
       "      <th>21</th>\n",
       "      <td>Leek</td>\n",
       "      <td>Midlands</td>\n",
       "      <td>Staffordshire</td>\n",
       "      <td>https://en.wikipedia.org/wiki/Leek,_Staffordshire</td>\n",
       "      <td>https://en.wikipedia.org/wiki/Leek</td>\n",
       "      <td>53.108?N 2.0234?W</td>\n",
       "      <td>53.108000</td>\n",
       "      <td>-2.0234</td>\n",
       "    </tr>\n",
       "    <tr>\n",
       "      <th>22</th>\n",
       "      <td>Leominster</td>\n",
       "      <td>Midlands</td>\n",
       "      <td>Herefordshire</td>\n",
       "      <td>https://en.wikipedia.org/wiki/Leominster,_Here...</td>\n",
       "      <td>https://en.wikipedia.org/wiki/Leominster</td>\n",
       "      <td>52.2282?N 2.7385?W</td>\n",
       "      <td>52.228200</td>\n",
       "      <td>-2.7385</td>\n",
       "    </tr>\n",
       "    <tr>\n",
       "      <th>23</th>\n",
       "      <td>Moseley</td>\n",
       "      <td>Midlands</td>\n",
       "      <td>Birmingham</td>\n",
       "      <td>https://en.wikipedia.org/wiki/Moseley,_Birmingham</td>\n",
       "      <td>https://en.wikipedia.org/wiki/Moseley</td>\n",
       "      <td>52.44671?N 1.88814?W</td>\n",
       "      <td>52.446710</td>\n",
       "      <td>-1.88814</td>\n",
       "    </tr>\n",
       "    <tr>\n",
       "      <th>24</th>\n",
       "      <td>Oakham</td>\n",
       "      <td>Midlands</td>\n",
       "      <td>Rutland</td>\n",
       "      <td>https://en.wikipedia.org/wiki/Oakham,_Rutland</td>\n",
       "      <td>https://en.wikipedia.org/wiki/Oakham</td>\n",
       "      <td>52.6705?N 0.7333?W</td>\n",
       "      <td>52.670500</td>\n",
       "      <td>-0.7333</td>\n",
       "    </tr>\n",
       "    <tr>\n",
       "      <th>25</th>\n",
       "      <td>Oundle</td>\n",
       "      <td>Midlands</td>\n",
       "      <td>Northamptonshire</td>\n",
       "      <td>https://en.wikipedia.org/wiki/Oundle,_Northamp...</td>\n",
       "      <td>https://en.wikipedia.org/wiki/Oundle</td>\n",
       "      <td>52.480?N 0.472?W</td>\n",
       "      <td>52.480000</td>\n",
       "      <td>-0.472</td>\n",
       "    </tr>\n",
       "    <tr>\n",
       "      <th>26</th>\n",
       "      <td>Southwell</td>\n",
       "      <td>Midlands</td>\n",
       "      <td>Nottinghamshire</td>\n",
       "      <td>https://en.wikipedia.org/wiki/Southwell,_Notti...</td>\n",
       "      <td>https://en.wikipedia.org/wiki/Southwell</td>\n",
       "      <td>53.07?N 0.95?W</td>\n",
       "      <td>53.070000</td>\n",
       "      <td>-0.95</td>\n",
       "    </tr>\n",
       "    <tr>\n",
       "      <th>27</th>\n",
       "      <td>Tideswell</td>\n",
       "      <td>Midlands</td>\n",
       "      <td>Derbyshire</td>\n",
       "      <td>https://en.wikipedia.org/wiki/Tideswell,_Derby...</td>\n",
       "      <td>https://en.wikipedia.org/wiki/Tideswell</td>\n",
       "      <td>53.273?N 1.774?W</td>\n",
       "      <td>53.273000</td>\n",
       "      <td>-1.774</td>\n",
       "    </tr>\n",
       "    <tr>\n",
       "      <th>28</th>\n",
       "      <td>Upton-upon-Severn</td>\n",
       "      <td>Midlands</td>\n",
       "      <td>Worcestershire</td>\n",
       "      <td>https://en.wikipedia.org/wiki/Upton-upon-Sever...</td>\n",
       "      <td>https://en.wikipedia.org/wiki/Upton-upon-Severn</td>\n",
       "      <td>52.063?N 2.215?W</td>\n",
       "      <td>52.063000</td>\n",
       "      <td>-2.215</td>\n",
       "    </tr>\n",
       "    <tr>\n",
       "      <th>29</th>\n",
       "      <td>Wadhurst</td>\n",
       "      <td>Southeast</td>\n",
       "      <td>East Sussex</td>\n",
       "      <td>https://en.wikipedia.org/wiki/Wadhurst ,_East ...</td>\n",
       "      <td>https://en.wikipedia.org/wiki/Wadhurst</td>\n",
       "      <td>51.06?N 0.34?E</td>\n",
       "      <td>51.060000</td>\n",
       "      <td>0.34</td>\n",
       "    </tr>\n",
       "    <tr>\n",
       "      <th>...</th>\n",
       "      <td>...</td>\n",
       "      <td>...</td>\n",
       "      <td>...</td>\n",
       "      <td>...</td>\n",
       "      <td>...</td>\n",
       "      <td>...</td>\n",
       "      <td>...</td>\n",
       "      <td>...</td>\n",
       "    </tr>\n",
       "    <tr>\n",
       "      <th>69</th>\n",
       "      <td>Knutsford</td>\n",
       "      <td>Northwast</td>\n",
       "      <td>Cheshire</td>\n",
       "      <td>https://en.wikipedia.org/wiki/Knutsford,_Cheshire</td>\n",
       "      <td>https://en.wikipedia.org/wiki/Knutsford</td>\n",
       "      <td>53.300?N 2.371?W</td>\n",
       "      <td>53.300000</td>\n",
       "      <td>-2.371</td>\n",
       "    </tr>\n",
       "    <tr>\n",
       "      <th>70</th>\n",
       "      <td>Chester</td>\n",
       "      <td>Northwast</td>\n",
       "      <td>Cheshire</td>\n",
       "      <td>https://en.wikipedia.org/wiki/Chester,_Cheshire</td>\n",
       "      <td>https://en.wikipedia.org/wiki/Chester</td>\n",
       "      <td>53.1903?N 2.8916?W</td>\n",
       "      <td>53.190300</td>\n",
       "      <td>-2.8916</td>\n",
       "    </tr>\n",
       "    <tr>\n",
       "      <th>71</th>\n",
       "      <td>Alston</td>\n",
       "      <td>Northwast</td>\n",
       "      <td>Cumbria</td>\n",
       "      <td>https://en.wikipedia.org/wiki/Alston,_Cumbria</td>\n",
       "      <td>https://en.wikipedia.org/wiki/Alston</td>\n",
       "      <td>54.810?N 2.441?W</td>\n",
       "      <td>54.810000</td>\n",
       "      <td>-2.441</td>\n",
       "    </tr>\n",
       "    <tr>\n",
       "      <th>72</th>\n",
       "      <td>Chorlton-cum-Hardy</td>\n",
       "      <td>Northwast</td>\n",
       "      <td>Manchester</td>\n",
       "      <td>https://en.wikipedia.org/wiki/Chorlton-cum-Har...</td>\n",
       "      <td>https://en.wikipedia.org/wiki/Chorlton-cum-Hardy</td>\n",
       "      <td>53.442?N 2.277?W</td>\n",
       "      <td>53.442000</td>\n",
       "      <td>-2.277</td>\n",
       "    </tr>\n",
       "    <tr>\n",
       "      <th>73</th>\n",
       "      <td>Clitheroe</td>\n",
       "      <td>Northwast</td>\n",
       "      <td>Lancashire</td>\n",
       "      <td>https://en.wikipedia.org/wiki/Clitheroe,_Lanca...</td>\n",
       "      <td>https://en.wikipedia.org/wiki/Clitheroe</td>\n",
       "      <td>53.8711?N 2.3916?W</td>\n",
       "      <td>53.871100</td>\n",
       "      <td>-2.3916</td>\n",
       "    </tr>\n",
       "    <tr>\n",
       "      <th>74</th>\n",
       "      <td>Kendal</td>\n",
       "      <td>Northwast</td>\n",
       "      <td>Cumbria</td>\n",
       "      <td>https://en.wikipedia.org/wiki/Kendal,_Cumbria</td>\n",
       "      <td>https://en.wikipedia.org/wiki/Kendal</td>\n",
       "      <td>54.326?N 2.745?W</td>\n",
       "      <td>54.326000</td>\n",
       "      <td>-2.745</td>\n",
       "    </tr>\n",
       "    <tr>\n",
       "      <th>75</th>\n",
       "      <td>Kirkby Lonsdale</td>\n",
       "      <td>Northwast</td>\n",
       "      <td>Cumbria</td>\n",
       "      <td>https://en.wikipedia.org/wiki/Kirkby Lonsdale,...</td>\n",
       "      <td>https://en.wikipedia.org/wiki/Kirkby Lonsdale</td>\n",
       "      <td>54.201?N 2.597?W</td>\n",
       "      <td>54.201000</td>\n",
       "      <td>-2.597</td>\n",
       "    </tr>\n",
       "    <tr>\n",
       "      <th>76</th>\n",
       "      <td>Baltic Triangle</td>\n",
       "      <td>Northwast</td>\n",
       "      <td>Liverpool</td>\n",
       "      <td>https://en.wikipedia.org/wiki/Baltic Triangle,...</td>\n",
       "      <td>https://en.wikipedia.org/wiki/Baltic Triangle</td>\n",
       "      <td>53.397?N 2.983?W</td>\n",
       "      <td>53.397000</td>\n",
       "      <td>-2.983</td>\n",
       "    </tr>\n",
       "    <tr>\n",
       "      <th>77</th>\n",
       "      <td>Lymm</td>\n",
       "      <td>Northwast</td>\n",
       "      <td>Cheshire</td>\n",
       "      <td>https://en.wikipedia.org/wiki/Lymm,_Cheshire</td>\n",
       "      <td>https://en.wikipedia.org/wiki/Lymm</td>\n",
       "      <td>53.383399?N 2.475034?W</td>\n",
       "      <td>53.383399</td>\n",
       "      <td>-2.475034</td>\n",
       "    </tr>\n",
       "    <tr>\n",
       "      <th>78</th>\n",
       "      <td>Ancoats</td>\n",
       "      <td>Northwast</td>\n",
       "      <td>Manchester</td>\n",
       "      <td>https://en.wikipedia.org/wiki/Ancoats,_Manchester</td>\n",
       "      <td>https://en.wikipedia.org/wiki/Ancoats</td>\n",
       "      <td>53.483333?N 2.229722?W</td>\n",
       "      <td>53.483333</td>\n",
       "      <td>-2.229722</td>\n",
       "    </tr>\n",
       "    <tr>\n",
       "      <th>79</th>\n",
       "      <td>Ramsbottom</td>\n",
       "      <td>Northwast</td>\n",
       "      <td>Manchester</td>\n",
       "      <td>https://en.wikipedia.org/wiki/Ramsbottom,_Manc...</td>\n",
       "      <td>https://en.wikipedia.org/wiki/Ramsbottom</td>\n",
       "      <td>53.6484?N 2.3169?W</td>\n",
       "      <td>53.648400</td>\n",
       "      <td>-2.3169</td>\n",
       "    </tr>\n",
       "    <tr>\n",
       "      <th>80</th>\n",
       "      <td>Saddleworth</td>\n",
       "      <td>Northwast</td>\n",
       "      <td>Manchester</td>\n",
       "      <td>https://en.wikipedia.org/wiki/Saddleworth,_Man...</td>\n",
       "      <td>https://en.wikipedia.org/wiki/Saddleworth</td>\n",
       "      <td>53.55?N 2?W</td>\n",
       "      <td>53.550000</td>\n",
       "      <td>-2</td>\n",
       "    </tr>\n",
       "    <tr>\n",
       "      <th>81</th>\n",
       "      <td>West Kirby</td>\n",
       "      <td>Northwast</td>\n",
       "      <td>Merseyside</td>\n",
       "      <td>https://en.wikipedia.org/wiki/West Kirby,_Mers...</td>\n",
       "      <td>https://en.wikipedia.org/wiki/West Kirby</td>\n",
       "      <td>53.373?N 3.184?W</td>\n",
       "      <td>53.373000</td>\n",
       "      <td>-3.184</td>\n",
       "    </tr>\n",
       "    <tr>\n",
       "      <th>82</th>\n",
       "      <td>Harrogate</td>\n",
       "      <td>Northeast</td>\n",
       "      <td>North Yorkshire</td>\n",
       "      <td>https://en.wikipedia.org/wiki/Harrogate,_North...</td>\n",
       "      <td>https://en.wikipedia.org/wiki/Harrogate</td>\n",
       "      <td>53.991?N 1.539?W</td>\n",
       "      <td>53.991000</td>\n",
       "      <td>-1.539</td>\n",
       "    </tr>\n",
       "    <tr>\n",
       "      <th>83</th>\n",
       "      <td>Skipton</td>\n",
       "      <td>Northeast</td>\n",
       "      <td>North Yorkshire</td>\n",
       "      <td>https://en.wikipedia.org/wiki/Skipton,_North Y...</td>\n",
       "      <td>https://en.wikipedia.org/wiki/Skipton</td>\n",
       "      <td>53.962?N 2.017?W</td>\n",
       "      <td>53.962000</td>\n",
       "      <td>-2.017</td>\n",
       "    </tr>\n",
       "    <tr>\n",
       "      <th>84</th>\n",
       "      <td>York</td>\n",
       "      <td>Northeast</td>\n",
       "      <td>North Yorkshire</td>\n",
       "      <td>https://en.wikipedia.org/wiki/York,_North York...</td>\n",
       "      <td>https://en.wikipedia.org/wiki/York</td>\n",
       "      <td>53.95833?N 1.08028?W</td>\n",
       "      <td>53.958330</td>\n",
       "      <td>-1.08028</td>\n",
       "    </tr>\n",
       "    <tr>\n",
       "      <th>85</th>\n",
       "      <td>Alnwick</td>\n",
       "      <td>Northeast</td>\n",
       "      <td>Northumberland</td>\n",
       "      <td>https://en.wikipedia.org/wiki/Alnwick,_Northum...</td>\n",
       "      <td>https://en.wikipedia.org/wiki/Alnwick</td>\n",
       "      <td>55.4134?N 1.7069?W</td>\n",
       "      <td>55.413400</td>\n",
       "      <td>-1.7069</td>\n",
       "    </tr>\n",
       "    <tr>\n",
       "      <th>86</th>\n",
       "      <td>Craster</td>\n",
       "      <td>Northeast</td>\n",
       "      <td>Northumberland</td>\n",
       "      <td>https://en.wikipedia.org/wiki/Craster,_Northum...</td>\n",
       "      <td>https://en.wikipedia.org/wiki/Craster</td>\n",
       "      <td>55.471794?N 1.595788?W</td>\n",
       "      <td>55.471794</td>\n",
       "      <td>-1.595788</td>\n",
       "    </tr>\n",
       "    <tr>\n",
       "      <th>87</th>\n",
       "      <td>Corbridge</td>\n",
       "      <td>Northeast</td>\n",
       "      <td>Northumberland</td>\n",
       "      <td>https://en.wikipedia.org/wiki/Corbridge,_North...</td>\n",
       "      <td>https://en.wikipedia.org/wiki/Corbridge</td>\n",
       "      <td>54.975?N 2.017?W</td>\n",
       "      <td>54.975000</td>\n",
       "      <td>-2.017</td>\n",
       "    </tr>\n",
       "    <tr>\n",
       "      <th>88</th>\n",
       "      <td>Durham</td>\n",
       "      <td>Northeast</td>\n",
       "      <td>County Durham</td>\n",
       "      <td>https://en.wikipedia.org/wiki/Durham,_County D...</td>\n",
       "      <td>https://en.wikipedia.org/wiki/Durham</td>\n",
       "      <td>54.7761?N 1.5733?W</td>\n",
       "      <td>54.776100</td>\n",
       "      <td>-1.5733</td>\n",
       "    </tr>\n",
       "    <tr>\n",
       "      <th>89</th>\n",
       "      <td>Fulwood</td>\n",
       "      <td>Northeast</td>\n",
       "      <td>Lancashire</td>\n",
       "      <td>https://en.wikipedia.org/wiki/Fulwood,_Lancashire</td>\n",
       "      <td>https://en.wikipedia.org/wiki/Fulwood</td>\n",
       "      <td>53.779444?N 2.693611?W</td>\n",
       "      <td>53.779444</td>\n",
       "      <td>-2.693611</td>\n",
       "    </tr>\n",
       "    <tr>\n",
       "      <th>90</th>\n",
       "      <td>Helmsley</td>\n",
       "      <td>Northeast</td>\n",
       "      <td>North Yorkshire</td>\n",
       "      <td>https://en.wikipedia.org/wiki/Helmsley,_North ...</td>\n",
       "      <td>https://en.wikipedia.org/wiki/Helmsley</td>\n",
       "      <td>54.246572?N 1.054344?W</td>\n",
       "      <td>54.246572</td>\n",
       "      <td>-1.054344</td>\n",
       "    </tr>\n",
       "    <tr>\n",
       "      <th>91</th>\n",
       "      <td>Hull</td>\n",
       "      <td>Northeast</td>\n",
       "      <td>Hull</td>\n",
       "      <td>https://en.wikipedia.org/wiki/Hull,_Hull</td>\n",
       "      <td>https://en.wikipedia.org/wiki/Hull</td>\n",
       "      <td>53.744333, -0.3325</td>\n",
       "      <td>53.744333</td>\n",
       "      <td>-0.3325</td>\n",
       "    </tr>\n",
       "    <tr>\n",
       "      <th>92</th>\n",
       "      <td>Horsforth</td>\n",
       "      <td>Northeast</td>\n",
       "      <td>West Yorkshire</td>\n",
       "      <td>https://en.wikipedia.org/wiki/Horsforth,_West ...</td>\n",
       "      <td>https://en.wikipedia.org/wiki/Horsforth</td>\n",
       "      <td>53.83413?N 1.64288?W</td>\n",
       "      <td>53.834130</td>\n",
       "      <td>-1.64288</td>\n",
       "    </tr>\n",
       "    <tr>\n",
       "      <th>93</th>\n",
       "      <td>Malton</td>\n",
       "      <td>Northeast</td>\n",
       "      <td>North Yorkshire</td>\n",
       "      <td>https://en.wikipedia.org/wiki/Malton,_North Yo...</td>\n",
       "      <td>https://en.wikipedia.org/wiki/Malton</td>\n",
       "      <td>54.139?N 0.792?W</td>\n",
       "      <td>54.139000</td>\n",
       "      <td>-0.792</td>\n",
       "    </tr>\n",
       "    <tr>\n",
       "      <th>94</th>\n",
       "      <td>Pateley Bridge</td>\n",
       "      <td>Northeast</td>\n",
       "      <td>North Yorkshire</td>\n",
       "      <td>https://en.wikipedia.org/wiki/Pateley Bridge,_...</td>\n",
       "      <td>https://en.wikipedia.org/wiki/Pateley Bridge</td>\n",
       "      <td>54.0854?N 1.7622?W</td>\n",
       "      <td>54.085400</td>\n",
       "      <td>-1.7622</td>\n",
       "    </tr>\n",
       "    <tr>\n",
       "      <th>95</th>\n",
       "      <td>Richmond</td>\n",
       "      <td>Northeast</td>\n",
       "      <td>North Yorkshire</td>\n",
       "      <td>https://en.wikipedia.org/wiki/Richmond,_North ...</td>\n",
       "      <td>https://en.wikipedia.org/wiki/Richmond</td>\n",
       "      <td>54.403?N 1.737?W</td>\n",
       "      <td>54.403000</td>\n",
       "      <td>-1.737</td>\n",
       "    </tr>\n",
       "    <tr>\n",
       "      <th>96</th>\n",
       "      <td>Saltburn-by-the-Sea</td>\n",
       "      <td>Northeast</td>\n",
       "      <td>North Yorkshire</td>\n",
       "      <td>https://en.wikipedia.org/wiki/Saltburn-by-the-...</td>\n",
       "      <td>https://en.wikipedia.org/wiki/Saltburn-by-the-Sea</td>\n",
       "      <td>54.5828?N 0.9732?W</td>\n",
       "      <td>54.582800</td>\n",
       "      <td>-0.9732</td>\n",
       "    </tr>\n",
       "    <tr>\n",
       "      <th>97</th>\n",
       "      <td>Tynemouth</td>\n",
       "      <td>Northeast</td>\n",
       "      <td>Tyne and Wear</td>\n",
       "      <td>https://en.wikipedia.org/wiki/Tynemouth,_Tyne ...</td>\n",
       "      <td>https://en.wikipedia.org/wiki/Tynemouth</td>\n",
       "      <td>55.01?N 1.42?W</td>\n",
       "      <td>55.010000</td>\n",
       "      <td>-1.42</td>\n",
       "    </tr>\n",
       "    <tr>\n",
       "      <th>98</th>\n",
       "      <td>Wooler</td>\n",
       "      <td>Northeast</td>\n",
       "      <td>Northumberland</td>\n",
       "      <td>https://en.wikipedia.org/wiki/Wooler,_Northumb...</td>\n",
       "      <td>https://en.wikipedia.org/wiki/Wooler</td>\n",
       "      <td>55.5461?N 2.0166?W</td>\n",
       "      <td>55.546100</td>\n",
       "      <td>-2.0166</td>\n",
       "    </tr>\n",
       "  </tbody>\n",
       "</table>\n",
       "<p>99 rows × 8 columns</p>\n",
       "</div>"
      ],
      "text/plain": [
       "                  Place     Region            County  \\\n",
       "0            Woodbridge       East           Suffolk   \n",
       "1             Cambridge       East    Cambridgeshire   \n",
       "2               Aylsham       East           Norfolk   \n",
       "3                Bungay       East           Suffolk   \n",
       "4                Dedham       East             Essex   \n",
       "5                   Ely       East    Cambridgeshire   \n",
       "6               Felsted       East             Essex   \n",
       "7         Finchingfield       East             Essex   \n",
       "8           Framlingham       East           Suffolk   \n",
       "9         The Shelfords       East    Cambridgeshire   \n",
       "10      Hemingford Grey       East    Cambridgeshire   \n",
       "11              Norwich       East           Norfolk   \n",
       "12               Orford       East           Suffolk   \n",
       "13       Saffron Walden       East             Essex   \n",
       "14            Shenfield       East             Essex   \n",
       "15   Wells-next-the-Sea       East           Norfolk   \n",
       "16    Shipston-on-Stour   Midlands      Warwickshire   \n",
       "17             Stamford   Midlands      Lincolnshire   \n",
       "18      Bishop’s Castle   Midlands        Shropshire   \n",
       "19       Leamington Spa   Midlands      Warwickshire   \n",
       "20              Ledbury   Midlands     Herefordshire   \n",
       "21                 Leek   Midlands     Staffordshire   \n",
       "22           Leominster   Midlands     Herefordshire   \n",
       "23              Moseley   Midlands        Birmingham   \n",
       "24               Oakham   Midlands           Rutland   \n",
       "25               Oundle   Midlands  Northamptonshire   \n",
       "26            Southwell   Midlands   Nottinghamshire   \n",
       "27            Tideswell   Midlands        Derbyshire   \n",
       "28    Upton-upon-Severn   Midlands    Worcestershire   \n",
       "29            Wadhurst   Southeast       East Sussex   \n",
       "..                  ...        ...               ...   \n",
       "69            Knutsford  Northwast          Cheshire   \n",
       "70              Chester  Northwast          Cheshire   \n",
       "71               Alston  Northwast           Cumbria   \n",
       "72   Chorlton-cum-Hardy  Northwast        Manchester   \n",
       "73            Clitheroe  Northwast        Lancashire   \n",
       "74               Kendal  Northwast           Cumbria   \n",
       "75      Kirkby Lonsdale  Northwast           Cumbria   \n",
       "76      Baltic Triangle  Northwast         Liverpool   \n",
       "77                 Lymm  Northwast          Cheshire   \n",
       "78              Ancoats  Northwast        Manchester   \n",
       "79           Ramsbottom  Northwast        Manchester   \n",
       "80          Saddleworth  Northwast        Manchester   \n",
       "81           West Kirby  Northwast        Merseyside   \n",
       "82            Harrogate  Northeast   North Yorkshire   \n",
       "83              Skipton  Northeast   North Yorkshire   \n",
       "84                 York  Northeast   North Yorkshire   \n",
       "85              Alnwick  Northeast    Northumberland   \n",
       "86              Craster  Northeast    Northumberland   \n",
       "87            Corbridge  Northeast    Northumberland   \n",
       "88               Durham  Northeast     County Durham   \n",
       "89              Fulwood  Northeast        Lancashire   \n",
       "90             Helmsley  Northeast   North Yorkshire   \n",
       "91                 Hull  Northeast              Hull   \n",
       "92            Horsforth  Northeast    West Yorkshire   \n",
       "93               Malton  Northeast   North Yorkshire   \n",
       "94       Pateley Bridge  Northeast   North Yorkshire   \n",
       "95             Richmond  Northeast   North Yorkshire   \n",
       "96  Saltburn-by-the-Sea  Northeast   North Yorkshire   \n",
       "97            Tynemouth  Northeast     Tyne and Wear   \n",
       "98               Wooler  Northeast    Northumberland   \n",
       "\n",
       "                                                 Link  \\\n",
       "0   https://en.wikipedia.org/wiki/Woodbridge,_Suffolk   \n",
       "1   https://en.wikipedia.org/wiki/Cambridge,_Cambr...   \n",
       "2      https://en.wikipedia.org/wiki/Aylsham,_Norfolk   \n",
       "3       https://en.wikipedia.org/wiki/Bungay,_Suffolk   \n",
       "4         https://en.wikipedia.org/wiki/Dedham,_Essex   \n",
       "5   https://en.wikipedia.org/wiki/Ely,_Cambridgeshire   \n",
       "6        https://en.wikipedia.org/wiki/Felsted,_Essex   \n",
       "7   https://en.wikipedia.org/wiki/Finchingfield,_E...   \n",
       "8   https://en.wikipedia.org/wiki/Framlingham,_Suf...   \n",
       "9   https://en.wikipedia.org/wiki/The Shelfords,_C...   \n",
       "10  https://en.wikipedia.org/wiki/Hemingford Grey,...   \n",
       "11     https://en.wikipedia.org/wiki/Norwich,_Norfolk   \n",
       "12      https://en.wikipedia.org/wiki/Orford,_Suffolk   \n",
       "13  https://en.wikipedia.org/wiki/Saffron Walden,_...   \n",
       "14     https://en.wikipedia.org/wiki/Shenfield,_Essex   \n",
       "15  https://en.wikipedia.org/wiki/Wells-next-the-S...   \n",
       "16  https://en.wikipedia.org/wiki/Shipston-on-Stou...   \n",
       "17  https://en.wikipedia.org/wiki/Stamford,_Lincol...   \n",
       "18  https://en.wikipedia.org/wiki/Bishop’s Castle,...   \n",
       "19  https://en.wikipedia.org/wiki/Leamington Spa,_...   \n",
       "20  https://en.wikipedia.org/wiki/Ledbury,_Herefor...   \n",
       "21  https://en.wikipedia.org/wiki/Leek,_Staffordshire   \n",
       "22  https://en.wikipedia.org/wiki/Leominster,_Here...   \n",
       "23  https://en.wikipedia.org/wiki/Moseley,_Birmingham   \n",
       "24      https://en.wikipedia.org/wiki/Oakham,_Rutland   \n",
       "25  https://en.wikipedia.org/wiki/Oundle,_Northamp...   \n",
       "26  https://en.wikipedia.org/wiki/Southwell,_Notti...   \n",
       "27  https://en.wikipedia.org/wiki/Tideswell,_Derby...   \n",
       "28  https://en.wikipedia.org/wiki/Upton-upon-Sever...   \n",
       "29  https://en.wikipedia.org/wiki/Wadhurst ,_East ...   \n",
       "..                                                ...   \n",
       "69  https://en.wikipedia.org/wiki/Knutsford,_Cheshire   \n",
       "70    https://en.wikipedia.org/wiki/Chester,_Cheshire   \n",
       "71      https://en.wikipedia.org/wiki/Alston,_Cumbria   \n",
       "72  https://en.wikipedia.org/wiki/Chorlton-cum-Har...   \n",
       "73  https://en.wikipedia.org/wiki/Clitheroe,_Lanca...   \n",
       "74      https://en.wikipedia.org/wiki/Kendal,_Cumbria   \n",
       "75  https://en.wikipedia.org/wiki/Kirkby Lonsdale,...   \n",
       "76  https://en.wikipedia.org/wiki/Baltic Triangle,...   \n",
       "77       https://en.wikipedia.org/wiki/Lymm,_Cheshire   \n",
       "78  https://en.wikipedia.org/wiki/Ancoats,_Manchester   \n",
       "79  https://en.wikipedia.org/wiki/Ramsbottom,_Manc...   \n",
       "80  https://en.wikipedia.org/wiki/Saddleworth,_Man...   \n",
       "81  https://en.wikipedia.org/wiki/West Kirby,_Mers...   \n",
       "82  https://en.wikipedia.org/wiki/Harrogate,_North...   \n",
       "83  https://en.wikipedia.org/wiki/Skipton,_North Y...   \n",
       "84  https://en.wikipedia.org/wiki/York,_North York...   \n",
       "85  https://en.wikipedia.org/wiki/Alnwick,_Northum...   \n",
       "86  https://en.wikipedia.org/wiki/Craster,_Northum...   \n",
       "87  https://en.wikipedia.org/wiki/Corbridge,_North...   \n",
       "88  https://en.wikipedia.org/wiki/Durham,_County D...   \n",
       "89  https://en.wikipedia.org/wiki/Fulwood,_Lancashire   \n",
       "90  https://en.wikipedia.org/wiki/Helmsley,_North ...   \n",
       "91           https://en.wikipedia.org/wiki/Hull,_Hull   \n",
       "92  https://en.wikipedia.org/wiki/Horsforth,_West ...   \n",
       "93  https://en.wikipedia.org/wiki/Malton,_North Yo...   \n",
       "94  https://en.wikipedia.org/wiki/Pateley Bridge,_...   \n",
       "95  https://en.wikipedia.org/wiki/Richmond,_North ...   \n",
       "96  https://en.wikipedia.org/wiki/Saltburn-by-the-...   \n",
       "97  https://en.wikipedia.org/wiki/Tynemouth,_Tyne ...   \n",
       "98  https://en.wikipedia.org/wiki/Wooler,_Northumb...   \n",
       "\n",
       "                                                Link2               Geo Merge  \\\n",
       "0            https://en.wikipedia.org/wiki/Woodbridge      52.0935?N 1.3179?E   \n",
       "1             https://en.wikipedia.org/wiki/Cambridge        52.205?N 0.119?E   \n",
       "2               https://en.wikipedia.org/wiki/Aylsham         52.79?N 1.256?E   \n",
       "3                https://en.wikipedia.org/wiki/Bungay      52.4496?N 1.4477?E   \n",
       "4                https://en.wikipedia.org/wiki/Dedham    51.95888?N 0.99341?E   \n",
       "5                   https://en.wikipedia.org/wiki/Ely          52.40?N 0.26?E   \n",
       "6               https://en.wikipedia.org/wiki/Felsted        51.856?N 0.436?E   \n",
       "7         https://en.wikipedia.org/wiki/Finchingfield    51.96747?N 0.44995?E   \n",
       "8           https://en.wikipedia.org/wiki/Framlingham    52.22207?N 1.34342?E   \n",
       "9         https://en.wikipedia.org/wiki/The Shelfords       52.15038, 0.13575   \n",
       "10      https://en.wikipedia.org/wiki/Hemingford Grey        52.318?N 0.104?W   \n",
       "11              https://en.wikipedia.org/wiki/Norwich            52.6?N 1.3?E   \n",
       "12               https://en.wikipedia.org/wiki/Orford        52.095?N 1.534?E   \n",
       "13       https://en.wikipedia.org/wiki/Saffron Walden        52.022?N 0.243?E   \n",
       "14            https://en.wikipedia.org/wiki/Shenfield      51.6297?N 0.3192?E   \n",
       "15   https://en.wikipedia.org/wiki/Wells-next-the-Sea          52.95?N 0.85?E   \n",
       "16    https://en.wikipedia.org/wiki/Shipston-on-Stour        52.060?N 1.623?W   \n",
       "17             https://en.wikipedia.org/wiki/Stamford        52.656?N 0.484?W   \n",
       "18      https://en.wikipedia.org/wiki/Bishop’s Castle         52.493, -2.9978   \n",
       "19       https://en.wikipedia.org/wiki/Leamington Spa        52.292?N 1.537?W   \n",
       "20              https://en.wikipedia.org/wiki/Ledbury      52.0339?N 2.4235?W   \n",
       "21                 https://en.wikipedia.org/wiki/Leek       53.108?N 2.0234?W   \n",
       "22           https://en.wikipedia.org/wiki/Leominster      52.2282?N 2.7385?W   \n",
       "23              https://en.wikipedia.org/wiki/Moseley    52.44671?N 1.88814?W   \n",
       "24               https://en.wikipedia.org/wiki/Oakham      52.6705?N 0.7333?W   \n",
       "25               https://en.wikipedia.org/wiki/Oundle        52.480?N 0.472?W   \n",
       "26            https://en.wikipedia.org/wiki/Southwell          53.07?N 0.95?W   \n",
       "27            https://en.wikipedia.org/wiki/Tideswell        53.273?N 1.774?W   \n",
       "28    https://en.wikipedia.org/wiki/Upton-upon-Severn        52.063?N 2.215?W   \n",
       "29            https://en.wikipedia.org/wiki/Wadhurst           51.06?N 0.34?E   \n",
       "..                                                ...                     ...   \n",
       "69            https://en.wikipedia.org/wiki/Knutsford        53.300?N 2.371?W   \n",
       "70              https://en.wikipedia.org/wiki/Chester      53.1903?N 2.8916?W   \n",
       "71               https://en.wikipedia.org/wiki/Alston        54.810?N 2.441?W   \n",
       "72   https://en.wikipedia.org/wiki/Chorlton-cum-Hardy        53.442?N 2.277?W   \n",
       "73            https://en.wikipedia.org/wiki/Clitheroe      53.8711?N 2.3916?W   \n",
       "74               https://en.wikipedia.org/wiki/Kendal        54.326?N 2.745?W   \n",
       "75      https://en.wikipedia.org/wiki/Kirkby Lonsdale        54.201?N 2.597?W   \n",
       "76      https://en.wikipedia.org/wiki/Baltic Triangle        53.397?N 2.983?W   \n",
       "77                 https://en.wikipedia.org/wiki/Lymm  53.383399?N 2.475034?W   \n",
       "78              https://en.wikipedia.org/wiki/Ancoats  53.483333?N 2.229722?W   \n",
       "79           https://en.wikipedia.org/wiki/Ramsbottom      53.6484?N 2.3169?W   \n",
       "80          https://en.wikipedia.org/wiki/Saddleworth             53.55?N 2?W   \n",
       "81           https://en.wikipedia.org/wiki/West Kirby        53.373?N 3.184?W   \n",
       "82            https://en.wikipedia.org/wiki/Harrogate        53.991?N 1.539?W   \n",
       "83              https://en.wikipedia.org/wiki/Skipton        53.962?N 2.017?W   \n",
       "84                 https://en.wikipedia.org/wiki/York    53.95833?N 1.08028?W   \n",
       "85              https://en.wikipedia.org/wiki/Alnwick      55.4134?N 1.7069?W   \n",
       "86              https://en.wikipedia.org/wiki/Craster  55.471794?N 1.595788?W   \n",
       "87            https://en.wikipedia.org/wiki/Corbridge        54.975?N 2.017?W   \n",
       "88               https://en.wikipedia.org/wiki/Durham      54.7761?N 1.5733?W   \n",
       "89              https://en.wikipedia.org/wiki/Fulwood  53.779444?N 2.693611?W   \n",
       "90             https://en.wikipedia.org/wiki/Helmsley  54.246572?N 1.054344?W   \n",
       "91                 https://en.wikipedia.org/wiki/Hull      53.744333, -0.3325   \n",
       "92            https://en.wikipedia.org/wiki/Horsforth    53.83413?N 1.64288?W   \n",
       "93               https://en.wikipedia.org/wiki/Malton        54.139?N 0.792?W   \n",
       "94       https://en.wikipedia.org/wiki/Pateley Bridge      54.0854?N 1.7622?W   \n",
       "95             https://en.wikipedia.org/wiki/Richmond        54.403?N 1.737?W   \n",
       "96  https://en.wikipedia.org/wiki/Saltburn-by-the-Sea      54.5828?N 0.9732?W   \n",
       "97            https://en.wikipedia.org/wiki/Tynemouth          55.01?N 1.42?W   \n",
       "98               https://en.wikipedia.org/wiki/Wooler      55.5461?N 2.0166?W   \n",
       "\n",
       "     latitude  longitude  \n",
       "0   52.093500     1.3179  \n",
       "1   52.205000      0.119  \n",
       "2   52.790000      1.256  \n",
       "3   52.449600     1.4477  \n",
       "4   51.958880    0.99341  \n",
       "5   52.400000       0.26  \n",
       "6   51.856000      0.436  \n",
       "7   51.967470    0.44995  \n",
       "8   52.222070    1.34342  \n",
       "9   52.150380    0.13575  \n",
       "10  52.318000     -0.104  \n",
       "11  52.600000        1.3  \n",
       "12  52.095000      1.534  \n",
       "13  52.022000      0.243  \n",
       "14  51.629700     0.3192  \n",
       "15  52.950000       0.85  \n",
       "16  52.060000     -1.623  \n",
       "17  52.656000     -0.484  \n",
       "18  52.493000    -2.9978  \n",
       "19  52.292000     -1.537  \n",
       "20  52.033900    -2.4235  \n",
       "21  53.108000    -2.0234  \n",
       "22  52.228200    -2.7385  \n",
       "23  52.446710   -1.88814  \n",
       "24  52.670500    -0.7333  \n",
       "25  52.480000     -0.472  \n",
       "26  53.070000      -0.95  \n",
       "27  53.273000     -1.774  \n",
       "28  52.063000     -2.215  \n",
       "29  51.060000       0.34  \n",
       "..        ...        ...  \n",
       "69  53.300000     -2.371  \n",
       "70  53.190300    -2.8916  \n",
       "71  54.810000     -2.441  \n",
       "72  53.442000     -2.277  \n",
       "73  53.871100    -2.3916  \n",
       "74  54.326000     -2.745  \n",
       "75  54.201000     -2.597  \n",
       "76  53.397000     -2.983  \n",
       "77  53.383399  -2.475034  \n",
       "78  53.483333  -2.229722  \n",
       "79  53.648400    -2.3169  \n",
       "80  53.550000         -2  \n",
       "81  53.373000     -3.184  \n",
       "82  53.991000     -1.539  \n",
       "83  53.962000     -2.017  \n",
       "84  53.958330   -1.08028  \n",
       "85  55.413400    -1.7069  \n",
       "86  55.471794  -1.595788  \n",
       "87  54.975000     -2.017  \n",
       "88  54.776100    -1.5733  \n",
       "89  53.779444  -2.693611  \n",
       "90  54.246572  -1.054344  \n",
       "91  53.744333    -0.3325  \n",
       "92  53.834130   -1.64288  \n",
       "93  54.139000     -0.792  \n",
       "94  54.085400    -1.7622  \n",
       "95  54.403000     -1.737  \n",
       "96  54.582800    -0.9732  \n",
       "97  55.010000      -1.42  \n",
       "98  55.546100    -2.0166  \n",
       "\n",
       "[99 rows x 8 columns]"
      ]
     },
     "execution_count": 4,
     "metadata": {},
     "output_type": "execute_result"
    }
   ],
   "source": [
    "df_times = pd.read_csv(\"https://raw.githubusercontent.com/omeyrick/PlacesToLive/master/data/Times_places_to_live.csv\")\n",
    "df_times"
   ]
  },
  {
   "cell_type": "markdown",
   "metadata": {
    "extensions": {
     "jupyter_dashboards": {
      "version": 1,
      "views": {
       "grid_default": {},
       "report_default": {
        "hidden": false
       }
      }
     }
    }
   },
   "source": [
    "### Halifax Quality Of Life Survey, 2016"
   ]
  },
  {
   "cell_type": "code",
   "execution_count": 5,
   "metadata": {
    "extensions": {
     "jupyter_dashboards": {
      "version": 1,
      "views": {
       "grid_default": {
        "col": 0,
        "height": 10,
        "hidden": false,
        "row": 25,
        "width": 8
       },
       "report_default": {
        "hidden": false
       }
      }
     }
    }
   },
   "outputs": [
    {
     "data": {
      "text/html": [
       "<div>\n",
       "<table border=\"1\" class=\"dataframe\">\n",
       "  <thead>\n",
       "    <tr style=\"text-align: right;\">\n",
       "      <th></th>\n",
       "      <th>Local Authority</th>\n",
       "      <th>Region</th>\n",
       "      <th>Rank</th>\n",
       "      <th>link</th>\n",
       "      <th>location</th>\n",
       "      <th>latitude</th>\n",
       "      <th>longitude</th>\n",
       "    </tr>\n",
       "  </thead>\n",
       "  <tbody>\n",
       "    <tr>\n",
       "      <th>0</th>\n",
       "      <td>Winchester</td>\n",
       "      <td>South East</td>\n",
       "      <td>1</td>\n",
       "      <td>https://en.wikipedia.org/wiki/Winchester</td>\n",
       "      <td>51.0632Â°N 1.308Â°W</td>\n",
       "      <td>51.063200</td>\n",
       "      <td>-1.308000</td>\n",
       "    </tr>\n",
       "    <tr>\n",
       "      <th>1</th>\n",
       "      <td>Orkney Islands</td>\n",
       "      <td>Scotland</td>\n",
       "      <td>2</td>\n",
       "      <td>https://en.wikipedia.org/wiki/Orkney_Islands</td>\n",
       "      <td>59Â°N 3Â°W</td>\n",
       "      <td>59.000000</td>\n",
       "      <td>-3.000000</td>\n",
       "    </tr>\n",
       "    <tr>\n",
       "      <th>2</th>\n",
       "      <td>Wychavon</td>\n",
       "      <td>West Midlands</td>\n",
       "      <td>3</td>\n",
       "      <td>https://en.wikipedia.org/wiki/Wychavon</td>\n",
       "      <td>52.114Â°N 2.081Â°W</td>\n",
       "      <td>52.114000</td>\n",
       "      <td>-2.081000</td>\n",
       "    </tr>\n",
       "    <tr>\n",
       "      <th>3</th>\n",
       "      <td>Derbyshire Dales</td>\n",
       "      <td>East Midlands</td>\n",
       "      <td>4</td>\n",
       "      <td>https://en.wikipedia.org/wiki/Derbyshire_Dales</td>\n",
       "      <td>53.05Â°N 1.70Â°W</td>\n",
       "      <td>53.050000</td>\n",
       "      <td>-1.700000</td>\n",
       "    </tr>\n",
       "    <tr>\n",
       "      <th>4</th>\n",
       "      <td>Hambleton</td>\n",
       "      <td>Yorkshire and The Humber</td>\n",
       "      <td>5</td>\n",
       "      <td>https://en.wikipedia.org/wiki/Hambleton</td>\n",
       "      <td>54.334Â°N 1.429Â°W</td>\n",
       "      <td>54.334000</td>\n",
       "      <td>-1.429000</td>\n",
       "    </tr>\n",
       "    <tr>\n",
       "      <th>5</th>\n",
       "      <td>South Cambridgeshire</td>\n",
       "      <td>East of England</td>\n",
       "      <td>7</td>\n",
       "      <td>https://en.wikipedia.org/wiki/South_Cambridges...</td>\n",
       "      <td>52.132Â°N 0.105Â°E</td>\n",
       "      <td>52.132000</td>\n",
       "      <td>0.105000</td>\n",
       "    </tr>\n",
       "    <tr>\n",
       "      <th>6</th>\n",
       "      <td>Purbeck</td>\n",
       "      <td>South West</td>\n",
       "      <td>6</td>\n",
       "      <td>https://en.wikipedia.org/wiki/Purbeck</td>\n",
       "      <td>NaN</td>\n",
       "      <td>50.637600</td>\n",
       "      <td>-2.057900</td>\n",
       "    </tr>\n",
       "    <tr>\n",
       "      <th>7</th>\n",
       "      <td>St Albans</td>\n",
       "      <td>East of England</td>\n",
       "      <td>8</td>\n",
       "      <td>https://en.wikipedia.org/wiki/St_Albans</td>\n",
       "      <td>51.755Â°N 0.336Â°W</td>\n",
       "      <td>51.755000</td>\n",
       "      <td>-0.336000</td>\n",
       "    </tr>\n",
       "    <tr>\n",
       "      <th>8</th>\n",
       "      <td>Wokingham</td>\n",
       "      <td>South East</td>\n",
       "      <td>9</td>\n",
       "      <td>https://en.wikipedia.org/wiki/Wokingham</td>\n",
       "      <td>51.410Â°N 0.840Â°W</td>\n",
       "      <td>51.410000</td>\n",
       "      <td>-0.840000</td>\n",
       "    </tr>\n",
       "    <tr>\n",
       "      <th>9</th>\n",
       "      <td>Chiltern</td>\n",
       "      <td>South East</td>\n",
       "      <td>10</td>\n",
       "      <td>https://en.wikipedia.org/wiki/Chiltern</td>\n",
       "      <td>NaN</td>\n",
       "      <td>51.660600</td>\n",
       "      <td>-0.640900</td>\n",
       "    </tr>\n",
       "    <tr>\n",
       "      <th>10</th>\n",
       "      <td>West Oxfordshire</td>\n",
       "      <td>South East</td>\n",
       "      <td>11</td>\n",
       "      <td>https://en.wikipedia.org/wiki/West_Oxfordshire</td>\n",
       "      <td>51.79333Â°N 1.47917Â°W</td>\n",
       "      <td>51.793330</td>\n",
       "      <td>-1.479170</td>\n",
       "    </tr>\n",
       "    <tr>\n",
       "      <th>11</th>\n",
       "      <td>South Hams</td>\n",
       "      <td>South West</td>\n",
       "      <td>12</td>\n",
       "      <td>https://en.wikipedia.org/wiki/South_Hams</td>\n",
       "      <td>50.43139Â°N 3.69111Â°W</td>\n",
       "      <td>50.431390</td>\n",
       "      <td>-3.691110</td>\n",
       "    </tr>\n",
       "    <tr>\n",
       "      <th>12</th>\n",
       "      <td>South Oxfordshire</td>\n",
       "      <td>South East</td>\n",
       "      <td>13</td>\n",
       "      <td>https://en.wikipedia.org/wiki/South_Oxfordshire</td>\n",
       "      <td>51.65Â°N 1.05Â°W</td>\n",
       "      <td>51.650000</td>\n",
       "      <td>-1.050000</td>\n",
       "    </tr>\n",
       "    <tr>\n",
       "      <th>13</th>\n",
       "      <td>Tonbridge and Malling</td>\n",
       "      <td>South East</td>\n",
       "      <td>14</td>\n",
       "      <td>https://en.wikipedia.org/wiki/Tonbridge_and_Ma...</td>\n",
       "      <td>51.283Â°N 0.350Â°E</td>\n",
       "      <td>51.283000</td>\n",
       "      <td>0.350000</td>\n",
       "    </tr>\n",
       "    <tr>\n",
       "      <th>14</th>\n",
       "      <td>West Dorset</td>\n",
       "      <td>South West</td>\n",
       "      <td>15</td>\n",
       "      <td>https://en.wikipedia.org/wiki/West_Dorset</td>\n",
       "      <td>50.7889Â°N 2.5980Â°W</td>\n",
       "      <td>50.788900</td>\n",
       "      <td>-2.598000</td>\n",
       "    </tr>\n",
       "    <tr>\n",
       "      <th>15</th>\n",
       "      <td>South Northamptonshire</td>\n",
       "      <td>East Midlands</td>\n",
       "      <td>16</td>\n",
       "      <td>https://en.wikipedia.org/wiki/South_Northampto...</td>\n",
       "      <td>52.10Â°N 1.10Â°W</td>\n",
       "      <td>52.100000</td>\n",
       "      <td>-1.100000</td>\n",
       "    </tr>\n",
       "    <tr>\n",
       "      <th>16</th>\n",
       "      <td>Waverley</td>\n",
       "      <td>South East</td>\n",
       "      <td>17</td>\n",
       "      <td>https://en.wikipedia.org/wiki/Waverley</td>\n",
       "      <td>NaN</td>\n",
       "      <td>51.184292</td>\n",
       "      <td>-0.617581</td>\n",
       "    </tr>\n",
       "    <tr>\n",
       "      <th>17</th>\n",
       "      <td>Shetland Islands</td>\n",
       "      <td>Scotland</td>\n",
       "      <td>18</td>\n",
       "      <td>https://en.wikipedia.org/wiki/Shetland_Islands</td>\n",
       "      <td>60.350Â°N 1.217Â°W</td>\n",
       "      <td>60.350000</td>\n",
       "      <td>-1.217000</td>\n",
       "    </tr>\n",
       "    <tr>\n",
       "      <th>18</th>\n",
       "      <td>Horsham</td>\n",
       "      <td>South East</td>\n",
       "      <td>19</td>\n",
       "      <td>https://en.wikipedia.org/wiki/Horsham</td>\n",
       "      <td>51.062Â°N 0.325Â°W</td>\n",
       "      <td>51.062000</td>\n",
       "      <td>-0.325000</td>\n",
       "    </tr>\n",
       "    <tr>\n",
       "      <th>19</th>\n",
       "      <td>City of London</td>\n",
       "      <td>London</td>\n",
       "      <td>20</td>\n",
       "      <td>https://en.wikipedia.org/wiki/City_of_London</td>\n",
       "      <td>51.5155Â°N 0.0922Â°W</td>\n",
       "      <td>51.515500</td>\n",
       "      <td>-0.092200</td>\n",
       "    </tr>\n",
       "    <tr>\n",
       "      <th>20</th>\n",
       "      <td>Stratford-on-Avon</td>\n",
       "      <td>West Midlands</td>\n",
       "      <td>21</td>\n",
       "      <td>https://en.wikipedia.org/wiki/Stratford-on-Avon</td>\n",
       "      <td>52.19Â°N 1.710Â°W</td>\n",
       "      <td>52.190000</td>\n",
       "      <td>-1.710000</td>\n",
       "    </tr>\n",
       "    <tr>\n",
       "      <th>21</th>\n",
       "      <td>Eden</td>\n",
       "      <td>North West</td>\n",
       "      <td>22</td>\n",
       "      <td>https://en.wikipedia.org/wiki/Eden</td>\n",
       "      <td>NaN</td>\n",
       "      <td>54.666700</td>\n",
       "      <td>-2.754400</td>\n",
       "    </tr>\n",
       "    <tr>\n",
       "      <th>22</th>\n",
       "      <td>Windsor and Maidenhead</td>\n",
       "      <td>South East</td>\n",
       "      <td>23</td>\n",
       "      <td>https://en.wikipedia.org/wiki/Windsor_and_Maid...</td>\n",
       "      <td>51.4667Â°N 0.6667Â°W</td>\n",
       "      <td>51.466700</td>\n",
       "      <td>-0.666700</td>\n",
       "    </tr>\n",
       "    <tr>\n",
       "      <th>23</th>\n",
       "      <td>Malvern Hills</td>\n",
       "      <td>West Midlands</td>\n",
       "      <td>24</td>\n",
       "      <td>https://en.wikipedia.org/wiki/Malvern_Hills</td>\n",
       "      <td>52.083Â°N 2.333Â°W</td>\n",
       "      <td>52.083000</td>\n",
       "      <td>-2.333000</td>\n",
       "    </tr>\n",
       "    <tr>\n",
       "      <th>24</th>\n",
       "      <td>Mole Valley</td>\n",
       "      <td>South East</td>\n",
       "      <td>25</td>\n",
       "      <td>https://en.wikipedia.org/wiki/Mole_Valley</td>\n",
       "      <td>51.3160222Â°N 0.4936972Â°W</td>\n",
       "      <td>51.316022</td>\n",
       "      <td>-0.493697</td>\n",
       "    </tr>\n",
       "    <tr>\n",
       "      <th>25</th>\n",
       "      <td>Hart</td>\n",
       "      <td>South East</td>\n",
       "      <td>26</td>\n",
       "      <td>https://en.wikipedia.org/wiki/Hart</td>\n",
       "      <td>NaN</td>\n",
       "      <td>51.279400</td>\n",
       "      <td>-0.846100</td>\n",
       "    </tr>\n",
       "    <tr>\n",
       "      <th>26</th>\n",
       "      <td>Mid Devon</td>\n",
       "      <td>South West</td>\n",
       "      <td>27</td>\n",
       "      <td>https://en.wikipedia.org/wiki/Mid_Devon</td>\n",
       "      <td>50.900Â°N 3.490Â°W</td>\n",
       "      <td>50.900000</td>\n",
       "      <td>-3.490000</td>\n",
       "    </tr>\n",
       "    <tr>\n",
       "      <th>27</th>\n",
       "      <td>Rutland</td>\n",
       "      <td>East Midlands</td>\n",
       "      <td>28</td>\n",
       "      <td>https://en.wikipedia.org/wiki/Rutland</td>\n",
       "      <td>52.650Â°N 0.633Â°W</td>\n",
       "      <td>52.650000</td>\n",
       "      <td>-0.633000</td>\n",
       "    </tr>\n",
       "    <tr>\n",
       "      <th>28</th>\n",
       "      <td>Ryedale</td>\n",
       "      <td>Yorkshire and The Humber</td>\n",
       "      <td>29</td>\n",
       "      <td>https://en.wikipedia.org/wiki/Ryedale</td>\n",
       "      <td>54.139Â°N 0.79Â°W</td>\n",
       "      <td>54.139000</td>\n",
       "      <td>-0.790000</td>\n",
       "    </tr>\n",
       "    <tr>\n",
       "      <th>29</th>\n",
       "      <td>Lichfield</td>\n",
       "      <td>West Midlands</td>\n",
       "      <td>30</td>\n",
       "      <td>https://en.wikipedia.org/wiki/Lichfield</td>\n",
       "      <td>52.6835Â°N 1.82653Â°W</td>\n",
       "      <td>52.683500</td>\n",
       "      <td>-1.826530</td>\n",
       "    </tr>\n",
       "    <tr>\n",
       "      <th>30</th>\n",
       "      <td>Richmond upon Thames</td>\n",
       "      <td>London</td>\n",
       "      <td>31</td>\n",
       "      <td>https://en.wikipedia.org/wiki/Richmond_upon_Th...</td>\n",
       "      <td>51.417Â°N 0.333Â°W</td>\n",
       "      <td>51.417000</td>\n",
       "      <td>-0.333000</td>\n",
       "    </tr>\n",
       "    <tr>\n",
       "      <th>31</th>\n",
       "      <td>Rugby</td>\n",
       "      <td>West Midlands</td>\n",
       "      <td>32</td>\n",
       "      <td>https://en.wikipedia.org/wiki/Rugby</td>\n",
       "      <td>NaN</td>\n",
       "      <td>52.370000</td>\n",
       "      <td>1.260000</td>\n",
       "    </tr>\n",
       "    <tr>\n",
       "      <th>32</th>\n",
       "      <td>Richmondshire</td>\n",
       "      <td>Yorkshire and The Humber</td>\n",
       "      <td>33</td>\n",
       "      <td>https://en.wikipedia.org/wiki/Richmondshire</td>\n",
       "      <td>54.330Â°N 2.012Â°W</td>\n",
       "      <td>54.330000</td>\n",
       "      <td>-2.012000</td>\n",
       "    </tr>\n",
       "    <tr>\n",
       "      <th>33</th>\n",
       "      <td>Guildford</td>\n",
       "      <td>South East</td>\n",
       "      <td>34</td>\n",
       "      <td>https://en.wikipedia.org/wiki/Guildford</td>\n",
       "      <td>51.2365Â°N 0.5703Â°W</td>\n",
       "      <td>51.236500</td>\n",
       "      <td>-0.570300</td>\n",
       "    </tr>\n",
       "    <tr>\n",
       "      <th>34</th>\n",
       "      <td>Uttlesford</td>\n",
       "      <td>East of England</td>\n",
       "      <td>35</td>\n",
       "      <td>https://en.wikipedia.org/wiki/Uttlesford</td>\n",
       "      <td>52.0190Â°N 0.2367Â°E</td>\n",
       "      <td>52.019000</td>\n",
       "      <td>0.236700</td>\n",
       "    </tr>\n",
       "    <tr>\n",
       "      <th>35</th>\n",
       "      <td>Maldon</td>\n",
       "      <td>East of England</td>\n",
       "      <td>36</td>\n",
       "      <td>https://en.wikipedia.org/wiki/Maldon</td>\n",
       "      <td>NaN</td>\n",
       "      <td>51.731800</td>\n",
       "      <td>0.675800</td>\n",
       "    </tr>\n",
       "    <tr>\n",
       "      <th>36</th>\n",
       "      <td>Monmouthshire</td>\n",
       "      <td>Wales</td>\n",
       "      <td>37</td>\n",
       "      <td>https://en.wikipedia.org/wiki/Monmouthshire</td>\n",
       "      <td>51.783Â°N 2.867Â°W</td>\n",
       "      <td>51.783000</td>\n",
       "      <td>-2.867000</td>\n",
       "    </tr>\n",
       "    <tr>\n",
       "      <th>37</th>\n",
       "      <td>Babergh</td>\n",
       "      <td>East of England</td>\n",
       "      <td>38</td>\n",
       "      <td>https://en.wikipedia.org/wiki/Babergh</td>\n",
       "      <td>52.048Â°N 0.948Â°E</td>\n",
       "      <td>52.048000</td>\n",
       "      <td>0.948000</td>\n",
       "    </tr>\n",
       "    <tr>\n",
       "      <th>38</th>\n",
       "      <td>Vale of White Horse</td>\n",
       "      <td>South East</td>\n",
       "      <td>39</td>\n",
       "      <td>https://en.wikipedia.org/wiki/Vale_of_White_Horse</td>\n",
       "      <td>51.6Â°N 1.5Â°W</td>\n",
       "      <td>51.600000</td>\n",
       "      <td>-1.500000</td>\n",
       "    </tr>\n",
       "    <tr>\n",
       "      <th>39</th>\n",
       "      <td>Rushcliffe</td>\n",
       "      <td>East Midlands</td>\n",
       "      <td>40</td>\n",
       "      <td>https://en.wikipedia.org/wiki/Rushcliffe</td>\n",
       "      <td>52.90Â°N 1.05Â°W</td>\n",
       "      <td>52.900000</td>\n",
       "      <td>-1.050000</td>\n",
       "    </tr>\n",
       "    <tr>\n",
       "      <th>40</th>\n",
       "      <td>Harrogate</td>\n",
       "      <td>Yorkshire and The Humber</td>\n",
       "      <td>41</td>\n",
       "      <td>https://en.wikipedia.org/wiki/Harrogate</td>\n",
       "      <td>53.991Â°N 1.539Â°W</td>\n",
       "      <td>53.991000</td>\n",
       "      <td>-1.539000</td>\n",
       "    </tr>\n",
       "    <tr>\n",
       "      <th>41</th>\n",
       "      <td>Mid Sussex</td>\n",
       "      <td>South East</td>\n",
       "      <td>42</td>\n",
       "      <td>https://en.wikipedia.org/wiki/Mid_Sussex</td>\n",
       "      <td>51.020667Â°N 0.1373278Â°W</td>\n",
       "      <td>51.020667</td>\n",
       "      <td>-0.137328</td>\n",
       "    </tr>\n",
       "    <tr>\n",
       "      <th>42</th>\n",
       "      <td>Reigate and Banstead</td>\n",
       "      <td>South East</td>\n",
       "      <td>43</td>\n",
       "      <td>https://en.wikipedia.org/wiki/Reigate_and_Bans...</td>\n",
       "      <td>51.249Â°N 0.160Â°W</td>\n",
       "      <td>51.249000</td>\n",
       "      <td>-0.160000</td>\n",
       "    </tr>\n",
       "    <tr>\n",
       "      <th>43</th>\n",
       "      <td>Westminster</td>\n",
       "      <td>London</td>\n",
       "      <td>44</td>\n",
       "      <td>https://en.wikipedia.org/wiki/Westminster</td>\n",
       "      <td>51.4995Â°N 0.1333Â°W</td>\n",
       "      <td>51.499500</td>\n",
       "      <td>-0.133300</td>\n",
       "    </tr>\n",
       "    <tr>\n",
       "      <th>44</th>\n",
       "      <td>Wiltshire</td>\n",
       "      <td>South West</td>\n",
       "      <td>45</td>\n",
       "      <td>https://en.wikipedia.org/wiki/Wiltshire</td>\n",
       "      <td>51.333Â°N 1.917Â°W</td>\n",
       "      <td>51.333000</td>\n",
       "      <td>-1.917000</td>\n",
       "    </tr>\n",
       "    <tr>\n",
       "      <th>45</th>\n",
       "      <td>Harborough</td>\n",
       "      <td>East Midlands</td>\n",
       "      <td>46</td>\n",
       "      <td>https://en.wikipedia.org/wiki/Harborough</td>\n",
       "      <td>52.4785Â°N 0.9206Â°W</td>\n",
       "      <td>52.478500</td>\n",
       "      <td>-0.920600</td>\n",
       "    </tr>\n",
       "    <tr>\n",
       "      <th>46</th>\n",
       "      <td>East Hertfordshire</td>\n",
       "      <td>East of England</td>\n",
       "      <td>47</td>\n",
       "      <td>https://en.wikipedia.org/wiki/East_Hertfordshire</td>\n",
       "      <td>51.900Â°N -0.000Â°E</td>\n",
       "      <td>51.900000</td>\n",
       "      <td>0.000000</td>\n",
       "    </tr>\n",
       "    <tr>\n",
       "      <th>47</th>\n",
       "      <td>West Berkshire</td>\n",
       "      <td>South East</td>\n",
       "      <td>48</td>\n",
       "      <td>https://en.wikipedia.org/wiki/West_Berkshire</td>\n",
       "      <td>51.4009Â°N 1.3235Â°W</td>\n",
       "      <td>51.400900</td>\n",
       "      <td>-1.323500</td>\n",
       "    </tr>\n",
       "    <tr>\n",
       "      <th>48</th>\n",
       "      <td>Wycombe</td>\n",
       "      <td>South East</td>\n",
       "      <td>49</td>\n",
       "      <td>https://en.wikipedia.org/wiki/Wycombe</td>\n",
       "      <td>NaN</td>\n",
       "      <td>51.638500</td>\n",
       "      <td>-0.807900</td>\n",
       "    </tr>\n",
       "    <tr>\n",
       "      <th>49</th>\n",
       "      <td>Aylesbury Vale</td>\n",
       "      <td>South East</td>\n",
       "      <td>50</td>\n",
       "      <td>https://en.wikipedia.org/wiki/Aylesbury_Vale</td>\n",
       "      <td>51.8910Â°N 0.9120Â°W</td>\n",
       "      <td>51.891000</td>\n",
       "      <td>-0.912000</td>\n",
       "    </tr>\n",
       "  </tbody>\n",
       "</table>\n",
       "</div>"
      ],
      "text/plain": [
       "           Local Authority                    Region  Rank  \\\n",
       "0               Winchester                South East     1   \n",
       "1           Orkney Islands                  Scotland     2   \n",
       "2                 Wychavon             West Midlands     3   \n",
       "3         Derbyshire Dales             East Midlands     4   \n",
       "4                Hambleton  Yorkshire and The Humber     5   \n",
       "5     South Cambridgeshire           East of England     7   \n",
       "6                  Purbeck                South West     6   \n",
       "7                St Albans           East of England     8   \n",
       "8                Wokingham                South East     9   \n",
       "9                 Chiltern                South East    10   \n",
       "10        West Oxfordshire                South East    11   \n",
       "11              South Hams                South West    12   \n",
       "12       South Oxfordshire                South East    13   \n",
       "13   Tonbridge and Malling                South East    14   \n",
       "14             West Dorset                South West    15   \n",
       "15  South Northamptonshire             East Midlands    16   \n",
       "16                Waverley                South East    17   \n",
       "17        Shetland Islands                  Scotland    18   \n",
       "18                 Horsham                South East    19   \n",
       "19          City of London                    London    20   \n",
       "20       Stratford-on-Avon             West Midlands    21   \n",
       "21                    Eden                North West    22   \n",
       "22  Windsor and Maidenhead                South East    23   \n",
       "23           Malvern Hills             West Midlands    24   \n",
       "24             Mole Valley                South East    25   \n",
       "25                    Hart                South East    26   \n",
       "26               Mid Devon                South West    27   \n",
       "27                 Rutland             East Midlands    28   \n",
       "28                 Ryedale  Yorkshire and The Humber    29   \n",
       "29               Lichfield             West Midlands    30   \n",
       "30    Richmond upon Thames                    London    31   \n",
       "31                   Rugby             West Midlands    32   \n",
       "32           Richmondshire  Yorkshire and The Humber    33   \n",
       "33               Guildford                South East    34   \n",
       "34              Uttlesford           East of England    35   \n",
       "35                  Maldon           East of England    36   \n",
       "36           Monmouthshire                     Wales    37   \n",
       "37                 Babergh           East of England    38   \n",
       "38     Vale of White Horse                South East    39   \n",
       "39              Rushcliffe             East Midlands    40   \n",
       "40               Harrogate  Yorkshire and The Humber    41   \n",
       "41              Mid Sussex                South East    42   \n",
       "42    Reigate and Banstead                South East    43   \n",
       "43             Westminster                    London    44   \n",
       "44               Wiltshire                South West    45   \n",
       "45              Harborough             East Midlands    46   \n",
       "46      East Hertfordshire           East of England    47   \n",
       "47          West Berkshire                South East    48   \n",
       "48                 Wycombe                South East    49   \n",
       "49          Aylesbury Vale                South East    50   \n",
       "\n",
       "                                                 link  \\\n",
       "0            https://en.wikipedia.org/wiki/Winchester   \n",
       "1        https://en.wikipedia.org/wiki/Orkney_Islands   \n",
       "2              https://en.wikipedia.org/wiki/Wychavon   \n",
       "3      https://en.wikipedia.org/wiki/Derbyshire_Dales   \n",
       "4             https://en.wikipedia.org/wiki/Hambleton   \n",
       "5   https://en.wikipedia.org/wiki/South_Cambridges...   \n",
       "6               https://en.wikipedia.org/wiki/Purbeck   \n",
       "7             https://en.wikipedia.org/wiki/St_Albans   \n",
       "8             https://en.wikipedia.org/wiki/Wokingham   \n",
       "9              https://en.wikipedia.org/wiki/Chiltern   \n",
       "10     https://en.wikipedia.org/wiki/West_Oxfordshire   \n",
       "11           https://en.wikipedia.org/wiki/South_Hams   \n",
       "12    https://en.wikipedia.org/wiki/South_Oxfordshire   \n",
       "13  https://en.wikipedia.org/wiki/Tonbridge_and_Ma...   \n",
       "14          https://en.wikipedia.org/wiki/West_Dorset   \n",
       "15  https://en.wikipedia.org/wiki/South_Northampto...   \n",
       "16             https://en.wikipedia.org/wiki/Waverley   \n",
       "17     https://en.wikipedia.org/wiki/Shetland_Islands   \n",
       "18              https://en.wikipedia.org/wiki/Horsham   \n",
       "19       https://en.wikipedia.org/wiki/City_of_London   \n",
       "20    https://en.wikipedia.org/wiki/Stratford-on-Avon   \n",
       "21                 https://en.wikipedia.org/wiki/Eden   \n",
       "22  https://en.wikipedia.org/wiki/Windsor_and_Maid...   \n",
       "23        https://en.wikipedia.org/wiki/Malvern_Hills   \n",
       "24          https://en.wikipedia.org/wiki/Mole_Valley   \n",
       "25                 https://en.wikipedia.org/wiki/Hart   \n",
       "26            https://en.wikipedia.org/wiki/Mid_Devon   \n",
       "27              https://en.wikipedia.org/wiki/Rutland   \n",
       "28              https://en.wikipedia.org/wiki/Ryedale   \n",
       "29            https://en.wikipedia.org/wiki/Lichfield   \n",
       "30  https://en.wikipedia.org/wiki/Richmond_upon_Th...   \n",
       "31                https://en.wikipedia.org/wiki/Rugby   \n",
       "32        https://en.wikipedia.org/wiki/Richmondshire   \n",
       "33            https://en.wikipedia.org/wiki/Guildford   \n",
       "34           https://en.wikipedia.org/wiki/Uttlesford   \n",
       "35               https://en.wikipedia.org/wiki/Maldon   \n",
       "36        https://en.wikipedia.org/wiki/Monmouthshire   \n",
       "37              https://en.wikipedia.org/wiki/Babergh   \n",
       "38  https://en.wikipedia.org/wiki/Vale_of_White_Horse   \n",
       "39           https://en.wikipedia.org/wiki/Rushcliffe   \n",
       "40            https://en.wikipedia.org/wiki/Harrogate   \n",
       "41           https://en.wikipedia.org/wiki/Mid_Sussex   \n",
       "42  https://en.wikipedia.org/wiki/Reigate_and_Bans...   \n",
       "43          https://en.wikipedia.org/wiki/Westminster   \n",
       "44            https://en.wikipedia.org/wiki/Wiltshire   \n",
       "45           https://en.wikipedia.org/wiki/Harborough   \n",
       "46   https://en.wikipedia.org/wiki/East_Hertfordshire   \n",
       "47       https://en.wikipedia.org/wiki/West_Berkshire   \n",
       "48              https://en.wikipedia.org/wiki/Wycombe   \n",
       "49       https://en.wikipedia.org/wiki/Aylesbury_Vale   \n",
       "\n",
       "                      location   latitude  longitude  \n",
       "0          51.0632Â°N 1.308Â°W  51.063200  -1.308000  \n",
       "1                   59Â°N 3Â°W  59.000000  -3.000000  \n",
       "2           52.114Â°N 2.081Â°W  52.114000  -2.081000  \n",
       "3             53.05Â°N 1.70Â°W  53.050000  -1.700000  \n",
       "4           54.334Â°N 1.429Â°W  54.334000  -1.429000  \n",
       "5           52.132Â°N 0.105Â°E  52.132000   0.105000  \n",
       "6                          NaN  50.637600  -2.057900  \n",
       "7           51.755Â°N 0.336Â°W  51.755000  -0.336000  \n",
       "8           51.410Â°N 0.840Â°W  51.410000  -0.840000  \n",
       "9                          NaN  51.660600  -0.640900  \n",
       "10      51.79333Â°N 1.47917Â°W  51.793330  -1.479170  \n",
       "11      50.43139Â°N 3.69111Â°W  50.431390  -3.691110  \n",
       "12            51.65Â°N 1.05Â°W  51.650000  -1.050000  \n",
       "13          51.283Â°N 0.350Â°E  51.283000   0.350000  \n",
       "14        50.7889Â°N 2.5980Â°W  50.788900  -2.598000  \n",
       "15            52.10Â°N 1.10Â°W  52.100000  -1.100000  \n",
       "16                         NaN  51.184292  -0.617581  \n",
       "17          60.350Â°N 1.217Â°W  60.350000  -1.217000  \n",
       "18          51.062Â°N 0.325Â°W  51.062000  -0.325000  \n",
       "19        51.5155Â°N 0.0922Â°W  51.515500  -0.092200  \n",
       "20           52.19Â°N 1.710Â°W  52.190000  -1.710000  \n",
       "21                         NaN  54.666700  -2.754400  \n",
       "22        51.4667Â°N 0.6667Â°W  51.466700  -0.666700  \n",
       "23          52.083Â°N 2.333Â°W  52.083000  -2.333000  \n",
       "24  51.3160222Â°N 0.4936972Â°W  51.316022  -0.493697  \n",
       "25                         NaN  51.279400  -0.846100  \n",
       "26          50.900Â°N 3.490Â°W  50.900000  -3.490000  \n",
       "27          52.650Â°N 0.633Â°W  52.650000  -0.633000  \n",
       "28           54.139Â°N 0.79Â°W  54.139000  -0.790000  \n",
       "29       52.6835Â°N 1.82653Â°W  52.683500  -1.826530  \n",
       "30          51.417Â°N 0.333Â°W  51.417000  -0.333000  \n",
       "31                         NaN  52.370000   1.260000  \n",
       "32          54.330Â°N 2.012Â°W  54.330000  -2.012000  \n",
       "33        51.2365Â°N 0.5703Â°W  51.236500  -0.570300  \n",
       "34        52.0190Â°N 0.2367Â°E  52.019000   0.236700  \n",
       "35                         NaN  51.731800   0.675800  \n",
       "36          51.783Â°N 2.867Â°W  51.783000  -2.867000  \n",
       "37          52.048Â°N 0.948Â°E  52.048000   0.948000  \n",
       "38              51.6Â°N 1.5Â°W  51.600000  -1.500000  \n",
       "39            52.90Â°N 1.05Â°W  52.900000  -1.050000  \n",
       "40          53.991Â°N 1.539Â°W  53.991000  -1.539000  \n",
       "41   51.020667Â°N 0.1373278Â°W  51.020667  -0.137328  \n",
       "42          51.249Â°N 0.160Â°W  51.249000  -0.160000  \n",
       "43        51.4995Â°N 0.1333Â°W  51.499500  -0.133300  \n",
       "44          51.333Â°N 1.917Â°W  51.333000  -1.917000  \n",
       "45        52.4785Â°N 0.9206Â°W  52.478500  -0.920600  \n",
       "46         51.900Â°N -0.000Â°E  51.900000   0.000000  \n",
       "47        51.4009Â°N 1.3235Â°W  51.400900  -1.323500  \n",
       "48                         NaN  51.638500  -0.807900  \n",
       "49        51.8910Â°N 0.9120Â°W  51.891000  -0.912000  "
      ]
     },
     "execution_count": 5,
     "metadata": {},
     "output_type": "execute_result"
    }
   ],
   "source": [
    "df_qol = pd.read_csv(\"https://raw.githubusercontent.com/omeyrick/PlacesToLive/master/data/Halifax_quality_of_life.csv\")\n",
    "df_qol"
   ]
  },
  {
   "cell_type": "markdown",
   "metadata": {
    "extensions": {
     "jupyter_dashboards": {
      "version": 1,
      "views": {
       "grid_default": {
        "col": 0,
        "height": 4,
        "hidden": false,
        "row": 4,
        "width": 4
       },
       "report_default": {
        "hidden": false
       }
      }
     }
    }
   },
   "source": [
    "## UK Tech Centres\n",
    "\n",
    "Sourced from http://www.techcityuk.com/"
   ]
  },
  {
   "cell_type": "code",
   "execution_count": 6,
   "metadata": {
    "extensions": {
     "jupyter_dashboards": {
      "version": 1,
      "views": {
       "grid_default": {
        "col": 0,
        "height": 9,
        "hidden": false,
        "row": 35,
        "width": 6
       },
       "report_default": {
        "hidden": false
       }
      }
     }
    }
   },
   "outputs": [
    {
     "data": {
      "text/html": [
       "<div>\n",
       "<table border=\"1\" class=\"dataframe\">\n",
       "  <thead>\n",
       "    <tr style=\"text-align: right;\">\n",
       "      <th></th>\n",
       "      <th>city</th>\n",
       "      <th>digital company growth</th>\n",
       "      <th>number of digital companies</th>\n",
       "      <th>postcode</th>\n",
       "      <th>id</th>\n",
       "      <th>latitude</th>\n",
       "      <th>longitude</th>\n",
       "    </tr>\n",
       "  </thead>\n",
       "  <tbody>\n",
       "    <tr>\n",
       "      <th>0</th>\n",
       "      <td>Inner London</td>\n",
       "      <td>0.92</td>\n",
       "      <td>300169</td>\n",
       "      <td>SE1 2AA</td>\n",
       "      <td>397296</td>\n",
       "      <td>51.504850</td>\n",
       "      <td>-0.078693</td>\n",
       "    </tr>\n",
       "    <tr>\n",
       "      <th>1</th>\n",
       "      <td>Greater Manchester</td>\n",
       "      <td>0.70</td>\n",
       "      <td>62653</td>\n",
       "      <td>M60 2LA</td>\n",
       "      <td>818198</td>\n",
       "      <td>53.487361</td>\n",
       "      <td>-2.227197</td>\n",
       "    </tr>\n",
       "    <tr>\n",
       "      <th>2</th>\n",
       "      <td>Reading</td>\n",
       "      <td>0.05</td>\n",
       "      <td>45269</td>\n",
       "      <td>RG1 1QH</td>\n",
       "      <td>502535</td>\n",
       "      <td>51.457122</td>\n",
       "      <td>-0.969885</td>\n",
       "    </tr>\n",
       "    <tr>\n",
       "      <th>3</th>\n",
       "      <td>Birmingham</td>\n",
       "      <td>0.51</td>\n",
       "      <td>36802</td>\n",
       "      <td>B3 3DQ</td>\n",
       "      <td>1683506</td>\n",
       "      <td>52.479437</td>\n",
       "      <td>-1.903691</td>\n",
       "    </tr>\n",
       "    <tr>\n",
       "      <th>4</th>\n",
       "      <td>Bath &amp; Bristol</td>\n",
       "      <td>0.05</td>\n",
       "      <td>35924</td>\n",
       "      <td>BS1 5TR</td>\n",
       "      <td>1530968</td>\n",
       "      <td>51.452606</td>\n",
       "      <td>-2.601982</td>\n",
       "    </tr>\n",
       "  </tbody>\n",
       "</table>\n",
       "</div>"
      ],
      "text/plain": [
       "                 city  digital company growth  number of digital companies  \\\n",
       "0        Inner London                    0.92                       300169   \n",
       "1  Greater Manchester                    0.70                        62653   \n",
       "2             Reading                    0.05                        45269   \n",
       "3          Birmingham                    0.51                        36802   \n",
       "4      Bath & Bristol                    0.05                        35924   \n",
       "\n",
       "  postcode       id   latitude  longitude  \n",
       "0  SE1 2AA   397296  51.504850  -0.078693  \n",
       "1  M60 2LA   818198  53.487361  -2.227197  \n",
       "2  RG1 1QH   502535  51.457122  -0.969885  \n",
       "3   B3 3DQ  1683506  52.479437  -1.903691  \n",
       "4  BS1 5TR  1530968  51.452606  -2.601982  "
      ]
     },
     "execution_count": 6,
     "metadata": {},
     "output_type": "execute_result"
    }
   ],
   "source": [
    "df_tech = pd.read_csv(\"https://raw.githubusercontent.com/omeyrick/PlacesToLive/master/data/top_tech_cities.csv\")\n",
    "df_tech = df_tech.merge(df_postcodes, on = 'postcode', how = 'left')\n",
    "df_tech.head()"
   ]
  },
  {
   "cell_type": "markdown",
   "metadata": {
    "extensions": {
     "jupyter_dashboards": {
      "version": 1,
      "views": {
       "grid_default": {
        "col": 4,
        "height": 4,
        "hidden": false,
        "row": 4,
        "width": 4
       },
       "report_default": {
        "hidden": true
       }
      }
     }
    }
   },
   "source": [
    "## Best Places For Artists\n",
    "\n",
    "Sourced from random articles online. Could find a better proxy (theatres?)"
   ]
  },
  {
   "cell_type": "code",
   "execution_count": 7,
   "metadata": {
    "extensions": {
     "jupyter_dashboards": {
      "version": 1,
      "views": {
       "grid_default": {
        "col": 8,
        "height": 8,
        "hidden": false,
        "row": 25,
        "width": 4
       },
       "report_default": {
        "hidden": true
       }
      }
     }
    }
   },
   "outputs": [
    {
     "data": {
      "text/html": [
       "<div>\n",
       "<table border=\"1\" class=\"dataframe\">\n",
       "  <thead>\n",
       "    <tr style=\"text-align: right;\">\n",
       "      <th></th>\n",
       "      <th>location</th>\n",
       "      <th>postcode</th>\n",
       "      <th>id</th>\n",
       "      <th>latitude</th>\n",
       "      <th>longitude</th>\n",
       "    </tr>\n",
       "  </thead>\n",
       "  <tbody>\n",
       "    <tr>\n",
       "      <th>0</th>\n",
       "      <td>St Ives</td>\n",
       "      <td>TR26 2DS</td>\n",
       "      <td>158205</td>\n",
       "      <td>50.211618</td>\n",
       "      <td>-5.479880</td>\n",
       "    </tr>\n",
       "    <tr>\n",
       "      <th>1</th>\n",
       "      <td>Aldeburgh</td>\n",
       "      <td>IP15 5DS</td>\n",
       "      <td>1019136</td>\n",
       "      <td>52.154941</td>\n",
       "      <td>1.602925</td>\n",
       "    </tr>\n",
       "    <tr>\n",
       "      <th>2</th>\n",
       "      <td>Lewes</td>\n",
       "      <td>BN7 2QS</td>\n",
       "      <td>1540096</td>\n",
       "      <td>50.873543</td>\n",
       "      <td>0.010354</td>\n",
       "    </tr>\n",
       "    <tr>\n",
       "      <th>3</th>\n",
       "      <td>Hay-on-Wye</td>\n",
       "      <td>HR3 5BL</td>\n",
       "      <td>1052486</td>\n",
       "      <td>52.075093</td>\n",
       "      <td>-3.124624</td>\n",
       "    </tr>\n",
       "    <tr>\n",
       "      <th>4</th>\n",
       "      <td>Stratford-upon-Avon</td>\n",
       "      <td>CV37 6EF</td>\n",
       "      <td>1373985</td>\n",
       "      <td>52.191333</td>\n",
       "      <td>-1.705438</td>\n",
       "    </tr>\n",
       "  </tbody>\n",
       "</table>\n",
       "</div>"
      ],
      "text/plain": [
       "              location  postcode       id   latitude  longitude\n",
       "0              St Ives  TR26 2DS   158205  50.211618  -5.479880\n",
       "1            Aldeburgh  IP15 5DS  1019136  52.154941   1.602925\n",
       "2                Lewes   BN7 2QS  1540096  50.873543   0.010354\n",
       "3           Hay-on-Wye   HR3 5BL  1052486  52.075093  -3.124624\n",
       "4  Stratford-upon-Avon  CV37 6EF  1373985  52.191333  -1.705438"
      ]
     },
     "execution_count": 7,
     "metadata": {},
     "output_type": "execute_result"
    }
   ],
   "source": [
    "df_art = pd.read_csv(\"https://raw.githubusercontent.com/omeyrick/PlacesToLive/master/data/artistic_locations.csv\")\n",
    "df_art = df_art.merge(df_postcodes, on = 'postcode', how = 'left')\n",
    "df_art.head(5)"
   ]
  },
  {
   "cell_type": "markdown",
   "metadata": {
    "extensions": {
     "jupyter_dashboards": {
      "version": 1,
      "views": {
       "grid_default": {
        "col": 6,
        "height": 4,
        "hidden": false,
        "row": 35,
        "width": 6
       },
       "report_default": {
        "hidden": false
       }
      }
     }
    }
   },
   "source": [
    "## Schools: HMC Schools\n",
    "\n",
    "Sourced from https://en.wikipedia.org/wiki/Headmasters'_and_Headmistresses'_Conference"
   ]
  },
  {
   "cell_type": "code",
   "execution_count": 8,
   "metadata": {
    "extensions": {
     "jupyter_dashboards": {
      "version": 1,
      "views": {
       "grid_default": {
        "col": 0,
        "height": 10,
        "hidden": false,
        "row": 44,
        "width": 7
       },
       "report_default": {
        "hidden": false
       }
      }
     }
    }
   },
   "outputs": [
    {
     "data": {
      "text/html": [
       "<div>\n",
       "<table border=\"1\" class=\"dataframe\">\n",
       "  <thead>\n",
       "    <tr style=\"text-align: right;\">\n",
       "      <th></th>\n",
       "      <th>hmc school</th>\n",
       "      <th>wikipedia link</th>\n",
       "      <th>postcode</th>\n",
       "      <th>id</th>\n",
       "      <th>latitude</th>\n",
       "      <th>longitude</th>\n",
       "    </tr>\n",
       "  </thead>\n",
       "  <tbody>\n",
       "    <tr>\n",
       "      <th>0</th>\n",
       "      <td>The Abbey School, Reading</td>\n",
       "      <td>https://en.wikipedia.org/wiki/The_Abbey_School...</td>\n",
       "      <td>RG1 5DZ</td>\n",
       "      <td>502311.0</td>\n",
       "      <td>51.448619</td>\n",
       "      <td>-0.962739</td>\n",
       "    </tr>\n",
       "    <tr>\n",
       "      <th>1</th>\n",
       "      <td>Abingdon School</td>\n",
       "      <td>https://en.wikipedia.org/wiki/Abingdon_School</td>\n",
       "      <td>OX14 1DE</td>\n",
       "      <td>612789.0</td>\n",
       "      <td>51.672989</td>\n",
       "      <td>-1.288396</td>\n",
       "    </tr>\n",
       "    <tr>\n",
       "      <th>2</th>\n",
       "      <td>Ackworth School</td>\n",
       "      <td>https://en.wikipedia.org/wiki/Ackworth_School</td>\n",
       "      <td>WF7 7LT</td>\n",
       "      <td>57152.0</td>\n",
       "      <td>53.649536</td>\n",
       "      <td>-1.334989</td>\n",
       "    </tr>\n",
       "    <tr>\n",
       "      <th>3</th>\n",
       "      <td>Arnold KEQMS</td>\n",
       "      <td>https://en.wikipedia.org/wiki/Arnold_KEQMS</td>\n",
       "      <td>FY8 1DT</td>\n",
       "      <td>1166466.0</td>\n",
       "      <td>53.740840</td>\n",
       "      <td>-3.010122</td>\n",
       "    </tr>\n",
       "    <tr>\n",
       "      <th>4</th>\n",
       "      <td>Aldenham School</td>\n",
       "      <td>https://en.wikipedia.org/wiki/Aldenham_School</td>\n",
       "      <td>WD6 3AJ</td>\n",
       "      <td>70347.0</td>\n",
       "      <td>51.663244</td>\n",
       "      <td>-0.327918</td>\n",
       "    </tr>\n",
       "  </tbody>\n",
       "</table>\n",
       "</div>"
      ],
      "text/plain": [
       "                  hmc school  \\\n",
       "0  The Abbey School, Reading   \n",
       "1            Abingdon School   \n",
       "2            Ackworth School   \n",
       "3               Arnold KEQMS   \n",
       "4            Aldenham School   \n",
       "\n",
       "                                      wikipedia link  postcode         id  \\\n",
       "0  https://en.wikipedia.org/wiki/The_Abbey_School...   RG1 5DZ   502311.0   \n",
       "1      https://en.wikipedia.org/wiki/Abingdon_School  OX14 1DE   612789.0   \n",
       "2      https://en.wikipedia.org/wiki/Ackworth_School   WF7 7LT    57152.0   \n",
       "3         https://en.wikipedia.org/wiki/Arnold_KEQMS   FY8 1DT  1166466.0   \n",
       "4      https://en.wikipedia.org/wiki/Aldenham_School   WD6 3AJ    70347.0   \n",
       "\n",
       "    latitude  longitude  \n",
       "0  51.448619  -0.962739  \n",
       "1  51.672989  -1.288396  \n",
       "2  53.649536  -1.334989  \n",
       "3  53.740840  -3.010122  \n",
       "4  51.663244  -0.327918  "
      ]
     },
     "execution_count": 8,
     "metadata": {},
     "output_type": "execute_result"
    }
   ],
   "source": [
    "df_hmc = pd.read_csv(\"https://raw.githubusercontent.com/omeyrick/PlacesToLive/master/data/hmc_schools_postcode.csv\")\n",
    "df_hmc = df_hmc.merge(df_postcodes, on = 'postcode', how = 'left')\n",
    "df_hmc.head(5)"
   ]
  },
  {
   "cell_type": "markdown",
   "metadata": {
    "extensions": {
     "jupyter_dashboards": {
      "version": 1,
      "views": {
       "grid_default": {
        "col": 0,
        "height": 4,
        "hidden": false,
        "row": 54,
        "width": 12
       },
       "report_default": {
        "hidden": true
       }
      }
     }
    }
   },
   "source": [
    "## Schools: Outstanding Primaries & Secondaries\n",
    "\n",
    "Sourced from https://www.gov.uk/school-performance-tables"
   ]
  },
  {
   "cell_type": "code",
   "execution_count": 9,
   "metadata": {
    "collapsed": true,
    "extensions": {
     "jupyter_dashboards": {
      "version": 1,
      "views": {
       "grid_default": {
        "hidden": true
       },
       "report_default": {
        "hidden": true
       }
      }
     }
    }
   },
   "outputs": [],
   "source": [
    "df_offsted = pd.read_csv(\"https://raw.githubusercontent.com/omeyrick/PlacesToLive/master/data/offsted.csv\")\n",
    "df_offsted = df_offsted.rename(columns={'Postcode': 'postcode'})\n",
    "df_offsted = df_offsted.merge(df_postcodes, on = 'postcode', how = 'left')"
   ]
  },
  {
   "cell_type": "code",
   "execution_count": 10,
   "metadata": {
    "collapsed": true,
    "extensions": {
     "jupyter_dashboards": {
      "version": 1,
      "views": {
       "grid_default": {
        "hidden": true
       },
       "report_default": {
        "hidden": true
       }
      }
     }
    }
   },
   "outputs": [],
   "source": [
    "df_secondary_offsted = df_offsted.loc[df_offsted['Phase of education'] == 'Secondary']\n",
    "df_secondary_offsted = df_secondary_offsted.loc[df_secondary_offsted['Overall effectiveness'] == 1]"
   ]
  },
  {
   "cell_type": "code",
   "execution_count": 11,
   "metadata": {
    "collapsed": true,
    "extensions": {
     "jupyter_dashboards": {
      "version": 1,
      "views": {
       "grid_default": {
        "hidden": true
       },
       "report_default": {
        "hidden": true
       }
      }
     }
    }
   },
   "outputs": [],
   "source": [
    "df_primary_offsted = df_offsted.loc[df_offsted['Phase of education'] == 'Primary']\n",
    "df_primary_offsted = df_primary_offsted.loc[df_primary_offsted['Overall effectiveness'] == 1]"
   ]
  },
  {
   "cell_type": "markdown",
   "metadata": {
    "extensions": {
     "jupyter_dashboards": {
      "version": 1,
      "views": {
       "grid_default": {
        "col": 6,
        "height": 4,
        "hidden": false,
        "row": 39,
        "width": 4
       },
       "report_default": {
        "hidden": true
       }
      }
     }
    }
   },
   "source": [
    "## Waitrose Locations\n",
    "\n",
    "Sourced from http://www.waitrose.com/"
   ]
  },
  {
   "cell_type": "code",
   "execution_count": 12,
   "metadata": {
    "collapsed": true,
    "extensions": {
     "jupyter_dashboards": {
      "version": 1,
      "views": {
       "grid_default": {
        "hidden": true
       },
       "report_default": {
        "hidden": true
       }
      }
     }
    }
   },
   "outputs": [],
   "source": [
    "df_waitrose = pd.read_csv(\"https://raw.githubusercontent.com/omeyrick/PlacesToLive/master/data/waitrose_postcode.csv\")\n",
    "df_waitrose = df_waitrose.merge(df_postcodes, on = 'postcode', how = 'left')"
   ]
  },
  {
   "cell_type": "markdown",
   "metadata": {
    "extensions": {
     "jupyter_dashboards": {
      "version": 1,
      "views": {
       "grid_default": {
        "col": 7,
        "height": 4,
        "hidden": false,
        "row": 43,
        "width": 4
       },
       "report_default": {
        "hidden": true
       }
      }
     }
    }
   },
   "source": [
    "## Crown Post Offices"
   ]
  },
  {
   "cell_type": "code",
   "execution_count": 13,
   "metadata": {
    "extensions": {
     "jupyter_dashboards": {
      "version": 1,
      "views": {
       "grid_default": {
        "col": 7,
        "height": 7,
        "hidden": false,
        "row": 47,
        "width": 5
       },
       "report_default": {
        "hidden": true
       }
      }
     }
    }
   },
   "outputs": [
    {
     "data": {
      "text/html": [
       "<div>\n",
       "<table border=\"1\" class=\"dataframe\">\n",
       "  <thead>\n",
       "    <tr style=\"text-align: right;\">\n",
       "      <th></th>\n",
       "      <th>branch_name</th>\n",
       "      <th>postcode</th>\n",
       "      <th>id</th>\n",
       "      <th>latitude</th>\n",
       "      <th>longitude</th>\n",
       "    </tr>\n",
       "  </thead>\n",
       "  <tbody>\n",
       "    <tr>\n",
       "      <th>0</th>\n",
       "      <td>Abbey Wood</td>\n",
       "      <td>SE2 9NN</td>\n",
       "      <td>387408.0</td>\n",
       "      <td>51.489596</td>\n",
       "      <td>0.120750</td>\n",
       "    </tr>\n",
       "    <tr>\n",
       "      <th>1</th>\n",
       "      <td>Abergavenny</td>\n",
       "      <td>NP7 5EB</td>\n",
       "      <td>667539.0</td>\n",
       "      <td>51.821699</td>\n",
       "      <td>-3.019567</td>\n",
       "    </tr>\n",
       "    <tr>\n",
       "      <th>2</th>\n",
       "      <td>Aberystwyth</td>\n",
       "      <td>SY23 1DE</td>\n",
       "      <td>227742.0</td>\n",
       "      <td>52.414738</td>\n",
       "      <td>-4.084735</td>\n",
       "    </tr>\n",
       "    <tr>\n",
       "      <th>3</th>\n",
       "      <td>Acocks Green</td>\n",
       "      <td>B27 6BG</td>\n",
       "      <td>1685622.0</td>\n",
       "      <td>52.446691</td>\n",
       "      <td>-1.822046</td>\n",
       "    </tr>\n",
       "    <tr>\n",
       "      <th>4</th>\n",
       "      <td>Acton</td>\n",
       "      <td>W3 9LD</td>\n",
       "      <td>103165.0</td>\n",
       "      <td>51.508181</td>\n",
       "      <td>-0.271983</td>\n",
       "    </tr>\n",
       "  </tbody>\n",
       "</table>\n",
       "</div>"
      ],
      "text/plain": [
       "    branch_name  postcode         id   latitude  longitude\n",
       "0    Abbey Wood   SE2 9NN   387408.0  51.489596   0.120750\n",
       "1   Abergavenny   NP7 5EB   667539.0  51.821699  -3.019567\n",
       "2   Aberystwyth  SY23 1DE   227742.0  52.414738  -4.084735\n",
       "3  Acocks Green   B27 6BG  1685622.0  52.446691  -1.822046\n",
       "4         Acton    W3 9LD   103165.0  51.508181  -0.271983"
      ]
     },
     "execution_count": 13,
     "metadata": {},
     "output_type": "execute_result"
    }
   ],
   "source": [
    "df_post_offices = pd.read_csv(\"https://raw.githubusercontent.com/omeyrick/PlacesToLive/master/data/postoffices.csv\")\n",
    "df_post_offices = df_post_offices.merge(df_postcodes, on = 'postcode', how = 'left')\n",
    "df_post_offices.head()"
   ]
  },
  {
   "cell_type": "markdown",
   "metadata": {
    "extensions": {
     "jupyter_dashboards": {
      "version": 1,
      "views": {
       "grid_default": {
        "col": 0,
        "height": 4,
        "hidden": false,
        "row": 58,
        "width": 4
       },
       "report_default": {
        "hidden": true
       }
      }
     }
    }
   },
   "source": [
    "## Crossrail  / Elizabeth Line locations\n",
    "\n",
    "Sourced from http://www.crossrail.co.uk/route/maps/"
   ]
  },
  {
   "cell_type": "code",
   "execution_count": 14,
   "metadata": {
    "extensions": {
     "jupyter_dashboards": {
      "version": 1,
      "views": {
       "grid_default": {
        "col": 0,
        "height": 9,
        "hidden": false,
        "row": 62,
        "width": 10
       },
       "report_default": {
        "hidden": true
       }
      }
     }
    }
   },
   "outputs": [
    {
     "data": {
      "text/html": [
       "<div>\n",
       "<table border=\"1\" class=\"dataframe\">\n",
       "  <thead>\n",
       "    <tr style=\"text-align: right;\">\n",
       "      <th></th>\n",
       "      <th>cross rail station</th>\n",
       "      <th>tube_link</th>\n",
       "      <th>railway_link</th>\n",
       "      <th>location</th>\n",
       "      <th>latitude</th>\n",
       "      <th>longitude</th>\n",
       "    </tr>\n",
       "  </thead>\n",
       "  <tbody>\n",
       "    <tr>\n",
       "      <th>0</th>\n",
       "      <td>Reading</td>\n",
       "      <td>https://en.wikipedia.org/wiki/Reading_tube_sta...</td>\n",
       "      <td>https://en.wikipedia.org/wiki/Reading_railway_...</td>\n",
       "      <td>51.4590Â°N 0.9722Â°W</td>\n",
       "      <td>51.459</td>\n",
       "      <td>-0.9722</td>\n",
       "    </tr>\n",
       "    <tr>\n",
       "      <th>1</th>\n",
       "      <td>Twyford</td>\n",
       "      <td>https://en.wikipedia.org/wiki/Twyford_tube_sta...</td>\n",
       "      <td>https://en.wikipedia.org/wiki/Twyford_railway_...</td>\n",
       "      <td>51.476Â°N 0.863Â°W</td>\n",
       "      <td>51.476</td>\n",
       "      <td>-0.8630</td>\n",
       "    </tr>\n",
       "    <tr>\n",
       "      <th>2</th>\n",
       "      <td>Maidenhead</td>\n",
       "      <td>https://en.wikipedia.org/wiki/Maidenhead_tube_...</td>\n",
       "      <td>https://en.wikipedia.org/wiki/Maidenhead_railw...</td>\n",
       "      <td>51.519Â°N 0.723Â°W</td>\n",
       "      <td>51.519</td>\n",
       "      <td>-0.7230</td>\n",
       "    </tr>\n",
       "    <tr>\n",
       "      <th>3</th>\n",
       "      <td>Taplow</td>\n",
       "      <td>https://en.wikipedia.org/wiki/Taplow_tube_station</td>\n",
       "      <td>https://en.wikipedia.org/wiki/Taplow_railway_s...</td>\n",
       "      <td>51.524Â°N 0.681Â°W</td>\n",
       "      <td>51.524</td>\n",
       "      <td>-0.6810</td>\n",
       "    </tr>\n",
       "    <tr>\n",
       "      <th>4</th>\n",
       "      <td>Burnham</td>\n",
       "      <td>https://en.wikipedia.org/wiki/Burnham_tube_sta...</td>\n",
       "      <td>https://en.wikipedia.org/wiki/Burnham_railway_...</td>\n",
       "      <td>51.524Â°N 0.646Â°W</td>\n",
       "      <td>51.524</td>\n",
       "      <td>-0.6460</td>\n",
       "    </tr>\n",
       "  </tbody>\n",
       "</table>\n",
       "</div>"
      ],
      "text/plain": [
       "  cross rail station                                          tube_link  \\\n",
       "0            Reading  https://en.wikipedia.org/wiki/Reading_tube_sta...   \n",
       "1            Twyford  https://en.wikipedia.org/wiki/Twyford_tube_sta...   \n",
       "2         Maidenhead  https://en.wikipedia.org/wiki/Maidenhead_tube_...   \n",
       "3             Taplow  https://en.wikipedia.org/wiki/Taplow_tube_station   \n",
       "4            Burnham  https://en.wikipedia.org/wiki/Burnham_tube_sta...   \n",
       "\n",
       "                                        railway_link              location  \\\n",
       "0  https://en.wikipedia.org/wiki/Reading_railway_...  51.4590Â°N 0.9722Â°W   \n",
       "1  https://en.wikipedia.org/wiki/Twyford_railway_...    51.476Â°N 0.863Â°W   \n",
       "2  https://en.wikipedia.org/wiki/Maidenhead_railw...    51.519Â°N 0.723Â°W   \n",
       "3  https://en.wikipedia.org/wiki/Taplow_railway_s...    51.524Â°N 0.681Â°W   \n",
       "4  https://en.wikipedia.org/wiki/Burnham_railway_...    51.524Â°N 0.646Â°W   \n",
       "\n",
       "   latitude  longitude  \n",
       "0    51.459    -0.9722  \n",
       "1    51.476    -0.8630  \n",
       "2    51.519    -0.7230  \n",
       "3    51.524    -0.6810  \n",
       "4    51.524    -0.6460  "
      ]
     },
     "execution_count": 14,
     "metadata": {},
     "output_type": "execute_result"
    }
   ],
   "source": [
    "df_crossrail = pd.read_csv('https://raw.githubusercontent.com/omeyrick/PlacesToLive/master/data/crossrail.csv')\n",
    "df_crossrail.head()"
   ]
  },
  {
   "cell_type": "markdown",
   "metadata": {
    "extensions": {
     "jupyter_dashboards": {
      "version": 1,
      "views": {
       "grid_default": {
        "col": 4,
        "height": 4,
        "hidden": false,
        "row": 58,
        "width": 6
       },
       "report_default": {
        "hidden": true
       }
      }
     }
    }
   },
   "source": [
    "## UK International Airports\n",
    "\n",
    "Source from https://en.wikipedia.org/wiki/List_of_international_airports_by_country#United_Kingdom"
   ]
  },
  {
   "cell_type": "code",
   "execution_count": 15,
   "metadata": {
    "extensions": {
     "jupyter_dashboards": {
      "version": 1,
      "views": {
       "grid_default": {
        "col": 0,
        "height": 11,
        "hidden": false,
        "row": 71,
        "width": 12
       },
       "report_default": {
        "hidden": true
       }
      }
     }
    }
   },
   "outputs": [
    {
     "data": {
      "text/html": [
       "<div>\n",
       "<table border=\"1\" class=\"dataframe\">\n",
       "  <thead>\n",
       "    <tr style=\"text-align: right;\">\n",
       "      <th></th>\n",
       "      <th>Location</th>\n",
       "      <th>Airport</th>\n",
       "      <th>IATA Code</th>\n",
       "      <th>Passenger Role</th>\n",
       "      <th>2015 Passengers</th>\n",
       "      <th>2015 Daily Avg.</th>\n",
       "      <th>link</th>\n",
       "      <th>location</th>\n",
       "      <th>latitude</th>\n",
       "      <th>longitude</th>\n",
       "    </tr>\n",
       "  </thead>\n",
       "  <tbody>\n",
       "    <tr>\n",
       "      <th>0</th>\n",
       "      <td>Birmingham</td>\n",
       "      <td>Birmingham International Airport</td>\n",
       "      <td>BHX</td>\n",
       "      <td>Medium</td>\n",
       "      <td>10,187,122</td>\n",
       "      <td>27,910</td>\n",
       "      <td>https://en.wikipedia.org/wiki/Birmingham_Inter...</td>\n",
       "      <td>52°27′14″N001°44′53″W</td>\n",
       "      <td>52.453889</td>\n",
       "      <td>-1.748056</td>\n",
       "    </tr>\n",
       "    <tr>\n",
       "      <th>1</th>\n",
       "      <td>Bournemouth</td>\n",
       "      <td>Bournemouth Airport</td>\n",
       "      <td>BOH</td>\n",
       "      <td>Small</td>\n",
       "      <td>705,403</td>\n",
       "      <td>1,933</td>\n",
       "      <td>https://en.wikipedia.org/wiki/Bournemouth_Airport</td>\n",
       "      <td>50.78000Â°N 1.84250Â°W</td>\n",
       "      <td>50.780000</td>\n",
       "      <td>-1.842500</td>\n",
       "    </tr>\n",
       "    <tr>\n",
       "      <th>2</th>\n",
       "      <td>Bristol</td>\n",
       "      <td>Bristol Airport</td>\n",
       "      <td>BRS</td>\n",
       "      <td>Medium</td>\n",
       "      <td>6,786,790</td>\n",
       "      <td>18,594</td>\n",
       "      <td>https://en.wikipedia.org/wiki/Bristol_Airport</td>\n",
       "      <td>51.38278Â°N 2.71917Â°W</td>\n",
       "      <td>51.382780</td>\n",
       "      <td>-2.719170</td>\n",
       "    </tr>\n",
       "    <tr>\n",
       "      <th>3</th>\n",
       "      <td>Cardiff</td>\n",
       "      <td>Cardiff Airport</td>\n",
       "      <td>CWL</td>\n",
       "      <td>Small</td>\n",
       "      <td>1,160,506</td>\n",
       "      <td>3,179</td>\n",
       "      <td>https://en.wikipedia.org/wiki/Cardiff_Airport</td>\n",
       "      <td>51.39667Â°N 3.34333Â°W</td>\n",
       "      <td>51.396670</td>\n",
       "      <td>-3.343330</td>\n",
       "    </tr>\n",
       "    <tr>\n",
       "      <th>4</th>\n",
       "      <td>Doncaster/Sheffield</td>\n",
       "      <td>Robin Hood Airport Doncaster Sheffield</td>\n",
       "      <td>DSA</td>\n",
       "      <td>Small</td>\n",
       "      <td>856,952</td>\n",
       "      <td>2,348</td>\n",
       "      <td>https://en.wikipedia.org/wiki/Robin_Hood_Airpo...</td>\n",
       "      <td>53.47528Â°N 1.00417Â°W</td>\n",
       "      <td>53.475280</td>\n",
       "      <td>-1.004170</td>\n",
       "    </tr>\n",
       "  </tbody>\n",
       "</table>\n",
       "</div>"
      ],
      "text/plain": [
       "              Location                                 Airport IATA Code  \\\n",
       "0           Birmingham        Birmingham International Airport       BHX   \n",
       "1          Bournemouth                     Bournemouth Airport       BOH   \n",
       "2              Bristol                         Bristol Airport       BRS   \n",
       "3              Cardiff                         Cardiff Airport       CWL   \n",
       "4  Doncaster/Sheffield  Robin Hood Airport Doncaster Sheffield       DSA   \n",
       "\n",
       "  Passenger Role 2015 Passengers 2015 Daily Avg.  \\\n",
       "0         Medium      10,187,122          27,910   \n",
       "1          Small         705,403           1,933   \n",
       "2         Medium       6,786,790          18,594   \n",
       "3          Small       1,160,506           3,179   \n",
       "4          Small         856,952           2,348   \n",
       "\n",
       "                                                link                location  \\\n",
       "0  https://en.wikipedia.org/wiki/Birmingham_Inter...   52°27′14″N001°44′53″W   \n",
       "1  https://en.wikipedia.org/wiki/Bournemouth_Airport  50.78000Â°N 1.84250Â°W   \n",
       "2      https://en.wikipedia.org/wiki/Bristol_Airport  51.38278Â°N 2.71917Â°W   \n",
       "3      https://en.wikipedia.org/wiki/Cardiff_Airport  51.39667Â°N 3.34333Â°W   \n",
       "4  https://en.wikipedia.org/wiki/Robin_Hood_Airpo...  53.47528Â°N 1.00417Â°W   \n",
       "\n",
       "    latitude  longitude  \n",
       "0  52.453889  -1.748056  \n",
       "1  50.780000  -1.842500  \n",
       "2  51.382780  -2.719170  \n",
       "3  51.396670  -3.343330  \n",
       "4  53.475280  -1.004170  "
      ]
     },
     "execution_count": 15,
     "metadata": {},
     "output_type": "execute_result"
    }
   ],
   "source": [
    "df_airports = pd.read_csv(\"https://raw.githubusercontent.com/omeyrick/PlacesToLive/master/data/international_airports.csv\")\n",
    "df_airports.head()"
   ]
  },
  {
   "cell_type": "markdown",
   "metadata": {
    "extensions": {
     "jupyter_dashboards": {
      "version": 1,
      "views": {
       "grid_default": {
        "col": 0,
        "height": 5,
        "hidden": false,
        "row": 82,
        "width": 12
       },
       "report_default": {
        "hidden": false
       }
      }
     }
    }
   },
   "source": [
    "## UK Railway Stations\n",
    "\n",
    "Data for all train stations in the UK, including time to London and number of changes.  \n",
    "Timetable data sourced from http://www.nationalrail.co.uk/ on 12th April 2017  \n",
    "Station data from http://orr.gov.uk/statistics/published-stats/station-usage-estimates"
   ]
  },
  {
   "cell_type": "code",
   "execution_count": 72,
   "metadata": {
    "collapsed": true,
    "extensions": {
     "jupyter_dashboards": {
      "version": 1,
      "views": {
       "grid_default": {
        "hidden": true
       },
       "report_default": {
        "hidden": true
       }
      }
     }
    }
   },
   "outputs": [],
   "source": [
    "df_stations = pd.read_csv(\"https://raw.githubusercontent.com/omeyrick/PlacesToLive/master/data/station_tlc_postcode.csv\")"
   ]
  },
  {
   "cell_type": "code",
   "execution_count": 73,
   "metadata": {
    "collapsed": true,
    "extensions": {
     "jupyter_dashboards": {
      "version": 1,
      "views": {
       "grid_default": {
        "hidden": true
       },
       "report_default": {
        "hidden": true
       }
      }
     }
    }
   },
   "outputs": [],
   "source": [
    "df_stations['Location for map'] = df_stations['Location for map'].str.replace(', UK' , '')\n",
    "df_stations = df_stations.rename(columns={'Origin TLC':'tlc','Location for map':'postcode'})"
   ]
  },
  {
   "cell_type": "code",
   "execution_count": 74,
   "metadata": {
    "extensions": {
     "jupyter_dashboards": {
      "version": 1,
      "views": {
       "grid_default": {
        "col": 0,
        "height": 13,
        "hidden": false,
        "row": 87,
        "width": 5
       },
       "report_default": {
        "hidden": true
       }
      }
     }
    }
   },
   "outputs": [
    {
     "data": {
      "text/html": [
       "<div>\n",
       "<table border=\"1\" class=\"dataframe\">\n",
       "  <thead>\n",
       "    <tr style=\"text-align: right;\">\n",
       "      <th></th>\n",
       "      <th>NLC</th>\n",
       "      <th>tlc</th>\n",
       "      <th>Station Name</th>\n",
       "      <th>postcode</th>\n",
       "      <th>Government Office Region (GOR)</th>\n",
       "      <th>County or Unitary Authority</th>\n",
       "      <th>District or Unitary Authority</th>\n",
       "    </tr>\n",
       "  </thead>\n",
       "  <tbody>\n",
       "    <tr>\n",
       "      <th>0</th>\n",
       "      <td>5131.0</td>\n",
       "      <td>ABW</td>\n",
       "      <td>Abbey Wood</td>\n",
       "      <td>SE2 9RH</td>\n",
       "      <td>London</td>\n",
       "      <td>Greater London</td>\n",
       "      <td>Greenwich</td>\n",
       "    </tr>\n",
       "    <tr>\n",
       "      <th>1</th>\n",
       "      <td>3813.0</td>\n",
       "      <td>ABE</td>\n",
       "      <td>Aber</td>\n",
       "      <td>CF83 1AQ</td>\n",
       "      <td>Wales - Cymru</td>\n",
       "      <td>Caerphilly - Caerffili</td>\n",
       "      <td>Caerphilly - Caerffili</td>\n",
       "    </tr>\n",
       "    <tr>\n",
       "      <th>2</th>\n",
       "      <td>3801.0</td>\n",
       "      <td>ACY</td>\n",
       "      <td>Abercynon</td>\n",
       "      <td>CF45 4SE</td>\n",
       "      <td>Wales - Cymru</td>\n",
       "      <td>Rhondda Cynon Taff - Rhondda Cynon Taf</td>\n",
       "      <td>Rhondda Cynon Taff - Rhondda Cynon Taf</td>\n",
       "    </tr>\n",
       "    <tr>\n",
       "      <th>3</th>\n",
       "      <td>3982.0</td>\n",
       "      <td>ABA</td>\n",
       "      <td>Aberdare</td>\n",
       "      <td>CF44 0PU</td>\n",
       "      <td>Wales - Cymru</td>\n",
       "      <td>Rhondda Cynon Taff - Rhondda Cynon Taf</td>\n",
       "      <td>Rhondda Cynon Taff - Rhondda Cynon Taf</td>\n",
       "    </tr>\n",
       "    <tr>\n",
       "      <th>4</th>\n",
       "      <td>8976.0</td>\n",
       "      <td>ABD</td>\n",
       "      <td>Aberdeen</td>\n",
       "      <td>AB11 6LX</td>\n",
       "      <td>Scotland</td>\n",
       "      <td>Aberdeen City</td>\n",
       "      <td>Aberdeen City</td>\n",
       "    </tr>\n",
       "  </tbody>\n",
       "</table>\n",
       "</div>"
      ],
      "text/plain": [
       "      NLC  tlc Station Name  postcode Government Office Region (GOR)  \\\n",
       "0  5131.0  ABW   Abbey Wood   SE2 9RH                         London   \n",
       "1  3813.0  ABE         Aber  CF83 1AQ                  Wales - Cymru   \n",
       "2  3801.0  ACY    Abercynon  CF45 4SE                  Wales - Cymru   \n",
       "3  3982.0  ABA     Aberdare  CF44 0PU                  Wales - Cymru   \n",
       "4  8976.0  ABD     Aberdeen  AB11 6LX                       Scotland   \n",
       "\n",
       "              County or Unitary Authority  \\\n",
       "0                          Greater London   \n",
       "1                  Caerphilly - Caerffili   \n",
       "2  Rhondda Cynon Taff - Rhondda Cynon Taf   \n",
       "3  Rhondda Cynon Taff - Rhondda Cynon Taf   \n",
       "4                           Aberdeen City   \n",
       "\n",
       "            District or Unitary Authority  \n",
       "0                               Greenwich  \n",
       "1                  Caerphilly - Caerffili  \n",
       "2  Rhondda Cynon Taff - Rhondda Cynon Taf  \n",
       "3  Rhondda Cynon Taff - Rhondda Cynon Taf  \n",
       "4                           Aberdeen City  "
      ]
     },
     "execution_count": 74,
     "metadata": {},
     "output_type": "execute_result"
    }
   ],
   "source": [
    "df_stations.head()"
   ]
  },
  {
   "cell_type": "code",
   "execution_count": 75,
   "metadata": {
    "collapsed": true,
    "extensions": {
     "jupyter_dashboards": {
      "version": 1,
      "views": {
       "grid_default": {
        "hidden": true
       },
       "report_default": {
        "hidden": true
       }
      }
     }
    }
   },
   "outputs": [],
   "source": [
    "df_master_times = pd.read_csv(\"https://raw.githubusercontent.com/omeyrick/PlacesToLive/master/data/train_times.csv\", index_col=0)"
   ]
  },
  {
   "cell_type": "code",
   "execution_count": 76,
   "metadata": {
    "collapsed": true,
    "extensions": {
     "jupyter_dashboards": {
      "version": 1,
      "views": {
       "grid_default": {
        "hidden": true
       },
       "report_default": {
        "hidden": true
       }
      }
     }
    }
   },
   "outputs": [],
   "source": [
    "#Tidy up time and station name data for merging and analysis\n",
    "df_master_times['time_hours'] = df_master_times['time'].str.extract('(.+?)h', expand=True)\n",
    "df_master_times['time_minutes'] = df_master_times['time'].str.extract('(\\d\\d)', expand=True)\n",
    "df_master_times['tlc'] = df_master_times['station'].str.extract('\\[(.*?)\\]', expand=True)"
   ]
  },
  {
   "cell_type": "code",
   "execution_count": 77,
   "metadata": {
    "extensions": {
     "jupyter_dashboards": {
      "version": 1,
      "views": {
       "grid_default": {
        "col": 5,
        "height": 11,
        "hidden": false,
        "row": 87,
        "width": 5
       },
       "report_default": {
        "hidden": true
       }
      }
     }
    }
   },
   "outputs": [
    {
     "data": {
      "text/html": [
       "<div>\n",
       "<table border=\"1\" class=\"dataframe\">\n",
       "  <thead>\n",
       "    <tr style=\"text-align: right;\">\n",
       "      <th></th>\n",
       "      <th>station</th>\n",
       "      <th>to</th>\n",
       "      <th>time</th>\n",
       "      <th>changes</th>\n",
       "      <th>time_hours</th>\n",
       "      <th>time_minutes</th>\n",
       "      <th>tlc</th>\n",
       "    </tr>\n",
       "  </thead>\n",
       "  <tbody>\n",
       "    <tr>\n",
       "      <th>0</th>\n",
       "      <td>Aber [ABE]</td>\n",
       "      <td>London Paddington [PAD]</td>\n",
       "      <td>2h37m</td>\n",
       "      <td>1.0</td>\n",
       "      <td>2</td>\n",
       "      <td>37</td>\n",
       "      <td>ABE</td>\n",
       "    </tr>\n",
       "    <tr>\n",
       "      <th>1</th>\n",
       "      <td>Aber [ABE]</td>\n",
       "      <td>London Paddington [PAD]</td>\n",
       "      <td>2h45m</td>\n",
       "      <td>1.0</td>\n",
       "      <td>2</td>\n",
       "      <td>45</td>\n",
       "      <td>ABE</td>\n",
       "    </tr>\n",
       "    <tr>\n",
       "      <th>2</th>\n",
       "      <td>Aber [ABE]</td>\n",
       "      <td>London Paddington [PAD]</td>\n",
       "      <td>2h40m</td>\n",
       "      <td>1.0</td>\n",
       "      <td>2</td>\n",
       "      <td>40</td>\n",
       "      <td>ABE</td>\n",
       "    </tr>\n",
       "    <tr>\n",
       "      <th>3</th>\n",
       "      <td>Aber [ABE]</td>\n",
       "      <td>London Paddington [PAD]</td>\n",
       "      <td>2h37m</td>\n",
       "      <td>1.0</td>\n",
       "      <td>2</td>\n",
       "      <td>37</td>\n",
       "      <td>ABE</td>\n",
       "    </tr>\n",
       "    <tr>\n",
       "      <th>4</th>\n",
       "      <td>Aber [ABE]</td>\n",
       "      <td>London Paddington [PAD]</td>\n",
       "      <td>2h38m</td>\n",
       "      <td>1.0</td>\n",
       "      <td>2</td>\n",
       "      <td>38</td>\n",
       "      <td>ABE</td>\n",
       "    </tr>\n",
       "  </tbody>\n",
       "</table>\n",
       "</div>"
      ],
      "text/plain": [
       "      station                       to   time  changes time_hours  \\\n",
       "0  Aber [ABE]  London Paddington [PAD]  2h37m      1.0          2   \n",
       "1  Aber [ABE]  London Paddington [PAD]  2h45m      1.0          2   \n",
       "2  Aber [ABE]  London Paddington [PAD]  2h40m      1.0          2   \n",
       "3  Aber [ABE]  London Paddington [PAD]  2h37m      1.0          2   \n",
       "4  Aber [ABE]  London Paddington [PAD]  2h38m      1.0          2   \n",
       "\n",
       "  time_minutes  tlc  \n",
       "0           37  ABE  \n",
       "1           45  ABE  \n",
       "2           40  ABE  \n",
       "3           37  ABE  \n",
       "4           38  ABE  "
      ]
     },
     "execution_count": 77,
     "metadata": {},
     "output_type": "execute_result"
    }
   ],
   "source": [
    "df_master_times.head()"
   ]
  },
  {
   "cell_type": "code",
   "execution_count": 78,
   "metadata": {
    "extensions": {
     "jupyter_dashboards": {
      "version": 1,
      "views": {
       "grid_default": {},
       "report_default": {
        "hidden": true
       }
      }
     }
    }
   },
   "outputs": [
    {
     "data": {
      "text/html": [
       "<div>\n",
       "<table border=\"1\" class=\"dataframe\">\n",
       "  <thead>\n",
       "    <tr style=\"text-align: right;\">\n",
       "      <th></th>\n",
       "      <th>station</th>\n",
       "      <th>to</th>\n",
       "      <th>time</th>\n",
       "      <th>changes</th>\n",
       "      <th>time_hours</th>\n",
       "      <th>time_minutes</th>\n",
       "      <th>tlc</th>\n",
       "    </tr>\n",
       "  </thead>\n",
       "  <tbody>\n",
       "    <tr>\n",
       "      <th>8331</th>\n",
       "      <td>Rugby [RUG]</td>\n",
       "      <td>London Euston [EUS]</td>\n",
       "      <td>52m</td>\n",
       "      <td>0.0</td>\n",
       "      <td>NaN</td>\n",
       "      <td>52</td>\n",
       "      <td>RUG</td>\n",
       "    </tr>\n",
       "    <tr>\n",
       "      <th>8332</th>\n",
       "      <td>Rugby [RUG]</td>\n",
       "      <td>London Euston [EUS]</td>\n",
       "      <td>1h03m</td>\n",
       "      <td>0.0</td>\n",
       "      <td>1</td>\n",
       "      <td>03</td>\n",
       "      <td>RUG</td>\n",
       "    </tr>\n",
       "    <tr>\n",
       "      <th>8333</th>\n",
       "      <td>Rugby [RUG]</td>\n",
       "      <td>London Euston [EUS]</td>\n",
       "      <td>54m</td>\n",
       "      <td>0.0</td>\n",
       "      <td>NaN</td>\n",
       "      <td>54</td>\n",
       "      <td>RUG</td>\n",
       "    </tr>\n",
       "    <tr>\n",
       "      <th>8334</th>\n",
       "      <td>Rugby [RUG]</td>\n",
       "      <td>London Euston [EUS]</td>\n",
       "      <td>52m</td>\n",
       "      <td>0.0</td>\n",
       "      <td>NaN</td>\n",
       "      <td>52</td>\n",
       "      <td>RUG</td>\n",
       "    </tr>\n",
       "    <tr>\n",
       "      <th>8335</th>\n",
       "      <td>Rugby [RUG]</td>\n",
       "      <td>London Euston [EUS]</td>\n",
       "      <td>57m</td>\n",
       "      <td>0.0</td>\n",
       "      <td>NaN</td>\n",
       "      <td>57</td>\n",
       "      <td>RUG</td>\n",
       "    </tr>\n",
       "  </tbody>\n",
       "</table>\n",
       "</div>"
      ],
      "text/plain": [
       "          station                   to   time  changes time_hours  \\\n",
       "8331  Rugby [RUG]  London Euston [EUS]    52m      0.0        NaN   \n",
       "8332  Rugby [RUG]  London Euston [EUS]  1h03m      0.0          1   \n",
       "8333  Rugby [RUG]  London Euston [EUS]    54m      0.0        NaN   \n",
       "8334  Rugby [RUG]  London Euston [EUS]    52m      0.0        NaN   \n",
       "8335  Rugby [RUG]  London Euston [EUS]    57m      0.0        NaN   \n",
       "\n",
       "     time_minutes  tlc  \n",
       "8331           52  RUG  \n",
       "8332           03  RUG  \n",
       "8333           54  RUG  \n",
       "8334           52  RUG  \n",
       "8335           57  RUG  "
      ]
     },
     "execution_count": 78,
     "metadata": {},
     "output_type": "execute_result"
    }
   ],
   "source": [
    "df_master_times[df_master_times['tlc'] == 'RUG']"
   ]
  },
  {
   "cell_type": "code",
   "execution_count": 79,
   "metadata": {
    "collapsed": true,
    "extensions": {
     "jupyter_dashboards": {
      "version": 1,
      "views": {
       "grid_default": {
        "hidden": true
       },
       "report_default": {
        "hidden": true
       }
      }
     }
    }
   },
   "outputs": [],
   "source": [
    "df_master_times = df_master_times.merge(df_stations, on = 'tlc', how = 'left')"
   ]
  },
  {
   "cell_type": "code",
   "execution_count": 80,
   "metadata": {
    "collapsed": true,
    "extensions": {
     "jupyter_dashboards": {
      "version": 1,
      "views": {
       "grid_default": {
        "hidden": true
       },
       "report_default": {
        "hidden": true
       }
      }
     }
    }
   },
   "outputs": [],
   "source": [
    "df_master_times = df_master_times.merge(df_postcodes, on = 'postcode', how = 'left')"
   ]
  },
  {
   "cell_type": "code",
   "execution_count": 81,
   "metadata": {
    "collapsed": true,
    "extensions": {
     "jupyter_dashboards": {
      "version": 1,
      "views": {
       "grid_default": {
        "hidden": true
       },
       "report_default": {
        "hidden": true
       }
      }
     }
    }
   },
   "outputs": [],
   "source": [
    "# Tidy up master times dataframe and add new 'total_time' column\n",
    "df_master_times[['time_hours','time_minutes']] = df_master_times[['time_hours','time_minutes']].apply(pd.to_numeric)\n",
    "df_master_times['time_hours'] = df_master_times['time_hours'].fillna(value=0)\n",
    "df_master_times['total_time'] = df_master_times['time_hours'] * 60 + df_master_times['time_minutes']\n",
    "df_master_times = df_master_times[df_master_times['id'] > 0]\n",
    "df_master_times = df_master_times[df_master_times['time_hours'] < 5]"
   ]
  },
  {
   "cell_type": "code",
   "execution_count": 82,
   "metadata": {
    "collapsed": true,
    "extensions": {
     "jupyter_dashboards": {
      "version": 1,
      "views": {
       "grid_default": {
        "hidden": true
       },
       "report_default": {
        "hidden": true
       }
      }
     }
    }
   },
   "outputs": [],
   "source": [
    "# Create pivotable showing minium travel time and London destination for each station\n",
    "pivot_min_times = pd.pivot_table(df_master_times, \n",
    "                                 index=['tlc','station'], \n",
    "                                 values=['time','total_time','time_hours', 'to', 'latitude','longitude'], \n",
    "                                 aggfunc=[np.min])\n",
    "# Convert pivotable to a dataframe so plotly can process\n",
    "df_min_times = pd.DataFrame(pivot_min_times.to_records())\n",
    "df_min_times.columns = [hdr.replace(\"('amin', '\", \"\").replace(\"')\", \"\") for hdr in df_min_times.columns]"
   ]
  },
  {
   "cell_type": "code",
   "execution_count": 83,
   "metadata": {},
   "outputs": [
    {
     "data": {
      "text/html": [
       "<div>\n",
       "<table border=\"1\" class=\"dataframe\">\n",
       "  <thead>\n",
       "    <tr style=\"text-align: right;\">\n",
       "      <th></th>\n",
       "      <th>tlc</th>\n",
       "      <th>station</th>\n",
       "      <th>latitude</th>\n",
       "      <th>longitude</th>\n",
       "      <th>time</th>\n",
       "      <th>time_hours</th>\n",
       "      <th>to</th>\n",
       "      <th>total_time</th>\n",
       "    </tr>\n",
       "  </thead>\n",
       "  <tbody>\n",
       "    <tr>\n",
       "      <th>0</th>\n",
       "      <td>ABE</td>\n",
       "      <td>Aber [ABE]</td>\n",
       "      <td>51.576011</td>\n",
       "      <td>-3.229352</td>\n",
       "      <td>2h37m</td>\n",
       "      <td>2.0</td>\n",
       "      <td>London Paddington [PAD]</td>\n",
       "      <td>157.0</td>\n",
       "    </tr>\n",
       "    <tr>\n",
       "      <th>1</th>\n",
       "      <td>ACG</td>\n",
       "      <td>Acocks Green [ACG]</td>\n",
       "      <td>52.449896</td>\n",
       "      <td>-1.819370</td>\n",
       "      <td>1h51m</td>\n",
       "      <td>1.0</td>\n",
       "      <td>London Euston [EUS]</td>\n",
       "      <td>111.0</td>\n",
       "    </tr>\n",
       "    <tr>\n",
       "      <th>2</th>\n",
       "      <td>ACL</td>\n",
       "      <td>Acle [ACL]</td>\n",
       "      <td>52.634735</td>\n",
       "      <td>1.543890</td>\n",
       "      <td>2h20m</td>\n",
       "      <td>2.0</td>\n",
       "      <td>London Liverpool Street [LST]</td>\n",
       "      <td>140.0</td>\n",
       "    </tr>\n",
       "    <tr>\n",
       "      <th>3</th>\n",
       "      <td>ACR</td>\n",
       "      <td>Accrington [ACR]</td>\n",
       "      <td>53.753163</td>\n",
       "      <td>-2.370566</td>\n",
       "      <td>2h51m</td>\n",
       "      <td>2.0</td>\n",
       "      <td>London Euston [EUS]</td>\n",
       "      <td>171.0</td>\n",
       "    </tr>\n",
       "    <tr>\n",
       "      <th>4</th>\n",
       "      <td>ACT</td>\n",
       "      <td>Ascot (Berks) [ACT]</td>\n",
       "      <td>51.406490</td>\n",
       "      <td>-0.675481</td>\n",
       "      <td>1h01m</td>\n",
       "      <td>0.0</td>\n",
       "      <td>London Paddington [PAD]</td>\n",
       "      <td>56.0</td>\n",
       "    </tr>\n",
       "  </tbody>\n",
       "</table>\n",
       "</div>"
      ],
      "text/plain": [
       "   tlc              station   latitude  longitude   time  time_hours  \\\n",
       "0  ABE           Aber [ABE]  51.576011  -3.229352  2h37m         2.0   \n",
       "1  ACG   Acocks Green [ACG]  52.449896  -1.819370  1h51m         1.0   \n",
       "2  ACL           Acle [ACL]  52.634735   1.543890  2h20m         2.0   \n",
       "3  ACR     Accrington [ACR]  53.753163  -2.370566  2h51m         2.0   \n",
       "4  ACT  Ascot (Berks) [ACT]  51.406490  -0.675481  1h01m         0.0   \n",
       "\n",
       "                              to  total_time  \n",
       "0        London Paddington [PAD]       157.0  \n",
       "1            London Euston [EUS]       111.0  \n",
       "2  London Liverpool Street [LST]       140.0  \n",
       "3            London Euston [EUS]       171.0  \n",
       "4        London Paddington [PAD]        56.0  "
      ]
     },
     "execution_count": 83,
     "metadata": {},
     "output_type": "execute_result"
    }
   ],
   "source": [
    "df_min_times.head()"
   ]
  },
  {
   "cell_type": "code",
   "execution_count": 27,
   "metadata": {
    "extensions": {
     "jupyter_dashboards": {
      "version": 1,
      "views": {
       "grid_default": {
        "col": 5,
        "height": 4,
        "hidden": false,
        "row": 98,
        "width": 6
       },
       "report_default": {
        "hidden": true
       }
      }
     }
    }
   },
   "outputs": [
    {
     "data": {
      "text/html": [
       "<div>\n",
       "<table border=\"1\" class=\"dataframe\">\n",
       "  <thead>\n",
       "    <tr style=\"text-align: right;\">\n",
       "      <th></th>\n",
       "      <th>tlc</th>\n",
       "      <th>station</th>\n",
       "      <th>latitude</th>\n",
       "      <th>longitude</th>\n",
       "      <th>time</th>\n",
       "      <th>time_hours</th>\n",
       "      <th>to</th>\n",
       "      <th>total_time</th>\n",
       "    </tr>\n",
       "  </thead>\n",
       "  <tbody>\n",
       "    <tr>\n",
       "      <th>1256</th>\n",
       "      <td>RUG</td>\n",
       "      <td>Rugby [RUG]</td>\n",
       "      <td>52.378929</td>\n",
       "      <td>-1.24893</td>\n",
       "      <td>1h03m</td>\n",
       "      <td>0.0</td>\n",
       "      <td>London Euston [EUS]</td>\n",
       "      <td>52.0</td>\n",
       "    </tr>\n",
       "  </tbody>\n",
       "</table>\n",
       "</div>"
      ],
      "text/plain": [
       "      tlc      station   latitude  longitude   time  time_hours  \\\n",
       "1256  RUG  Rugby [RUG]  52.378929   -1.24893  1h03m         0.0   \n",
       "\n",
       "                       to  total_time  \n",
       "1256  London Euston [EUS]        52.0  "
      ]
     },
     "execution_count": 27,
     "metadata": {},
     "output_type": "execute_result"
    }
   ],
   "source": [
    "df_min_times[df_min_times['tlc'] == 'RUG']"
   ]
  },
  {
   "cell_type": "markdown",
   "metadata": {
    "extensions": {
     "jupyter_dashboards": {
      "version": 1,
      "views": {
       "grid_default": {},
       "report_default": {
        "hidden": false
       }
      }
     }
    }
   },
   "source": [
    "## Plotly UK Map Scatterplot"
   ]
  },
  {
   "cell_type": "code",
   "execution_count": 29,
   "metadata": {
    "extensions": {
     "jupyter_dashboards": {
      "version": 1,
      "views": {
       "grid_default": {
        "col": 0,
        "height": 12,
        "hidden": false,
        "row": 100,
        "width": 4
       },
       "report_default": {
        "hidden": false
       }
      }
     }
    },
    "scrolled": true
   },
   "outputs": [
    {
     "data": {
      "text/html": [
       "<iframe id=\"igraph\" scrolling=\"no\" style=\"border:none;\" seamless=\"seamless\" src=\"https://plot.ly/~omeyrick/37.embed\" height=\"525px\" width=\"100%\"></iframe>"
      ],
      "text/plain": [
       "<plotly.tools.PlotlyDisplay object>"
      ]
     },
     "execution_count": 29,
     "metadata": {},
     "output_type": "execute_result"
    }
   ],
   "source": [
    "import plotly.plotly as py\n",
    "from plotly.graph_objs import *\n",
    "\n",
    "mapbox_access_token = 'pk.eyJ1Ijoib21leXJpY2siLCJhIjoiY2l6dm1uZmM4MDAwdjMzbzBoOGhhNWM3NyJ9.ztyR2B5aLZ49mMfZzEWhig'\n",
    "\n",
    "data = Data([\n",
    "    Scattermapbox(\n",
    "        legendgroup='Places',\n",
    "        name='Times Places To Live Survey',\n",
    "        lat=df_times['latitude'],\n",
    "        lon=df_times['longitude'],\n",
    "        text=df_times['Place'],\n",
    "        mode='markers',\n",
    "        marker=Marker(\n",
    "            size=20,\n",
    "            color='rgb(63,81,181)',\n",
    "            opacity=0.3\n",
    "        ),\n",
    "    ),\n",
    "    Scattermapbox(\n",
    "        legendgroup='Places',\n",
    "        name='Halifax Quality of Life Survey',\n",
    "        lat=df_qol['latitude'],\n",
    "        lon=df_qol['longitude'],\n",
    "        text=df_qol['Local Authority'],\n",
    "        mode='markers',\n",
    "        marker=Marker(\n",
    "            size=20,\n",
    "            color='rgb(33,150,243)',\n",
    "            opacity=0.3\n",
    "        ),\n",
    "    ),\n",
    "    #Scattermapbox(\n",
    "    #    legendgroup='Places',\n",
    "    #    name='Top Places For Artists',\n",
    "    #    lat=df_art['latitude'],\n",
    "    #    lon=df_art['longitude'],\n",
    "    #    text=df_art['location'],\n",
    "    #    mode='markers',\n",
    "    #    marker=Marker(\n",
    "    #        size=10,\n",
    "    #        color='rgb(244,220,191)',\n",
    "    #        opacity=0.5\n",
    "    #    ),\n",
    "    #),\n",
    "    Scattermapbox(\n",
    "        legendgroup='Schools',\n",
    "        name='HMC Schools',\n",
    "        lat=df_hmc['latitude'],\n",
    "        lon=df_hmc['longitude'],\n",
    "        text=df_hmc['hmc school'],\n",
    "        mode='markers',\n",
    "        marker=Marker(\n",
    "            size=6,\n",
    "            color='rgb(13, 71, 161)',\n",
    "            opacity=0.7\n",
    "        ),\n",
    "    ),\n",
    "    #Scattermapbox(\n",
    "    #    name='Crown Post Offices',\n",
    "    #    lat=df_post_offices['latitude'],\n",
    "    #    lon=df_post_offices['longitude'],\n",
    "    #    text=df_post_offices['branch_name'],\n",
    "    #    mode='markers',\n",
    "    #    marker=Marker(\n",
    "    #        size=6,\n",
    "    #        color='rgb(184, 16, 16)',\n",
    "    #        opacity=0.7\n",
    "    #    ),\n",
    "    #),\n",
    "    Scattermapbox(\n",
    "        legendgroup='Transport',\n",
    "        name='Cross Rail Stations',\n",
    "        lat=df_crossrail['latitude'],\n",
    "        lon=df_crossrail['longitude'],\n",
    "        text=df_crossrail['cross rail station'],\n",
    "        mode='markers',\n",
    "        marker=Marker(\n",
    "            size=6,\n",
    "            color='rgb(156, 39, 176)',\n",
    "            opacity=0.7,\n",
    "        ),\n",
    "    ),\n",
    "    Scattermapbox(\n",
    "        legendgroup='Schools',\n",
    "        name='Outstanding Secondaries',\n",
    "        lat=df_secondary_offsted['latitude'],\n",
    "        lon=df_secondary_offsted['longitude'],\n",
    "        text=df_secondary_offsted['School name'],\n",
    "        mode='markers',\n",
    "        marker=Marker(\n",
    "            size=6,\n",
    "            color='rgb(33, 150, 243)',\n",
    "            opacity=0.7\n",
    "        ),\n",
    "    ),\n",
    "    Scattermapbox(\n",
    "        legendgroup='Schools',\n",
    "        name='Outstanding Primaries',\n",
    "        lat=df_primary_offsted['latitude'],\n",
    "        lon=df_primary_offsted['longitude'],\n",
    "        text=df_primary_offsted['School name'],\n",
    "        mode='markers',\n",
    "        marker=Marker(\n",
    "            size=6,\n",
    "            color='rgb(66,165,245)',\n",
    "            opacity=0.7\n",
    "        ),\n",
    "    ),\n",
    "    Scattermapbox(\n",
    "        legendgroup='Services',\n",
    "        name='Waitrose',\n",
    "        lat=df_waitrose['latitude'],\n",
    "        lon=df_waitrose['longitude'],\n",
    "        text=df_waitrose['store name'],\n",
    "        mode='markers',\n",
    "        marker=Marker(\n",
    "            size=6,\n",
    "            color='rgb(76, 175, 80)',\n",
    "            opacity=0.7\n",
    "        ),\n",
    "    ),\n",
    "    Scattermapbox(\n",
    "        legendgroup='Transport',\n",
    "        name='International Airports',\n",
    "        lat=df_airports['latitude'],\n",
    "        lon=df_airports['longitude'],\n",
    "        text=df_airports['Airport'],\n",
    "        mode='markers',\n",
    "        marker=Marker(\n",
    "            size=6,\n",
    "            color='rgb(74,20,140)',\n",
    "        ),\n",
    "    ),\n",
    "    Scattermapbox(\n",
    "        legendgroup='Transport',\n",
    "        name='Railway Stations',\n",
    "        lat=df_min_times['latitude'],\n",
    "        lon=df_min_times['longitude'],\n",
    "        text=df_min_times['station'],\n",
    "        mode='markers',\n",
    "        marker=Marker(\n",
    "            size=6,\n",
    "            opacity=0.5,\n",
    "            color=df_min_times['time_hours'],\n",
    "            colorscale='Jet',\n",
    "            colorbar=ColorBar(title='LDN travel time - hrs'),\n",
    "            showscale=True\n",
    "        ),\n",
    "    ),\n",
    "    Scattermapbox(\n",
    "        legendgroup='Places',\n",
    "        name='Top UK Tech Centres',\n",
    "        lat=df_tech['latitude'],\n",
    "        lon=df_tech['longitude'],\n",
    "        text=df_tech['city'],\n",
    "        mode='markers',\n",
    "        marker=Marker(\n",
    "            size=12,\n",
    "            color='rgb(237, 2, 11)',\n",
    "            opacity=0.5\n",
    "        ),\n",
    "    )]\n",
    ")\n",
    "\n",
    "layout = Layout(\n",
    "    autosize=True,\n",
    "    hovermode='closest',\n",
    "    showlegend=True,\n",
    "    legend=dict(\n",
    "        orientation=\"h\",\n",
    "        x=0,\n",
    "        y=1.15\n",
    "        ),\n",
    "    mapbox=dict(\n",
    "        accesstoken=mapbox_access_token,\n",
    "        bearing=0,\n",
    "        center=dict(\n",
    "            lat=52,\n",
    "            lon=-1   \n",
    "        ),\n",
    "        zoom=6,\n",
    "        style='basic'\n",
    "    ),\n",
    ")\n",
    "\n",
    "fig = dict(data=data, layout=layout)\n",
    "py.iplot(fig, filename='Places to live')"
   ]
  }
 ],
 "metadata": {
  "extensions": {
   "jupyter_dashboards": {
    "activeView": "report_default",
    "version": 1,
    "views": {
     "grid_default": {
      "cellMargin": 10,
      "defaultCellHeight": 20,
      "maxColumns": 12,
      "name": "grid",
      "type": "grid"
     },
     "report_default": {
      "name": "report",
      "type": "report"
     }
    }
   }
  },
  "kernelspec": {
   "display_name": "Python [default]",
   "language": "python",
   "name": "python3"
  },
  "language_info": {
   "codemirror_mode": {
    "name": "ipython",
    "version": 3
   },
   "file_extension": ".py",
   "mimetype": "text/x-python",
   "name": "python",
   "nbconvert_exporter": "python",
   "pygments_lexer": "ipython3",
   "version": "3.5.2"
  },
  "widgets": {
   "application/vnd.jupyter.widget-state+json": {
    "state": {
     "04535590f6da4613b3cff352f7370bac": {
      "model_module": "jupyter-js-widgets",
      "model_module_version": "~2.1.4",
      "model_name": "FloatSliderModel",
      "state": {
       "_model_module_version": "~2.1.4",
       "_range": true,
       "_view_module_version": "~2.1.4",
       "description": "y",
       "layout": "IPY_MODEL_300ac13e38524a5d9b5bb0be9e8830f5",
       "max": 4,
       "step": 0.5,
       "value": [
        0,
        2
       ]
      }
     },
     "04e3389e807d46659035a1447eff8e49": {
      "model_module": "jupyter-js-widgets",
      "model_module_version": "~2.1.4",
      "model_name": "LayoutModel",
      "state": {
       "_model_module_version": "~2.1.4",
       "_view_module_version": "~2.1.4"
      }
     },
     "054aca4fb5f842369d69acf57205ce20": {
      "model_module": "jupyter-js-widgets",
      "model_module_version": "~2.1.4",
      "model_name": "LayoutModel",
      "state": {
       "_model_module_version": "~2.1.4",
       "_view_module_version": "~2.1.4"
      }
     },
     "080f78de704e4b73acff0615dd839a46": {
      "model_module": "jupyter-js-widgets",
      "model_module_version": "~2.1.4",
      "model_name": "FloatSliderModel",
      "state": {
       "_model_module_version": "~2.1.4",
       "_view_module_version": "~2.1.4",
       "layout": "IPY_MODEL_a693d1572a404ccfab36d4eb54d69309",
       "max": 4,
       "step": 0.5,
       "value": 1
      }
     },
     "084ee681490d40b685111d61f2a25f8a": {
      "model_module": "jupyter-js-widgets",
      "model_module_version": "~2.1.4",
      "model_name": "OutputModel",
      "state": {
       "_dom_classes": [],
       "_model_module": "jupyter-js-widgets",
       "_model_module_version": "~2.1.4",
       "_view_module": "jupyter-js-widgets",
       "_view_module_version": "~2.1.4",
       "layout": "IPY_MODEL_2a9f92551482477c8a7fd7b9a0721409",
       "msg_throttle": 1
      }
     },
     "0a2a12a2be9d48c09a2b0c30b2e834d5": {
      "model_module": "jupyter-js-widgets",
      "model_module_version": "~2.1.4",
      "model_name": "OutputModel",
      "state": {
       "_dom_classes": [],
       "_model_module": "jupyter-js-widgets",
       "_model_module_version": "~2.1.4",
       "_view_module": "jupyter-js-widgets",
       "_view_module_version": "~2.1.4",
       "layout": "IPY_MODEL_5a1068026b8a4c5290504df7a2f4c585",
       "msg_throttle": 1
      }
     },
     "0aa726ef3a5548a8bf2bdcd3aa9361f7": {
      "model_module": "jupyter-js-widgets",
      "model_module_version": "~2.1.4",
      "model_name": "SelectModel",
      "state": {
       "_model_module_version": "~2.1.4",
       "_options_labels": [
        "All",
        "London Blackfriars [BFR]",
        "London Bridge [LBG]",
        "London Cannon Street [CST]",
        "London Charing Cross [CHX]",
        "London Euston [EUS]",
        "London Fenchurch Street [FST]",
        "London Kings Cross [KGX]",
        "London Liverpool Street [LST]",
        "London Marylebone [MYB]",
        "London Paddington [PAD]",
        "London St Pancras International [STP]",
        "London Victoria [VIC]",
        "London Waterloo [WAT]"
       ],
       "_view_module_version": "~2.1.4",
       "description": "x",
       "layout": "IPY_MODEL_f74d46ca227d43b5bea4827e3a518e4d",
       "value": "All"
      }
     },
     "0be1bd29af10431baccd812b722ae514": {
      "model_module": "jupyter-js-widgets",
      "model_module_version": "~2.1.4",
      "model_name": "LayoutModel",
      "state": {
       "_model_module_version": "~2.1.4",
       "_view_module_version": "~2.1.4"
      }
     },
     "0d358e9c79d64f0ebec4c9a2a5c4e226": {
      "model_module": "jupyter-js-widgets",
      "model_module_version": "~2.1.4",
      "model_name": "VBoxModel",
      "state": {
       "_dom_classes": [
        "widget-interact"
       ],
       "_model_module_version": "~2.1.4",
       "_view_module_version": "~2.1.4",
       "children": [
        "IPY_MODEL_d5306630f5ad46dfbb70e1eddac8161c",
        "IPY_MODEL_1caf0f108c5040f696d62fbb3a5ec4b4"
       ],
       "layout": "IPY_MODEL_de894e7673964f3b94dccd4b3a0ea856"
      }
     },
     "0d61d34b1f21478cb3c1fe386ae02d0e": {
      "model_module": "jupyter-js-widgets",
      "model_module_version": "~2.1.4",
      "model_name": "LayoutModel",
      "state": {
       "_model_module_version": "~2.1.4",
       "_view_module_version": "~2.1.4"
      }
     },
     "0d851a23e47342c5867a54509bb04dea": {
      "model_module": "jupyter-js-widgets",
      "model_module_version": "~2.1.4",
      "model_name": "OutputModel",
      "state": {
       "_dom_classes": [],
       "_model_module": "jupyter-js-widgets",
       "_model_module_version": "~2.1.4",
       "_view_module": "jupyter-js-widgets",
       "_view_module_version": "~2.1.4",
       "layout": "IPY_MODEL_23801ad765ba4a709bfd36ab8b1ff7c1",
       "msg_throttle": 1
      }
     },
     "0dbfeee2864e4033868fc0d064605ac1": {
      "model_module": "jupyter-js-widgets",
      "model_module_version": "~2.1.4",
      "model_name": "SelectModel",
      "state": {
       "_model_module_version": "~2.1.4",
       "_options_labels": [
        "All",
        "London Blackfriars [BFR]",
        "London Bridge [LBG]",
        "London Cannon Street [CST]",
        "London Charing Cross [CHX]",
        "London Euston [EUS]",
        "London Fenchurch Street [FST]",
        "London Kings Cross [KGX]",
        "London Liverpool Street [LST]",
        "London Marylebone [MYB]",
        "London Paddington [PAD]",
        "London St Pancras International [STP]",
        "London Victoria [VIC]",
        "London Waterloo [WAT]"
       ],
       "_view_module_version": "~2.1.4",
       "layout": "IPY_MODEL_eb13d52f517b47cda3ffa3765f1426d7",
       "value": "All"
      }
     },
     "0f09c4dd916541b5bcfe613a5b7fa321": {
      "model_module": "jupyter-js-widgets",
      "model_module_version": "~2.1.4",
      "model_name": "LayoutModel",
      "state": {
       "_model_module_version": "~2.1.4",
       "_view_module_version": "~2.1.4"
      }
     },
     "105b83eae60f4dbd8a6e89ddac19332f": {
      "model_module": "jupyter-js-widgets",
      "model_module_version": "~2.1.4",
      "model_name": "SelectModel",
      "state": {
       "_model_module_version": "~2.1.4",
       "_options_labels": [
        "All",
        "London Blackfriars [BFR]",
        "London Bridge [LBG]",
        "London Cannon Street [CST]",
        "London Charing Cross [CHX]",
        "London Euston [EUS]",
        "London Fenchurch Street [FST]",
        "London Kings Cross [KGX]",
        "London Liverpool Street [LST]",
        "London Marylebone [MYB]",
        "London Paddington [PAD]",
        "London St Pancras International [STP]",
        "London Victoria [VIC]",
        "London Waterloo [WAT]"
       ],
       "_view_module_version": "~2.1.4",
       "layout": "IPY_MODEL_888b96ae033d46dda891c2d91d67f765",
       "value": "All"
      }
     },
     "12a20f2b8428422ca2476db9bbef76d1": {
      "model_module": "jupyter-js-widgets",
      "model_module_version": "~2.1.4",
      "model_name": "LayoutModel",
      "state": {
       "_model_module_version": "~2.1.4",
       "_view_module_version": "~2.1.4"
      }
     },
     "12adb4cd5592498088cb20ede10297d4": {
      "model_module": "jupyter-js-widgets",
      "model_module_version": "~2.1.4",
      "model_name": "LayoutModel",
      "state": {
       "_model_module_version": "~2.1.4",
       "_view_module_version": "~2.1.4"
      }
     },
     "148ae3be57df4d8da054b1de442b5d0e": {
      "model_module": "jupyter-js-widgets",
      "model_module_version": "~2.1.4",
      "model_name": "VBoxModel",
      "state": {
       "_dom_classes": [
        "widget-interact"
       ],
       "_model_module_version": "~2.1.4",
       "_view_module_version": "~2.1.4",
       "children": [
        "IPY_MODEL_0aa726ef3a5548a8bf2bdcd3aa9361f7",
        "IPY_MODEL_443344802fbb43af9ae7eed4c49f0fdb",
        "IPY_MODEL_b9cf5aa376bd408da94b2a58af8e7e22",
        "IPY_MODEL_541d6a7f7692490e998e546ae60094cf"
       ],
       "layout": "IPY_MODEL_411d329ad5f74d7fa66f8857e73ce2f3"
      }
     },
     "14abf4ecc64e4963b24e20d282776b84": {
      "model_module": "jupyter-js-widgets",
      "model_module_version": "~2.1.4",
      "model_name": "OutputModel",
      "state": {
       "_dom_classes": [],
       "_model_module": "jupyter-js-widgets",
       "_model_module_version": "~2.1.4",
       "_view_module": "jupyter-js-widgets",
       "_view_module_version": "~2.1.4",
       "layout": "IPY_MODEL_3076cab8f9544a86b3f32673583e28e4",
       "msg_throttle": 1
      }
     },
     "15d8b63eac364a2980d1217ee869cf31": {
      "model_module": "jupyter-js-widgets",
      "model_module_version": "~2.1.4",
      "model_name": "LayoutModel",
      "state": {
       "_model_module_version": "~2.1.4",
       "_view_module_version": "~2.1.4"
      }
     },
     "169e32ac04b74eb49826068303826777": {
      "model_module": "jupyter-js-widgets",
      "model_module_version": "~2.1.4",
      "model_name": "LayoutModel",
      "state": {
       "_model_module_version": "~2.1.4",
       "_view_module_version": "~2.1.4"
      }
     },
     "172919ba337247f782c1d5d5f1cc66ca": {
      "model_module": "jupyter-js-widgets",
      "model_module_version": "~2.1.4",
      "model_name": "OutputModel",
      "state": {
       "_dom_classes": [],
       "_model_module": "jupyter-js-widgets",
       "_model_module_version": "~2.1.4",
       "_view_module": "jupyter-js-widgets",
       "_view_module_version": "~2.1.4",
       "layout": "IPY_MODEL_bd3bba821baf424f92553b7872864c3d",
       "msg_throttle": 1
      }
     },
     "17ec1593cb824158ad54a7ec42b510f1": {
      "model_module": "jupyter-js-widgets",
      "model_module_version": "~2.1.4",
      "model_name": "FloatSliderModel",
      "state": {
       "_model_module_version": "~2.1.4",
       "_range": true,
       "_view_module_version": "~2.1.4",
       "layout": "IPY_MODEL_1b975167e86c43d4a80b00af05601d8b",
       "max": 4,
       "step": 0.5,
       "value": [
        1,
        2
       ]
      }
     },
     "1af596b378254176a8ddfe8f9501ff54": {
      "model_module": "jupyter-js-widgets",
      "model_module_version": "~2.1.4",
      "model_name": "LayoutModel",
      "state": {
       "_model_module_version": "~2.1.4",
       "_view_module_version": "~2.1.4"
      }
     },
     "1b975167e86c43d4a80b00af05601d8b": {
      "model_module": "jupyter-js-widgets",
      "model_module_version": "~2.1.4",
      "model_name": "LayoutModel",
      "state": {
       "_model_module_version": "~2.1.4",
       "_view_module_version": "~2.1.4"
      }
     },
     "1caf0f108c5040f696d62fbb3a5ec4b4": {
      "model_module": "jupyter-js-widgets",
      "model_module_version": "~2.1.4",
      "model_name": "OutputModel",
      "state": {
       "_dom_classes": [],
       "_model_module": "jupyter-js-widgets",
       "_model_module_version": "~2.1.4",
       "_view_module": "jupyter-js-widgets",
       "_view_module_version": "~2.1.4",
       "layout": "IPY_MODEL_4fee12b13d1f42bbb8b36985f6f76eef",
       "msg_throttle": 1
      }
     },
     "1da0a158898545ce8868becbe45c7389": {
      "model_module": "jupyter-js-widgets",
      "model_module_version": "~2.1.4",
      "model_name": "OutputModel",
      "state": {
       "_dom_classes": [],
       "_model_module": "jupyter-js-widgets",
       "_model_module_version": "~2.1.4",
       "_view_module": "jupyter-js-widgets",
       "_view_module_version": "~2.1.4",
       "layout": "IPY_MODEL_46e548a9990f4b8bb5da408d1df79364",
       "msg_throttle": 1
      }
     },
     "1ddfb2326013471c981e86432ab194b8": {
      "model_module": "jupyter-js-widgets",
      "model_module_version": "~2.1.4",
      "model_name": "SelectModel",
      "state": {
       "_model_module_version": "~2.1.4",
       "_options_labels": [
        "All",
        "London Blackfriars [BFR]",
        "London Bridge [LBG]",
        "London Cannon Street [CST]",
        "London Charing Cross [CHX]",
        "London Euston [EUS]",
        "London Fenchurch Street [FST]",
        "London Kings Cross [KGX]",
        "London Liverpool Street [LST]",
        "London Marylebone [MYB]",
        "London Paddington [PAD]",
        "London St Pancras International [STP]",
        "London Victoria [VIC]",
        "London Waterloo [WAT]"
       ],
       "_view_module_version": "~2.1.4",
       "description": "x",
       "layout": "IPY_MODEL_37c7f810b7f841a3b59550eb0e3d3b61",
       "value": "London Cannon Street [CST]"
      }
     },
     "1e1da4124f0d4ff68beb59df5b1c455f": {
      "model_module": "jupyter-js-widgets",
      "model_module_version": "~2.1.4",
      "model_name": "FloatSliderModel",
      "state": {
       "_model_module_version": "~2.1.4",
       "_view_module_version": "~2.1.4",
       "description": "y",
       "layout": "IPY_MODEL_943cb95b372344cdbf6641edf51625bd",
       "max": 4,
       "step": 0.5,
       "value": 1
      }
     },
     "1e423e5a0c2f49b09be794b3ba4377e8": {
      "model_module": "jupyter-js-widgets",
      "model_module_version": "~2.1.4",
      "model_name": "SelectModel",
      "state": {
       "_model_module_version": "~2.1.4",
       "_options_labels": [
        "All",
        "London Blackfriars [BFR]",
        "London Bridge [LBG]",
        "London Cannon Street [CST]",
        "London Charing Cross [CHX]",
        "London Euston [EUS]",
        "London Fenchurch Street [FST]",
        "London Kings Cross [KGX]",
        "London Liverpool Street [LST]",
        "London Marylebone [MYB]",
        "London Paddington [PAD]",
        "London St Pancras International [STP]",
        "London Victoria [VIC]",
        "London Waterloo [WAT]"
       ],
       "_view_module_version": "~2.1.4",
       "layout": "IPY_MODEL_6827e18444524d219fd25c18830f4330",
       "value": "All"
      }
     },
     "1e66a0a0604041889e168f9d354c1a4f": {
      "model_module": "jupyter-js-widgets",
      "model_module_version": "~2.1.4",
      "model_name": "OutputModel",
      "state": {
       "_dom_classes": [],
       "_model_module": "jupyter-js-widgets",
       "_model_module_version": "~2.1.4",
       "_view_module": "jupyter-js-widgets",
       "_view_module_version": "~2.1.4",
       "layout": "IPY_MODEL_a0a0e2f59a5e42fcb94ec1475cf596c7",
       "msg_throttle": 1
      }
     },
     "20172d4ecfc749c1a45e690d52c11af4": {
      "model_module": "jupyter-js-widgets",
      "model_module_version": "~2.1.4",
      "model_name": "OutputModel",
      "state": {
       "_dom_classes": [],
       "_model_module": "jupyter-js-widgets",
       "_model_module_version": "~2.1.4",
       "_view_module": "jupyter-js-widgets",
       "_view_module_version": "~2.1.4",
       "layout": "IPY_MODEL_1af596b378254176a8ddfe8f9501ff54",
       "msg_throttle": 1
      }
     },
     "20b4696ded2d49868a44141991fcb988": {
      "model_module": "jupyter-js-widgets",
      "model_module_version": "~2.1.4",
      "model_name": "VBoxModel",
      "state": {
       "_dom_classes": [
        "widget-interact"
       ],
       "_model_module_version": "~2.1.4",
       "_view_module_version": "~2.1.4",
       "children": [
        "IPY_MODEL_2c6f23cbd0d0478ba0d248af1d209656",
        "IPY_MODEL_a885658b03d348cbb2c138fa4cdc98c0",
        "IPY_MODEL_811d5d2e162641089e9016005dbff7d1",
        "IPY_MODEL_084ee681490d40b685111d61f2a25f8a"
       ],
       "layout": "IPY_MODEL_715f7c41989a4ccbaedc13ca96bd8e79"
      }
     },
     "226c7e5426d94b89a058585bf060a7d3": {
      "model_module": "jupyter-js-widgets",
      "model_module_version": "~2.1.4",
      "model_name": "LayoutModel",
      "state": {
       "_model_module_version": "~2.1.4",
       "_view_module_version": "~2.1.4"
      }
     },
     "23801ad765ba4a709bfd36ab8b1ff7c1": {
      "model_module": "jupyter-js-widgets",
      "model_module_version": "~2.1.4",
      "model_name": "LayoutModel",
      "state": {
       "_model_module_version": "~2.1.4",
       "_view_module_version": "~2.1.4"
      }
     },
     "23dd5677d16547fe831d5265d670174d": {
      "model_module": "jupyter-js-widgets",
      "model_module_version": "~2.1.4",
      "model_name": "LayoutModel",
      "state": {
       "_model_module_version": "~2.1.4",
       "_view_module_version": "~2.1.4"
      }
     },
     "262e7b0fe47f48d3973273cc33890e72": {
      "model_module": "jupyter-js-widgets",
      "model_module_version": "~2.1.4",
      "model_name": "FloatSliderModel",
      "state": {
       "_model_module_version": "~2.1.4",
       "_view_module_version": "~2.1.4",
       "description": "z",
       "layout": "IPY_MODEL_67731d28135f47768f8e4177cc6f7610",
       "max": 6,
       "min": -2,
       "step": 0.1,
       "value": 2
      }
     },
     "264ee0532d224160aa90ec69fbb7e2e7": {
      "model_module": "jupyter-js-widgets",
      "model_module_version": "~2.1.4",
      "model_name": "OutputModel",
      "state": {
       "_dom_classes": [],
       "_model_module": "jupyter-js-widgets",
       "_model_module_version": "~2.1.4",
       "_view_module": "jupyter-js-widgets",
       "_view_module_version": "~2.1.4",
       "layout": "IPY_MODEL_7c93e6adc274400c8b4fd1208fe7faf0",
       "msg_throttle": 1
      }
     },
     "280b934b5c894f82b7f94aca3d8114ab": {
      "model_module": "jupyter-js-widgets",
      "model_module_version": "~2.1.4",
      "model_name": "LayoutModel",
      "state": {
       "_model_module_version": "~2.1.4",
       "_view_module_version": "~2.1.4"
      }
     },
     "297ef0765c694179b99bcea0a979ca9b": {
      "model_module": "jupyter-js-widgets",
      "model_module_version": "~2.1.4",
      "model_name": "LayoutModel",
      "state": {
       "_model_module_version": "~2.1.4",
       "_view_module_version": "~2.1.4"
      }
     },
     "2a832bf7c9254acf85153e1389351186": {
      "model_module": "jupyter-js-widgets",
      "model_module_version": "~2.1.4",
      "model_name": "LayoutModel",
      "state": {
       "_model_module_version": "~2.1.4",
       "_view_module_version": "~2.1.4"
      }
     },
     "2a9f92551482477c8a7fd7b9a0721409": {
      "model_module": "jupyter-js-widgets",
      "model_module_version": "~2.1.4",
      "model_name": "LayoutModel",
      "state": {
       "_model_module_version": "~2.1.4",
       "_view_module_version": "~2.1.4"
      }
     },
     "2b3c318b24fe420e9ba65a32bb5d79ab": {
      "model_module": "jupyter-js-widgets",
      "model_module_version": "~2.1.4",
      "model_name": "TextModel",
      "state": {
       "_model_module_version": "~2.1.4",
       "_view_module_version": "~2.1.4",
       "description": "x",
       "layout": "IPY_MODEL_7f0a668b075942489528947da93f10b6"
      }
     },
     "2c6f23cbd0d0478ba0d248af1d209656": {
      "model_module": "jupyter-js-widgets",
      "model_module_version": "~2.1.4",
      "model_name": "TextModel",
      "state": {
       "_model_module_version": "~2.1.4",
       "_view_module_version": "~2.1.4",
       "description": "x",
       "layout": "IPY_MODEL_b0b600bf96794025bc7eee7bdfd7e7e5"
      }
     },
     "2e1f5f76e5d844a9a6d3ce0e23b85a46": {
      "model_module": "jupyter-js-widgets",
      "model_module_version": "~2.1.4",
      "model_name": "OutputModel",
      "state": {
       "_dom_classes": [],
       "_model_module": "jupyter-js-widgets",
       "_model_module_version": "~2.1.4",
       "_view_module": "jupyter-js-widgets",
       "_view_module_version": "~2.1.4",
       "layout": "IPY_MODEL_0be1bd29af10431baccd812b722ae514",
       "msg_throttle": 1
      }
     },
     "2e44830cd72c46159ab04f8518e74ed7": {
      "model_module": "jupyter-js-widgets",
      "model_module_version": "~2.1.4",
      "model_name": "LayoutModel",
      "state": {
       "_model_module_version": "~2.1.4",
       "_view_module_version": "~2.1.4"
      }
     },
     "2e8bfbef529d4867ad4c8bae916b068f": {
      "model_module": "jupyter-js-widgets",
      "model_module_version": "~2.1.4",
      "model_name": "VBoxModel",
      "state": {
       "_dom_classes": [
        "widget-interact"
       ],
       "_model_module_version": "~2.1.4",
       "_view_module_version": "~2.1.4",
       "children": [
        "IPY_MODEL_a4316e68b3e04f9b808900af82c3bd0d",
        "IPY_MODEL_67f3d239f3f44f3e866b4e8866d5d5b2",
        "IPY_MODEL_4b84b4d9ce2c4ff1a59639fc0bb99901",
        "IPY_MODEL_870feb3f10a34f8bbf970a61a97ecbc1"
       ],
       "layout": "IPY_MODEL_e52b9ff5323544be8fd41767d38b380a"
      }
     },
     "300ac13e38524a5d9b5bb0be9e8830f5": {
      "model_module": "jupyter-js-widgets",
      "model_module_version": "~2.1.4",
      "model_name": "LayoutModel",
      "state": {
       "_model_module_version": "~2.1.4",
       "_view_module_version": "~2.1.4"
      }
     },
     "30122db13d074b7eba3c706710a88b91": {
      "model_module": "jupyter-js-widgets",
      "model_module_version": "~2.1.4",
      "model_name": "LayoutModel",
      "state": {
       "_model_module_version": "~2.1.4",
       "_view_module_version": "~2.1.4"
      }
     },
     "3076cab8f9544a86b3f32673583e28e4": {
      "model_module": "jupyter-js-widgets",
      "model_module_version": "~2.1.4",
      "model_name": "LayoutModel",
      "state": {
       "_model_module_version": "~2.1.4",
       "_view_module_version": "~2.1.4"
      }
     },
     "32a3e1bb62374a6291484eb171d5e582": {
      "model_module": "jupyter-js-widgets",
      "model_module_version": "~2.1.4",
      "model_name": "FloatSliderModel",
      "state": {
       "_model_module_version": "~2.1.4",
       "_view_module_version": "~2.1.4",
       "description": "y",
       "layout": "IPY_MODEL_0d61d34b1f21478cb3c1fe386ae02d0e",
       "max": 4,
       "step": 0.5,
       "value": 1.5
      }
     },
     "32d3c52aa1cb4b5f9700a0bd9e95ea15": {
      "model_module": "jupyter-js-widgets",
      "model_module_version": "~2.1.4",
      "model_name": "LayoutModel",
      "state": {
       "_model_module_version": "~2.1.4",
       "_view_module_version": "~2.1.4"
      }
     },
     "34da25caf08f490cbe71bf851b1f1e56": {
      "model_module": "jupyter-js-widgets",
      "model_module_version": "~2.1.4",
      "model_name": "OutputModel",
      "state": {
       "_dom_classes": [],
       "_model_module": "jupyter-js-widgets",
       "_model_module_version": "~2.1.4",
       "_view_module": "jupyter-js-widgets",
       "_view_module_version": "~2.1.4",
       "layout": "IPY_MODEL_d33a3bb3810e4b7c81a63881d74ab20e",
       "msg_throttle": 1
      }
     },
     "37c7f810b7f841a3b59550eb0e3d3b61": {
      "model_module": "jupyter-js-widgets",
      "model_module_version": "~2.1.4",
      "model_name": "LayoutModel",
      "state": {
       "_model_module_version": "~2.1.4",
       "_view_module_version": "~2.1.4"
      }
     },
     "3ab337d9af1b445ca47c4e31df4a0735": {
      "model_module": "jupyter-js-widgets",
      "model_module_version": "~2.1.4",
      "model_name": "FloatSliderModel",
      "state": {
       "_model_module_version": "~2.1.4",
       "_view_module_version": "~2.1.4",
       "description": "z",
       "layout": "IPY_MODEL_4d8ec71b1a71479f8007c57feb462ab0",
       "max": 6,
       "min": -2,
       "step": 0.1,
       "value": 1
      }
     },
     "3b16ca967921445e90c779f12fbf06bb": {
      "model_module": "jupyter-js-widgets",
      "model_module_version": "~2.1.4",
      "model_name": "VBoxModel",
      "state": {
       "_dom_classes": [
        "widget-interact"
       ],
       "_model_module_version": "~2.1.4",
       "_view_module_version": "~2.1.4",
       "children": [
        "IPY_MODEL_eef2abf47b6447bdaf33ead06894274f",
        "IPY_MODEL_bf771dc8844c480db850614fd37a6b36",
        "IPY_MODEL_49f8e698b827421d86b7ca1bd8875f94",
        "IPY_MODEL_34da25caf08f490cbe71bf851b1f1e56"
       ],
       "layout": "IPY_MODEL_7e6240a3762642f7b077b4d18f815505"
      }
     },
     "3b92ba1540424315bb67a77cd1ec43d2": {
      "model_module": "jupyter-js-widgets",
      "model_module_version": "~2.1.4",
      "model_name": "OutputModel",
      "state": {
       "_dom_classes": [],
       "_model_module": "jupyter-js-widgets",
       "_model_module_version": "~2.1.4",
       "_view_module": "jupyter-js-widgets",
       "_view_module_version": "~2.1.4",
       "layout": "IPY_MODEL_b150b20b7f0849bcaecbd4a15908af2c",
       "msg_throttle": 1
      }
     },
     "3e5f01b7300e45cebdbafd0cd33a8ed5": {
      "model_module": "jupyter-js-widgets",
      "model_module_version": "~2.1.4",
      "model_name": "FloatSliderModel",
      "state": {
       "_model_module_version": "~2.1.4",
       "_view_module_version": "~2.1.4",
       "description": "z",
       "layout": "IPY_MODEL_6d521fe2a9304155b4a8840e91c48eef",
       "max": 6,
       "min": -2,
       "step": 0.1,
       "value": 3.6
      }
     },
     "3ed87766b4684799883fb24bd6777066": {
      "model_module": "jupyter-js-widgets",
      "model_module_version": "~2.1.4",
      "model_name": "LayoutModel",
      "state": {
       "_model_module_version": "~2.1.4",
       "_view_module_version": "~2.1.4"
      }
     },
     "3f1f07828502409eb10d0091b54e9898": {
      "model_module": "jupyter-js-widgets",
      "model_module_version": "~2.1.4",
      "model_name": "VBoxModel",
      "state": {
       "_dom_classes": [
        "widget-interact"
       ],
       "_model_module_version": "~2.1.4",
       "_view_module_version": "~2.1.4",
       "children": [
        "IPY_MODEL_cb03fc68485f46d88d80f81fde9a81a0",
        "IPY_MODEL_c10fd50da36a4d9a9895fa213cf35ca0",
        "IPY_MODEL_900487a10eea416c8c241742f8839db8",
        "IPY_MODEL_172919ba337247f782c1d5d5f1cc66ca"
       ],
       "layout": "IPY_MODEL_552ae4076a9149838564dce6effeee73"
      }
     },
     "411d329ad5f74d7fa66f8857e73ce2f3": {
      "model_module": "jupyter-js-widgets",
      "model_module_version": "~2.1.4",
      "model_name": "LayoutModel",
      "state": {
       "_model_module_version": "~2.1.4",
       "_view_module_version": "~2.1.4"
      }
     },
     "41dcf9b232594efea3415fed3af74df2": {
      "model_module": "jupyter-js-widgets",
      "model_module_version": "~2.1.4",
      "model_name": "SelectModel",
      "state": {
       "_model_module_version": "~2.1.4",
       "_options_labels": [
        "All",
        "London Blackfriars [BFR]",
        "London Bridge [LBG]",
        "London Cannon Street [CST]",
        "London Charing Cross [CHX]",
        "London Euston [EUS]",
        "London Fenchurch Street [FST]",
        "London Kings Cross [KGX]",
        "London Liverpool Street [LST]",
        "London Marylebone [MYB]",
        "London Paddington [PAD]",
        "London St Pancras International [STP]",
        "London Victoria [VIC]",
        "London Waterloo [WAT]"
       ],
       "_view_module_version": "~2.1.4",
       "description": "x",
       "layout": "IPY_MODEL_8831ef8497a348658b685af0f98dbe4a",
       "value": "London Waterloo [WAT]"
      }
     },
     "43a76f1afe4b4dc29bcf1236b3312379": {
      "model_module": "jupyter-js-widgets",
      "model_module_version": "~2.1.4",
      "model_name": "LayoutModel",
      "state": {
       "_model_module_version": "~2.1.4",
       "_view_module_version": "~2.1.4"
      }
     },
     "443344802fbb43af9ae7eed4c49f0fdb": {
      "model_module": "jupyter-js-widgets",
      "model_module_version": "~2.1.4",
      "model_name": "FloatSliderModel",
      "state": {
       "_model_module_version": "~2.1.4",
       "_range": true,
       "_view_module_version": "~2.1.4",
       "description": "y",
       "layout": "IPY_MODEL_d8345d08e96d4e01af7ebddd64ea6c71",
       "max": 4,
       "step": 0.5,
       "value": [
        1,
        2
       ]
      }
     },
     "45d2d4f154624c4cbda912aa02870e42": {
      "model_module": "jupyter-js-widgets",
      "model_module_version": "~2.1.4",
      "model_name": "SelectModel",
      "state": {
       "_model_module_version": "~2.1.4",
       "_options_labels": [
        "All",
        "London Blackfriars [BFR]",
        "London Bridge [LBG]",
        "London Cannon Street [CST]",
        "London Charing Cross [CHX]",
        "London Euston [EUS]",
        "London Fenchurch Street [FST]",
        "London Kings Cross [KGX]",
        "London Liverpool Street [LST]",
        "London Marylebone [MYB]",
        "London Paddington [PAD]",
        "London St Pancras International [STP]",
        "London Victoria [VIC]",
        "London Waterloo [WAT]"
       ],
       "_view_module_version": "~2.1.4",
       "description": "x",
       "layout": "IPY_MODEL_30122db13d074b7eba3c706710a88b91",
       "value": "London Cannon Street [CST]"
      }
     },
     "46a063093c8d43f9895dfae57c565ac7": {
      "model_module": "jupyter-js-widgets",
      "model_module_version": "~2.1.4",
      "model_name": "SelectModel",
      "state": {
       "_model_module_version": "~2.1.4",
       "_options_labels": [
        "All",
        "London Blackfriars [BFR]",
        "London Bridge [LBG]",
        "London Cannon Street [CST]",
        "London Charing Cross [CHX]",
        "London Euston [EUS]",
        "London Fenchurch Street [FST]",
        "London Kings Cross [KGX]",
        "London Liverpool Street [LST]",
        "London Marylebone [MYB]",
        "London Paddington [PAD]",
        "London St Pancras International [STP]",
        "London Victoria [VIC]",
        "London Waterloo [WAT]"
       ],
       "_view_module_version": "~2.1.4",
       "description": "x",
       "layout": "IPY_MODEL_6b4e2eee47b344789bac691237475bd7",
       "value": "All"
      }
     },
     "46c29495ce2d49bdb189de48c2e21b48": {
      "model_module": "jupyter-js-widgets",
      "model_module_version": "~2.1.4",
      "model_name": "LayoutModel",
      "state": {
       "_model_module_version": "~2.1.4",
       "_view_module_version": "~2.1.4"
      }
     },
     "46e548a9990f4b8bb5da408d1df79364": {
      "model_module": "jupyter-js-widgets",
      "model_module_version": "~2.1.4",
      "model_name": "LayoutModel",
      "state": {
       "_model_module_version": "~2.1.4",
       "_view_module_version": "~2.1.4"
      }
     },
     "491e34f3733d49268629b89881c2fcbb": {
      "model_module": "jupyter-js-widgets",
      "model_module_version": "~2.1.4",
      "model_name": "LayoutModel",
      "state": {
       "_model_module_version": "~2.1.4",
       "_view_module_version": "~2.1.4"
      }
     },
     "49f8e698b827421d86b7ca1bd8875f94": {
      "model_module": "jupyter-js-widgets",
      "model_module_version": "~2.1.4",
      "model_name": "FloatSliderModel",
      "state": {
       "_model_module_version": "~2.1.4",
       "_view_module_version": "~2.1.4",
       "description": "z",
       "layout": "IPY_MODEL_7b90ac74902c487898c4381171e2a209",
       "max": 6,
       "min": -2,
       "step": 0.1,
       "value": 2
      }
     },
     "4a79def0e532451fb09bc07ec22d2b52": {
      "model_module": "jupyter-js-widgets",
      "model_module_version": "~2.1.4",
      "model_name": "LayoutModel",
      "state": {
       "_model_module_version": "~2.1.4",
       "_view_module_version": "~2.1.4"
      }
     },
     "4b84b4d9ce2c4ff1a59639fc0bb99901": {
      "model_module": "jupyter-js-widgets",
      "model_module_version": "~2.1.4",
      "model_name": "FloatSliderModel",
      "state": {
       "_model_module_version": "~2.1.4",
       "_view_module_version": "~2.1.4",
       "description": "z",
       "layout": "IPY_MODEL_90a763f1df5449eba3e19abaab692674",
       "max": 6,
       "min": -2,
       "step": 0.1,
       "value": 2
      }
     },
     "4c47d0be0d374a44a83f8ec29c2f2bc5": {
      "model_module": "jupyter-js-widgets",
      "model_module_version": "~2.1.4",
      "model_name": "SelectModel",
      "state": {
       "_model_module_version": "~2.1.4",
       "_options_labels": [
        "All",
        "London Blackfriars [BFR]",
        "London Bridge [LBG]",
        "London Cannon Street [CST]",
        "London Charing Cross [CHX]",
        "London Euston [EUS]",
        "London Fenchurch Street [FST]",
        "London Kings Cross [KGX]",
        "London Liverpool Street [LST]",
        "London Marylebone [MYB]",
        "London Paddington [PAD]",
        "London St Pancras International [STP]",
        "London Victoria [VIC]",
        "London Waterloo [WAT]"
       ],
       "_view_module_version": "~2.1.4",
       "description": "x",
       "layout": "IPY_MODEL_5274d9a6ccb74b03b291caab6ba263c8",
       "value": "London Cannon Street [CST]"
      }
     },
     "4d8ec71b1a71479f8007c57feb462ab0": {
      "model_module": "jupyter-js-widgets",
      "model_module_version": "~2.1.4",
      "model_name": "LayoutModel",
      "state": {
       "_model_module_version": "~2.1.4",
       "_view_module_version": "~2.1.4"
      }
     },
     "4db85abd5918412ea0a2c74c28fc1874": {
      "model_module": "jupyter-js-widgets",
      "model_module_version": "~2.1.4",
      "model_name": "OutputModel",
      "state": {
       "_dom_classes": [],
       "_model_module": "jupyter-js-widgets",
       "_model_module_version": "~2.1.4",
       "_view_module": "jupyter-js-widgets",
       "_view_module_version": "~2.1.4",
       "layout": "IPY_MODEL_5cad7782a0d54ead97ebe05fe463c90e",
       "msg_throttle": 1
      }
     },
     "4e8b4e4842b04a0ba33b5c9ddaccd12a": {
      "model_module": "jupyter-js-widgets",
      "model_module_version": "~2.1.4",
      "model_name": "LayoutModel",
      "state": {
       "_model_module_version": "~2.1.4",
       "_view_module_version": "~2.1.4"
      }
     },
     "4f297a49e46b41288943008731756f32": {
      "model_module": "jupyter-js-widgets",
      "model_module_version": "~2.1.4",
      "model_name": "LayoutModel",
      "state": {
       "_model_module_version": "~2.1.4",
       "_view_module_version": "~2.1.4"
      }
     },
     "4fcd853071854a7b886795138c03f671": {
      "model_module": "jupyter-js-widgets",
      "model_module_version": "~2.1.4",
      "model_name": "SelectModel",
      "state": {
       "_model_module_version": "~2.1.4",
       "_options_labels": [
        "All",
        "London Blackfriars [BFR]",
        "London Bridge [LBG]",
        "London Cannon Street [CST]",
        "London Charing Cross [CHX]",
        "London Euston [EUS]",
        "London Fenchurch Street [FST]",
        "London Kings Cross [KGX]",
        "London Liverpool Street [LST]",
        "London Marylebone [MYB]",
        "London Paddington [PAD]",
        "London St Pancras International [STP]",
        "London Victoria [VIC]",
        "London Waterloo [WAT]"
       ],
       "_view_module_version": "~2.1.4",
       "description": "x",
       "layout": "IPY_MODEL_32d3c52aa1cb4b5f9700a0bd9e95ea15",
       "value": "London Cannon Street [CST]"
      }
     },
     "4fee12b13d1f42bbb8b36985f6f76eef": {
      "model_module": "jupyter-js-widgets",
      "model_module_version": "~2.1.4",
      "model_name": "LayoutModel",
      "state": {
       "_model_module_version": "~2.1.4",
       "_view_module_version": "~2.1.4"
      }
     },
     "50e0c0202dec4fe5b06f65c5e608e878": {
      "model_module": "jupyter-js-widgets",
      "model_module_version": "~2.1.4",
      "model_name": "VBoxModel",
      "state": {
       "_dom_classes": [
        "widget-interact"
       ],
       "_model_module_version": "~2.1.4",
       "_view_module_version": "~2.1.4",
       "children": [
        "IPY_MODEL_9e5ee9d891b340459b29611b81e29131",
        "IPY_MODEL_7d7732a0cc7b40879958bf5e147b59f8",
        "IPY_MODEL_14abf4ecc64e4963b24e20d282776b84"
       ],
       "layout": "IPY_MODEL_a92ce17bf70a41c990c96e4271f58538"
      }
     },
     "5274d9a6ccb74b03b291caab6ba263c8": {
      "model_module": "jupyter-js-widgets",
      "model_module_version": "~2.1.4",
      "model_name": "LayoutModel",
      "state": {
       "_model_module_version": "~2.1.4",
       "_view_module_version": "~2.1.4"
      }
     },
     "533bf636ad9b4fc1b18bc430aca42c2c": {
      "model_module": "jupyter-js-widgets",
      "model_module_version": "~2.1.4",
      "model_name": "FloatSliderModel",
      "state": {
       "_model_module_version": "~2.1.4",
       "_view_module_version": "~2.1.4",
       "description": "y",
       "layout": "IPY_MODEL_7fddb7814b1e4f678eb98655def69ddd",
       "max": 4,
       "step": 0.5,
       "value": 0.5
      }
     },
     "5376d6cbcf3a4d62bd7633ca392bc633": {
      "model_module": "jupyter-js-widgets",
      "model_module_version": "~2.1.4",
      "model_name": "LayoutModel",
      "state": {
       "_model_module_version": "~2.1.4",
       "_view_module_version": "~2.1.4"
      }
     },
     "541d6a7f7692490e998e546ae60094cf": {
      "model_module": "jupyter-js-widgets",
      "model_module_version": "~2.1.4",
      "model_name": "OutputModel",
      "state": {
       "_dom_classes": [],
       "_model_module": "jupyter-js-widgets",
       "_model_module_version": "~2.1.4",
       "_view_module": "jupyter-js-widgets",
       "_view_module_version": "~2.1.4",
       "layout": "IPY_MODEL_860d8be6a95843eeb815c95db1003eea",
       "msg_throttle": 1
      }
     },
     "552ae4076a9149838564dce6effeee73": {
      "model_module": "jupyter-js-widgets",
      "model_module_version": "~2.1.4",
      "model_name": "LayoutModel",
      "state": {
       "_model_module_version": "~2.1.4",
       "_view_module_version": "~2.1.4"
      }
     },
     "5585bc843b97454b8f3bfcddabbd7bef": {
      "model_module": "jupyter-js-widgets",
      "model_module_version": "~2.1.4",
      "model_name": "VBoxModel",
      "state": {
       "_dom_classes": [
        "widget-interact"
       ],
       "_model_module_version": "~2.1.4",
       "_view_module_version": "~2.1.4",
       "children": [
        "IPY_MODEL_8e9013b6652d45b0913c56300dc19e61",
        "IPY_MODEL_1e1da4124f0d4ff68beb59df5b1c455f",
        "IPY_MODEL_5f6dbf6767344154aa48d0261f8be566"
       ],
       "layout": "IPY_MODEL_86077fb214be430ea4838b255a9f74ba"
      }
     },
     "57a5e581da1547209d329a68c6c6f8d2": {
      "model_module": "jupyter-js-widgets",
      "model_module_version": "~2.1.4",
      "model_name": "LayoutModel",
      "state": {
       "_model_module_version": "~2.1.4",
       "_view_module_version": "~2.1.4"
      }
     },
     "58b261da94954fe49f9c69c5d97b15e7": {
      "model_module": "jupyter-js-widgets",
      "model_module_version": "~2.1.4",
      "model_name": "LayoutModel",
      "state": {
       "_model_module_version": "~2.1.4",
       "_view_module_version": "~2.1.4"
      }
     },
     "5a1068026b8a4c5290504df7a2f4c585": {
      "model_module": "jupyter-js-widgets",
      "model_module_version": "~2.1.4",
      "model_name": "LayoutModel",
      "state": {
       "_model_module_version": "~2.1.4",
       "_view_module_version": "~2.1.4"
      }
     },
     "5cad7782a0d54ead97ebe05fe463c90e": {
      "model_module": "jupyter-js-widgets",
      "model_module_version": "~2.1.4",
      "model_name": "LayoutModel",
      "state": {
       "_model_module_version": "~2.1.4",
       "_view_module_version": "~2.1.4"
      }
     },
     "5d80d89582fe4a34912ccb43e149094f": {
      "model_module": "jupyter-js-widgets",
      "model_module_version": "~2.1.4",
      "model_name": "LayoutModel",
      "state": {
       "_model_module_version": "~2.1.4",
       "_view_module_version": "~2.1.4"
      }
     },
     "5e8f09f450f64ffb96591b580263c7d7": {
      "model_module": "jupyter-js-widgets",
      "model_module_version": "~2.1.4",
      "model_name": "LayoutModel",
      "state": {
       "_model_module_version": "~2.1.4",
       "_view_module_version": "~2.1.4"
      }
     },
     "5f6dbf6767344154aa48d0261f8be566": {
      "model_module": "jupyter-js-widgets",
      "model_module_version": "~2.1.4",
      "model_name": "OutputModel",
      "state": {
       "_dom_classes": [],
       "_model_module": "jupyter-js-widgets",
       "_model_module_version": "~2.1.4",
       "_view_module": "jupyter-js-widgets",
       "_view_module_version": "~2.1.4",
       "layout": "IPY_MODEL_94325e6a182445279d9bf7d1eb282e90",
       "msg_throttle": 1
      }
     },
     "620bf6d7384544299bc541c8325b40a2": {
      "model_module": "jupyter-js-widgets",
      "model_module_version": "~2.1.4",
      "model_name": "VBoxModel",
      "state": {
       "_dom_classes": [
        "widget-interact"
       ],
       "_model_module_version": "~2.1.4",
       "_view_module_version": "~2.1.4",
       "children": [
        "IPY_MODEL_e1fb29c3db45477d957afc939737c6d6",
        "IPY_MODEL_676b5f142dd348dbb19a1c4ede87a184",
        "IPY_MODEL_a2687a8ea0624ccfb2a8c4a488df6572"
       ],
       "layout": "IPY_MODEL_d09fde566f60447c989ebcae2aeac657"
      }
     },
     "62330901277c4f52bdda9bfe51894247": {
      "model_module": "jupyter-js-widgets",
      "model_module_version": "~2.1.4",
      "model_name": "TextModel",
      "state": {
       "_model_module_version": "~2.1.4",
       "_view_module_version": "~2.1.4",
       "description": "x",
       "layout": "IPY_MODEL_e8b593d73a6640649bd55e68d4da873e"
      }
     },
     "626e7680e03c4ba38a855b0132554dda": {
      "model_module": "jupyter-js-widgets",
      "model_module_version": "~2.1.4",
      "model_name": "LayoutModel",
      "state": {
       "_model_module_version": "~2.1.4",
       "_view_module_version": "~2.1.4"
      }
     },
     "676b5f142dd348dbb19a1c4ede87a184": {
      "model_module": "jupyter-js-widgets",
      "model_module_version": "~2.1.4",
      "model_name": "FloatSliderModel",
      "state": {
       "_model_module_version": "~2.1.4",
       "_view_module_version": "~2.1.4",
       "description": "y",
       "layout": "IPY_MODEL_491e34f3733d49268629b89881c2fcbb",
       "max": 4,
       "step": 0.5,
       "value": 2
      }
     },
     "67731d28135f47768f8e4177cc6f7610": {
      "model_module": "jupyter-js-widgets",
      "model_module_version": "~2.1.4",
      "model_name": "LayoutModel",
      "state": {
       "_model_module_version": "~2.1.4",
       "_view_module_version": "~2.1.4"
      }
     },
     "67f3d239f3f44f3e866b4e8866d5d5b2": {
      "model_module": "jupyter-js-widgets",
      "model_module_version": "~2.1.4",
      "model_name": "FloatSliderModel",
      "state": {
       "_model_module_version": "~2.1.4",
       "_view_module_version": "~2.1.4",
       "description": "y",
       "layout": "IPY_MODEL_c86bbb67ad54493e9a1f962aa115d250",
       "max": 3,
       "min": -1,
       "step": 0.1,
       "value": 1
      }
     },
     "6827e18444524d219fd25c18830f4330": {
      "model_module": "jupyter-js-widgets",
      "model_module_version": "~2.1.4",
      "model_name": "LayoutModel",
      "state": {
       "_model_module_version": "~2.1.4",
       "_view_module_version": "~2.1.4"
      }
     },
     "690bb93c228d4797b045d074ae114999": {
      "model_module": "jupyter-js-widgets",
      "model_module_version": "~2.1.4",
      "model_name": "VBoxModel",
      "state": {
       "_dom_classes": [
        "widget-interact"
       ],
       "_model_module_version": "~2.1.4",
       "_view_module_version": "~2.1.4",
       "children": [
        "IPY_MODEL_8a53ed58b70f4136bcd59c38cd5495bf",
        "IPY_MODEL_a2e83436d1564c99bdd738b0eab277cc",
        "IPY_MODEL_3ab337d9af1b445ca47c4e31df4a0735",
        "IPY_MODEL_0d851a23e47342c5867a54509bb04dea"
       ],
       "layout": "IPY_MODEL_b2a784e9d87e4f06b4614e6db3330165"
      }
     },
     "6948bb0bc19c4c1d991c28702f34fb69": {
      "model_module": "jupyter-js-widgets",
      "model_module_version": "~2.1.4",
      "model_name": "FloatSliderModel",
      "state": {
       "_model_module_version": "~2.1.4",
       "_view_module_version": "~2.1.4",
       "description": "z",
       "layout": "IPY_MODEL_c8d7904605154612ba87014c61c6ede8",
       "max": 6,
       "min": -2,
       "step": 0.1,
       "value": 2
      }
     },
     "6a7ec7ce8c484abcade2c6a6cfb72bc1": {
      "model_module": "jupyter-js-widgets",
      "model_module_version": "~2.1.4",
      "model_name": "OutputModel",
      "state": {
       "_dom_classes": [],
       "_model_module": "jupyter-js-widgets",
       "_model_module_version": "~2.1.4",
       "_view_module": "jupyter-js-widgets",
       "_view_module_version": "~2.1.4",
       "layout": "IPY_MODEL_fc37ae48b18d45e6b40d5e3050490089",
       "msg_throttle": 1
      }
     },
     "6b4e2eee47b344789bac691237475bd7": {
      "model_module": "jupyter-js-widgets",
      "model_module_version": "~2.1.4",
      "model_name": "LayoutModel",
      "state": {
       "_model_module_version": "~2.1.4",
       "_view_module_version": "~2.1.4"
      }
     },
     "6b6a143370e2439d86ea98d1d783bba3": {
      "model_module": "jupyter-js-widgets",
      "model_module_version": "~2.1.4",
      "model_name": "FloatSliderModel",
      "state": {
       "_model_module_version": "~2.1.4",
       "_view_module_version": "~2.1.4",
       "description": "y",
       "layout": "IPY_MODEL_eadf576dda534f4787ce9c52941a48cc",
       "max": 3,
       "min": -1,
       "step": 0.1,
       "value": 1
      }
     },
     "6b82aa22afc3499695f6a56fd6955900": {
      "model_module": "jupyter-js-widgets",
      "model_module_version": "~2.1.4",
      "model_name": "VBoxModel",
      "state": {
       "_dom_classes": [
        "widget-interact"
       ],
       "_model_module_version": "~2.1.4",
       "_view_module_version": "~2.1.4",
       "children": [
        "IPY_MODEL_894d20ee2bdf414887b65cc180486ddd",
        "IPY_MODEL_a5d88084151342a6948433553d185703",
        "IPY_MODEL_0a2a12a2be9d48c09a2b0c30b2e834d5"
       ],
       "layout": "IPY_MODEL_b78e4938918c49d58c1497af6301fda6"
      }
     },
     "6c91a55de409477b83285092e7a049a5": {
      "model_module": "jupyter-js-widgets",
      "model_module_version": "~2.1.4",
      "model_name": "FloatSliderModel",
      "state": {
       "_model_module_version": "~2.1.4",
       "_range": true,
       "_view_module_version": "~2.1.4",
       "description": "y",
       "layout": "IPY_MODEL_bb80fa2ddf7a401c99c70aeb0884bbf1",
       "max": 4,
       "step": 0.5,
       "value": [
        1,
        2
       ]
      }
     },
     "6d521fe2a9304155b4a8840e91c48eef": {
      "model_module": "jupyter-js-widgets",
      "model_module_version": "~2.1.4",
      "model_name": "LayoutModel",
      "state": {
       "_model_module_version": "~2.1.4",
       "_view_module_version": "~2.1.4"
      }
     },
     "700256c23a0b4fbe8b4291e73e6ffc05": {
      "model_module": "jupyter-js-widgets",
      "model_module_version": "~2.1.4",
      "model_name": "LayoutModel",
      "state": {
       "_model_module_version": "~2.1.4",
       "_view_module_version": "~2.1.4"
      }
     },
     "704509f5fe5b4ec892aeb5cb0ba53242": {
      "model_module": "jupyter-js-widgets",
      "model_module_version": "~2.1.4",
      "model_name": "LayoutModel",
      "state": {
       "_model_module_version": "~2.1.4",
       "_view_module_version": "~2.1.4"
      }
     },
     "715f7c41989a4ccbaedc13ca96bd8e79": {
      "model_module": "jupyter-js-widgets",
      "model_module_version": "~2.1.4",
      "model_name": "LayoutModel",
      "state": {
       "_model_module_version": "~2.1.4",
       "_view_module_version": "~2.1.4"
      }
     },
     "71abb2db77744741af4663f510b5f86a": {
      "model_module": "jupyter-js-widgets",
      "model_module_version": "~2.1.4",
      "model_name": "LayoutModel",
      "state": {
       "_model_module_version": "~2.1.4",
       "_view_module_version": "~2.1.4"
      }
     },
     "73543e2eed3e473f95d08a13b2d40e9e": {
      "model_module": "jupyter-js-widgets",
      "model_module_version": "~2.1.4",
      "model_name": "LayoutModel",
      "state": {
       "_model_module_version": "~2.1.4",
       "_view_module_version": "~2.1.4"
      }
     },
     "74e83f710604449d897f0cd7a76b4b8a": {
      "model_module": "jupyter-js-widgets",
      "model_module_version": "~2.1.4",
      "model_name": "LayoutModel",
      "state": {
       "_model_module_version": "~2.1.4",
       "_view_module_version": "~2.1.4"
      }
     },
     "75ff9a3ead144331a1a59830fc410ad7": {
      "model_module": "jupyter-js-widgets",
      "model_module_version": "~2.1.4",
      "model_name": "LayoutModel",
      "state": {
       "_model_module_version": "~2.1.4",
       "_view_module_version": "~2.1.4"
      }
     },
     "7aba5cb7b39d490cb14b45676ccee68d": {
      "model_module": "jupyter-js-widgets",
      "model_module_version": "~2.1.4",
      "model_name": "LayoutModel",
      "state": {
       "_model_module_version": "~2.1.4",
       "_view_module_version": "~2.1.4"
      }
     },
     "7b32a6bde2854773a7a19aa7dfec02ae": {
      "model_module": "jupyter-js-widgets",
      "model_module_version": "~2.1.4",
      "model_name": "LayoutModel",
      "state": {
       "_model_module_version": "~2.1.4",
       "_view_module_version": "~2.1.4"
      }
     },
     "7b90ac74902c487898c4381171e2a209": {
      "model_module": "jupyter-js-widgets",
      "model_module_version": "~2.1.4",
      "model_name": "LayoutModel",
      "state": {
       "_model_module_version": "~2.1.4",
       "_view_module_version": "~2.1.4"
      }
     },
     "7c93e6adc274400c8b4fd1208fe7faf0": {
      "model_module": "jupyter-js-widgets",
      "model_module_version": "~2.1.4",
      "model_name": "LayoutModel",
      "state": {
       "_model_module_version": "~2.1.4",
       "_view_module_version": "~2.1.4"
      }
     },
     "7cdf8b02a0f0446e8e31e55228228df4": {
      "model_module": "jupyter-js-widgets",
      "model_module_version": "~2.1.4",
      "model_name": "FloatSliderModel",
      "state": {
       "_model_module_version": "~2.1.4",
       "_view_module_version": "~2.1.4",
       "description": "y",
       "layout": "IPY_MODEL_12a20f2b8428422ca2476db9bbef76d1",
       "max": 4,
       "step": 0.5,
       "value": 1.5
      }
     },
     "7ce975de2c9747e6b9a87f71d25e49cc": {
      "model_module": "jupyter-js-widgets",
      "model_module_version": "~2.1.4",
      "model_name": "LayoutModel",
      "state": {
       "_model_module_version": "~2.1.4",
       "_view_module_version": "~2.1.4"
      }
     },
     "7d6b09dfd75849008ab38179f7cf2713": {
      "model_module": "jupyter-js-widgets",
      "model_module_version": "~2.1.4",
      "model_name": "LayoutModel",
      "state": {
       "_model_module_version": "~2.1.4",
       "_view_module_version": "~2.1.4"
      }
     },
     "7d7732a0cc7b40879958bf5e147b59f8": {
      "model_module": "jupyter-js-widgets",
      "model_module_version": "~2.1.4",
      "model_name": "FloatSliderModel",
      "state": {
       "_model_module_version": "~2.1.4",
       "_view_module_version": "~2.1.4",
       "description": "y",
       "layout": "IPY_MODEL_169e32ac04b74eb49826068303826777",
       "max": 4,
       "step": 0.5,
       "value": 2
      }
     },
     "7e59fe88b31744a394697f9f57227839": {
      "model_module": "jupyter-js-widgets",
      "model_module_version": "~2.1.4",
      "model_name": "OutputModel",
      "state": {
       "_dom_classes": [],
       "_model_module": "jupyter-js-widgets",
       "_model_module_version": "~2.1.4",
       "_view_module": "jupyter-js-widgets",
       "_view_module_version": "~2.1.4",
       "layout": "IPY_MODEL_9367f009baf245689a83148d8a63f37f",
       "msg_throttle": 1
      }
     },
     "7e6240a3762642f7b077b4d18f815505": {
      "model_module": "jupyter-js-widgets",
      "model_module_version": "~2.1.4",
      "model_name": "LayoutModel",
      "state": {
       "_model_module_version": "~2.1.4",
       "_view_module_version": "~2.1.4"
      }
     },
     "7f0a668b075942489528947da93f10b6": {
      "model_module": "jupyter-js-widgets",
      "model_module_version": "~2.1.4",
      "model_name": "LayoutModel",
      "state": {
       "_model_module_version": "~2.1.4",
       "_view_module_version": "~2.1.4"
      }
     },
     "7fddb7814b1e4f678eb98655def69ddd": {
      "model_module": "jupyter-js-widgets",
      "model_module_version": "~2.1.4",
      "model_name": "LayoutModel",
      "state": {
       "_model_module_version": "~2.1.4",
       "_view_module_version": "~2.1.4"
      }
     },
     "811d5d2e162641089e9016005dbff7d1": {
      "model_module": "jupyter-js-widgets",
      "model_module_version": "~2.1.4",
      "model_name": "FloatSliderModel",
      "state": {
       "_model_module_version": "~2.1.4",
       "_view_module_version": "~2.1.4",
       "description": "z",
       "layout": "IPY_MODEL_15d8b63eac364a2980d1217ee869cf31",
       "max": 6,
       "min": -2,
       "step": 0.1,
       "value": 2
      }
     },
     "816207e8ae634705929ef423b63f5c22": {
      "model_module": "jupyter-js-widgets",
      "model_module_version": "~2.1.4",
      "model_name": "FloatSliderModel",
      "state": {
       "_model_module_version": "~2.1.4",
       "_view_module_version": "~2.1.4",
       "description": "y",
       "layout": "IPY_MODEL_75ff9a3ead144331a1a59830fc410ad7",
       "max": 3,
       "min": -1,
       "step": 0.1,
       "value": 1
      }
     },
     "848ad522f5274f5297205d2eb50facef": {
      "model_module": "jupyter-js-widgets",
      "model_module_version": "~2.1.4",
      "model_name": "LayoutModel",
      "state": {
       "_model_module_version": "~2.1.4",
       "_view_module_version": "~2.1.4"
      }
     },
     "8494add5dc184c29b8cf3b273e74d416": {
      "model_module": "jupyter-js-widgets",
      "model_module_version": "~2.1.4",
      "model_name": "LayoutModel",
      "state": {
       "_model_module_version": "~2.1.4",
       "_view_module_version": "~2.1.4"
      }
     },
     "86077fb214be430ea4838b255a9f74ba": {
      "model_module": "jupyter-js-widgets",
      "model_module_version": "~2.1.4",
      "model_name": "LayoutModel",
      "state": {
       "_model_module_version": "~2.1.4",
       "_view_module_version": "~2.1.4"
      }
     },
     "860d8be6a95843eeb815c95db1003eea": {
      "model_module": "jupyter-js-widgets",
      "model_module_version": "~2.1.4",
      "model_name": "LayoutModel",
      "state": {
       "_model_module_version": "~2.1.4",
       "_view_module_version": "~2.1.4"
      }
     },
     "870feb3f10a34f8bbf970a61a97ecbc1": {
      "model_module": "jupyter-js-widgets",
      "model_module_version": "~2.1.4",
      "model_name": "OutputModel",
      "state": {
       "_dom_classes": [],
       "_model_module": "jupyter-js-widgets",
       "_model_module_version": "~2.1.4",
       "_view_module": "jupyter-js-widgets",
       "_view_module_version": "~2.1.4",
       "layout": "IPY_MODEL_7d6b09dfd75849008ab38179f7cf2713",
       "msg_throttle": 1
      }
     },
     "8831ef8497a348658b685af0f98dbe4a": {
      "model_module": "jupyter-js-widgets",
      "model_module_version": "~2.1.4",
      "model_name": "LayoutModel",
      "state": {
       "_model_module_version": "~2.1.4",
       "_view_module_version": "~2.1.4"
      }
     },
     "888b96ae033d46dda891c2d91d67f765": {
      "model_module": "jupyter-js-widgets",
      "model_module_version": "~2.1.4",
      "model_name": "LayoutModel",
      "state": {
       "_model_module_version": "~2.1.4",
       "_view_module_version": "~2.1.4"
      }
     },
     "894d20ee2bdf414887b65cc180486ddd": {
      "model_module": "jupyter-js-widgets",
      "model_module_version": "~2.1.4",
      "model_name": "SelectModel",
      "state": {
       "_model_module_version": "~2.1.4",
       "_options_labels": [
        "All",
        "London Blackfriars [BFR]",
        "London Bridge [LBG]",
        "London Cannon Street [CST]",
        "London Charing Cross [CHX]",
        "London Euston [EUS]",
        "London Fenchurch Street [FST]",
        "London Kings Cross [KGX]",
        "London Liverpool Street [LST]",
        "London Marylebone [MYB]",
        "London Paddington [PAD]",
        "London St Pancras International [STP]",
        "London Victoria [VIC]",
        "London Waterloo [WAT]"
       ],
       "_view_module_version": "~2.1.4",
       "description": "x",
       "layout": "IPY_MODEL_5376d6cbcf3a4d62bd7633ca392bc633",
       "value": "London Kings Cross [KGX]"
      }
     },
     "8a53ed58b70f4136bcd59c38cd5495bf": {
      "model_module": "jupyter-js-widgets",
      "model_module_version": "~2.1.4",
      "model_name": "TextModel",
      "state": {
       "_model_module_version": "~2.1.4",
       "_view_module_version": "~2.1.4",
       "description": "x",
       "layout": "IPY_MODEL_f806cd47b7a246dbae30f47dc5218298"
      }
     },
     "8e9013b6652d45b0913c56300dc19e61": {
      "model_module": "jupyter-js-widgets",
      "model_module_version": "~2.1.4",
      "model_name": "SelectModel",
      "state": {
       "_model_module_version": "~2.1.4",
       "_options_labels": [
        "All",
        "London Blackfriars [BFR]",
        "London Bridge [LBG]",
        "London Cannon Street [CST]",
        "London Charing Cross [CHX]",
        "London Euston [EUS]",
        "London Fenchurch Street [FST]",
        "London Kings Cross [KGX]",
        "London Liverpool Street [LST]",
        "London Marylebone [MYB]",
        "London Paddington [PAD]",
        "London St Pancras International [STP]",
        "London Victoria [VIC]",
        "London Waterloo [WAT]"
       ],
       "_view_module_version": "~2.1.4",
       "description": "x",
       "layout": "IPY_MODEL_d876eb7e69fe4e7389c3ecd83f66f1f0",
       "value": "All"
      }
     },
     "8f59086827e34e9db605d6cfe04d4f91": {
      "model_module": "jupyter-js-widgets",
      "model_module_version": "~2.1.4",
      "model_name": "VBoxModel",
      "state": {
       "_dom_classes": [
        "widget-interact"
       ],
       "_model_module_version": "~2.1.4",
       "_view_module_version": "~2.1.4",
       "children": [
        "IPY_MODEL_ad662bedc9424e4bb6d40c6473623ca3",
        "IPY_MODEL_9e1048de464c41768a11af31d7447410",
        "IPY_MODEL_e8ca48eef81149a8b092a5c9002faf32",
        "IPY_MODEL_2e1f5f76e5d844a9a6d3ce0e23b85a46"
       ],
       "layout": "IPY_MODEL_a0a8fc38d35d412e94a12373e764ca09"
      }
     },
     "900487a10eea416c8c241742f8839db8": {
      "model_module": "jupyter-js-widgets",
      "model_module_version": "~2.1.4",
      "model_name": "FloatSliderModel",
      "state": {
       "_model_module_version": "~2.1.4",
       "_view_module_version": "~2.1.4",
       "description": "z",
       "layout": "IPY_MODEL_b466d88f695d41c4bb1ec3f43ae58f93",
       "max": 6,
       "min": -2,
       "step": 0.1,
       "value": 2
      }
     },
     "90a763f1df5449eba3e19abaab692674": {
      "model_module": "jupyter-js-widgets",
      "model_module_version": "~2.1.4",
      "model_name": "LayoutModel",
      "state": {
       "_model_module_version": "~2.1.4",
       "_view_module_version": "~2.1.4"
      }
     },
     "9367f009baf245689a83148d8a63f37f": {
      "model_module": "jupyter-js-widgets",
      "model_module_version": "~2.1.4",
      "model_name": "LayoutModel",
      "state": {
       "_model_module_version": "~2.1.4",
       "_view_module_version": "~2.1.4"
      }
     },
     "94325e6a182445279d9bf7d1eb282e90": {
      "model_module": "jupyter-js-widgets",
      "model_module_version": "~2.1.4",
      "model_name": "LayoutModel",
      "state": {
       "_model_module_version": "~2.1.4",
       "_view_module_version": "~2.1.4"
      }
     },
     "943cb95b372344cdbf6641edf51625bd": {
      "model_module": "jupyter-js-widgets",
      "model_module_version": "~2.1.4",
      "model_name": "LayoutModel",
      "state": {
       "_model_module_version": "~2.1.4",
       "_view_module_version": "~2.1.4"
      }
     },
     "94683502bb55432aadf2bd90fbdfe90d": {
      "model_module": "jupyter-js-widgets",
      "model_module_version": "~2.1.4",
      "model_name": "LayoutModel",
      "state": {
       "_model_module_version": "~2.1.4",
       "_view_module_version": "~2.1.4"
      }
     },
     "947671c5ae2e48a783bb0a766347d230": {
      "model_module": "jupyter-js-widgets",
      "model_module_version": "~2.1.4",
      "model_name": "LayoutModel",
      "state": {
       "_model_module_version": "~2.1.4",
       "_view_module_version": "~2.1.4"
      }
     },
     "96cca9bacb8241f7a7e9356ebcf8be58": {
      "model_module": "jupyter-js-widgets",
      "model_module_version": "~2.1.4",
      "model_name": "LayoutModel",
      "state": {
       "_model_module_version": "~2.1.4",
       "_view_module_version": "~2.1.4"
      }
     },
     "99daf862e86249879caee64063c46a48": {
      "model_module": "jupyter-js-widgets",
      "model_module_version": "~2.1.4",
      "model_name": "LayoutModel",
      "state": {
       "_model_module_version": "~2.1.4",
       "_view_module_version": "~2.1.4"
      }
     },
     "9ab74886d9a4431aa35a615b2589154a": {
      "model_module": "jupyter-js-widgets",
      "model_module_version": "~2.1.4",
      "model_name": "LayoutModel",
      "state": {
       "_model_module_version": "~2.1.4",
       "_view_module_version": "~2.1.4"
      }
     },
     "9e1048de464c41768a11af31d7447410": {
      "model_module": "jupyter-js-widgets",
      "model_module_version": "~2.1.4",
      "model_name": "FloatSliderModel",
      "state": {
       "_model_module_version": "~2.1.4",
       "_range": true,
       "_view_module_version": "~2.1.4",
       "description": "y",
       "layout": "IPY_MODEL_f376b8843e174984a0e13b602c486174",
       "max": 4,
       "step": 0.5,
       "value": [
        1,
        2
       ]
      }
     },
     "9e5ee9d891b340459b29611b81e29131": {
      "model_module": "jupyter-js-widgets",
      "model_module_version": "~2.1.4",
      "model_name": "SelectModel",
      "state": {
       "_model_module_version": "~2.1.4",
       "_options_labels": [
        "All",
        "London Blackfriars [BFR]",
        "London Bridge [LBG]",
        "London Cannon Street [CST]",
        "London Charing Cross [CHX]",
        "London Euston [EUS]",
        "London Fenchurch Street [FST]",
        "London Kings Cross [KGX]",
        "London Liverpool Street [LST]",
        "London Marylebone [MYB]",
        "London Paddington [PAD]",
        "London St Pancras International [STP]",
        "London Victoria [VIC]",
        "London Waterloo [WAT]"
       ],
       "_view_module_version": "~2.1.4",
       "description": "x",
       "layout": "IPY_MODEL_efc57ebf52d0448fb76a0178d269bcac",
       "value": "London Bridge [LBG]"
      }
     },
     "9e632ffcb3294f5b811179f4759c49ab": {
      "model_module": "jupyter-js-widgets",
      "model_module_version": "~2.1.4",
      "model_name": "SelectModel",
      "state": {
       "_model_module_version": "~2.1.4",
       "_options_labels": [
        "All",
        "London Blackfriars [BFR]",
        "London Bridge [LBG]",
        "London Cannon Street [CST]",
        "London Charing Cross [CHX]",
        "London Euston [EUS]",
        "London Fenchurch Street [FST]",
        "London Kings Cross [KGX]",
        "London Liverpool Street [LST]",
        "London Marylebone [MYB]",
        "London Paddington [PAD]",
        "London St Pancras International [STP]",
        "London Victoria [VIC]",
        "London Waterloo [WAT]"
       ],
       "_view_module_version": "~2.1.4",
       "layout": "IPY_MODEL_2a832bf7c9254acf85153e1389351186",
       "value": "All"
      }
     },
     "a0a0e2f59a5e42fcb94ec1475cf596c7": {
      "model_module": "jupyter-js-widgets",
      "model_module_version": "~2.1.4",
      "model_name": "LayoutModel",
      "state": {
       "_model_module_version": "~2.1.4",
       "_view_module_version": "~2.1.4"
      }
     },
     "a0a8fc38d35d412e94a12373e764ca09": {
      "model_module": "jupyter-js-widgets",
      "model_module_version": "~2.1.4",
      "model_name": "LayoutModel",
      "state": {
       "_model_module_version": "~2.1.4",
       "_view_module_version": "~2.1.4"
      }
     },
     "a2687a8ea0624ccfb2a8c4a488df6572": {
      "model_module": "jupyter-js-widgets",
      "model_module_version": "~2.1.4",
      "model_name": "OutputModel",
      "state": {
       "_dom_classes": [],
       "_model_module": "jupyter-js-widgets",
       "_model_module_version": "~2.1.4",
       "_view_module": "jupyter-js-widgets",
       "_view_module_version": "~2.1.4",
       "layout": "IPY_MODEL_43a76f1afe4b4dc29bcf1236b3312379",
       "msg_throttle": 1
      }
     },
     "a2a7535404cc444188f2a2f7a3f9e399": {
      "model_module": "jupyter-js-widgets",
      "model_module_version": "~2.1.4",
      "model_name": "OutputModel",
      "state": {
       "_dom_classes": [],
       "_model_module": "jupyter-js-widgets",
       "_model_module_version": "~2.1.4",
       "_view_module": "jupyter-js-widgets",
       "_view_module_version": "~2.1.4",
       "layout": "IPY_MODEL_5e8f09f450f64ffb96591b580263c7d7",
       "msg_throttle": 1
      }
     },
     "a2e83436d1564c99bdd738b0eab277cc": {
      "model_module": "jupyter-js-widgets",
      "model_module_version": "~2.1.4",
      "model_name": "FloatSliderModel",
      "state": {
       "_model_module_version": "~2.1.4",
       "_view_module_version": "~2.1.4",
       "description": "y",
       "layout": "IPY_MODEL_99daf862e86249879caee64063c46a48",
       "max": 3,
       "min": -1,
       "step": 0.1,
       "value": 1.7
      }
     },
     "a4316e68b3e04f9b808900af82c3bd0d": {
      "model_module": "jupyter-js-widgets",
      "model_module_version": "~2.1.4",
      "model_name": "TextModel",
      "state": {
       "_model_module_version": "~2.1.4",
       "_view_module_version": "~2.1.4",
       "description": "x",
       "layout": "IPY_MODEL_96cca9bacb8241f7a7e9356ebcf8be58"
      }
     },
     "a4d83b59ef29473ea4c65e2dbd94403e": {
      "model_module": "jupyter-js-widgets",
      "model_module_version": "~2.1.4",
      "model_name": "LayoutModel",
      "state": {
       "_model_module_version": "~2.1.4",
       "_view_module_version": "~2.1.4"
      }
     },
     "a4e64be990e443a9a3cf77b124372575": {
      "model_module": "jupyter-js-widgets",
      "model_module_version": "~2.1.4",
      "model_name": "SelectModel",
      "state": {
       "_model_module_version": "~2.1.4",
       "_options_labels": [
        "All",
        "London Blackfriars [BFR]",
        "London Bridge [LBG]",
        "London Cannon Street [CST]",
        "London Charing Cross [CHX]",
        "London Euston [EUS]",
        "London Fenchurch Street [FST]",
        "London Kings Cross [KGX]",
        "London Liverpool Street [LST]",
        "London Marylebone [MYB]",
        "London Paddington [PAD]",
        "London St Pancras International [STP]",
        "London Victoria [VIC]",
        "London Waterloo [WAT]"
       ],
       "_view_module_version": "~2.1.4",
       "description": "x",
       "layout": "IPY_MODEL_280b934b5c894f82b7f94aca3d8114ab",
       "value": "London Bridge [LBG]"
      }
     },
     "a5d88084151342a6948433553d185703": {
      "model_module": "jupyter-js-widgets",
      "model_module_version": "~2.1.4",
      "model_name": "FloatSliderModel",
      "state": {
       "_model_module_version": "~2.1.4",
       "_view_module_version": "~2.1.4",
       "description": "y",
       "layout": "IPY_MODEL_226c7e5426d94b89a058585bf060a7d3",
       "max": 4,
       "step": 0.5,
       "value": 3.5
      }
     },
     "a693d1572a404ccfab36d4eb54d69309": {
      "model_module": "jupyter-js-widgets",
      "model_module_version": "~2.1.4",
      "model_name": "LayoutModel",
      "state": {
       "_model_module_version": "~2.1.4",
       "_view_module_version": "~2.1.4"
      }
     },
     "a748d5f875764176a8ca19e320c6cdd1": {
      "model_module": "jupyter-js-widgets",
      "model_module_version": "~2.1.4",
      "model_name": "FloatSliderModel",
      "state": {
       "_model_module_version": "~2.1.4",
       "_range": true,
       "_view_module_version": "~2.1.4",
       "description": "y",
       "layout": "IPY_MODEL_848ad522f5274f5297205d2eb50facef",
       "max": 4,
       "step": 0.5,
       "value": [
        1,
        3.5
       ]
      }
     },
     "a885658b03d348cbb2c138fa4cdc98c0": {
      "model_module": "jupyter-js-widgets",
      "model_module_version": "~2.1.4",
      "model_name": "FloatSliderModel",
      "state": {
       "_model_module_version": "~2.1.4",
       "_view_module_version": "~2.1.4",
       "description": "y",
       "layout": "IPY_MODEL_4a79def0e532451fb09bc07ec22d2b52",
       "max": 3,
       "min": -1,
       "step": 0.1,
       "value": 1
      }
     },
     "a8f42159d30e42f78dd70725f89421e4": {
      "model_module": "jupyter-js-widgets",
      "model_module_version": "~2.1.4",
      "model_name": "SelectModel",
      "state": {
       "_model_module_version": "~2.1.4",
       "_options_labels": [
        "All",
        "London Blackfriars [BFR]",
        "London Bridge [LBG]",
        "London Cannon Street [CST]",
        "London Charing Cross [CHX]",
        "London Euston [EUS]",
        "London Fenchurch Street [FST]",
        "London Kings Cross [KGX]",
        "London Liverpool Street [LST]",
        "London Marylebone [MYB]",
        "London Paddington [PAD]",
        "London St Pancras International [STP]",
        "London Victoria [VIC]",
        "London Waterloo [WAT]"
       ],
       "_view_module_version": "~2.1.4",
       "layout": "IPY_MODEL_0f09c4dd916541b5bcfe613a5b7fa321",
       "value": "All"
      }
     },
     "a92ce17bf70a41c990c96e4271f58538": {
      "model_module": "jupyter-js-widgets",
      "model_module_version": "~2.1.4",
      "model_name": "LayoutModel",
      "state": {
       "_model_module_version": "~2.1.4",
       "_view_module_version": "~2.1.4"
      }
     },
     "a9e0bf226b394007b8d0e5d6a5efc81f": {
      "model_module": "jupyter-js-widgets",
      "model_module_version": "~2.1.4",
      "model_name": "VBoxModel",
      "state": {
       "_dom_classes": [
        "widget-interact"
       ],
       "_model_module_version": "~2.1.4",
       "_view_module_version": "~2.1.4",
       "children": [
        "IPY_MODEL_46a063093c8d43f9895dfae57c565ac7",
        "IPY_MODEL_6c91a55de409477b83285092e7a049a5",
        "IPY_MODEL_c4af66a8ed9a47d29cf10263a42b4ce4",
        "IPY_MODEL_d96bb659dd8d432e933380d32f162e7b"
       ],
       "layout": "IPY_MODEL_ae6a18fbeeef448693e2c2d1354e5ca7"
      }
     },
     "ad237147071d44cdbdfe232b019e6f67": {
      "model_module": "jupyter-js-widgets",
      "model_module_version": "~2.1.4",
      "model_name": "VBoxModel",
      "state": {
       "_dom_classes": [
        "widget-interact"
       ],
       "_model_module_version": "~2.1.4",
       "_view_module_version": "~2.1.4",
       "children": [
        "IPY_MODEL_62330901277c4f52bdda9bfe51894247",
        "IPY_MODEL_c08de3794c31454dabe782aa30c0dd68",
        "IPY_MODEL_7e59fe88b31744a394697f9f57227839"
       ],
       "layout": "IPY_MODEL_5d80d89582fe4a34912ccb43e149094f"
      }
     },
     "ad662bedc9424e4bb6d40c6473623ca3": {
      "model_module": "jupyter-js-widgets",
      "model_module_version": "~2.1.4",
      "model_name": "SelectModel",
      "state": {
       "_model_module_version": "~2.1.4",
       "_options_labels": [
        "All",
        "London Blackfriars [BFR]",
        "London Bridge [LBG]",
        "London Cannon Street [CST]",
        "London Charing Cross [CHX]",
        "London Euston [EUS]",
        "London Fenchurch Street [FST]",
        "London Kings Cross [KGX]",
        "London Liverpool Street [LST]",
        "London Marylebone [MYB]",
        "London Paddington [PAD]",
        "London St Pancras International [STP]",
        "London Victoria [VIC]",
        "London Waterloo [WAT]"
       ],
       "_view_module_version": "~2.1.4",
       "description": "x",
       "layout": "IPY_MODEL_626e7680e03c4ba38a855b0132554dda",
       "value": "All"
      }
     },
     "ae6a18fbeeef448693e2c2d1354e5ca7": {
      "model_module": "jupyter-js-widgets",
      "model_module_version": "~2.1.4",
      "model_name": "LayoutModel",
      "state": {
       "_model_module_version": "~2.1.4",
       "_view_module_version": "~2.1.4"
      }
     },
     "b0b600bf96794025bc7eee7bdfd7e7e5": {
      "model_module": "jupyter-js-widgets",
      "model_module_version": "~2.1.4",
      "model_name": "LayoutModel",
      "state": {
       "_model_module_version": "~2.1.4",
       "_view_module_version": "~2.1.4"
      }
     },
     "b150b20b7f0849bcaecbd4a15908af2c": {
      "model_module": "jupyter-js-widgets",
      "model_module_version": "~2.1.4",
      "model_name": "LayoutModel",
      "state": {
       "_model_module_version": "~2.1.4",
       "_view_module_version": "~2.1.4"
      }
     },
     "b1ac27c1054147a5918540093a8c4e0b": {
      "model_module": "jupyter-js-widgets",
      "model_module_version": "~2.1.4",
      "model_name": "SelectModel",
      "state": {
       "_model_module_version": "~2.1.4",
       "_options_labels": [
        "All",
        "London Blackfriars [BFR]",
        "London Bridge [LBG]",
        "London Cannon Street [CST]",
        "London Charing Cross [CHX]",
        "London Euston [EUS]",
        "London Fenchurch Street [FST]",
        "London Kings Cross [KGX]",
        "London Liverpool Street [LST]",
        "London Marylebone [MYB]",
        "London Paddington [PAD]",
        "London St Pancras International [STP]",
        "London Victoria [VIC]",
        "London Waterloo [WAT]"
       ],
       "_view_module_version": "~2.1.4",
       "layout": "IPY_MODEL_58b261da94954fe49f9c69c5d97b15e7",
       "value": "All"
      }
     },
     "b2a784e9d87e4f06b4614e6db3330165": {
      "model_module": "jupyter-js-widgets",
      "model_module_version": "~2.1.4",
      "model_name": "LayoutModel",
      "state": {
       "_model_module_version": "~2.1.4",
       "_view_module_version": "~2.1.4"
      }
     },
     "b383f02cbe9740978a4123f6db5cd189": {
      "model_module": "jupyter-js-widgets",
      "model_module_version": "~2.1.4",
      "model_name": "OutputModel",
      "state": {
       "_dom_classes": [],
       "_model_module": "jupyter-js-widgets",
       "_model_module_version": "~2.1.4",
       "_view_module": "jupyter-js-widgets",
       "_view_module_version": "~2.1.4",
       "layout": "IPY_MODEL_8494add5dc184c29b8cf3b273e74d416",
       "msg_throttle": 1
      }
     },
     "b466d88f695d41c4bb1ec3f43ae58f93": {
      "model_module": "jupyter-js-widgets",
      "model_module_version": "~2.1.4",
      "model_name": "LayoutModel",
      "state": {
       "_model_module_version": "~2.1.4",
       "_view_module_version": "~2.1.4"
      }
     },
     "b46ca36a074b497182bc82c57483fd0c": {
      "model_module": "jupyter-js-widgets",
      "model_module_version": "~2.1.4",
      "model_name": "VBoxModel",
      "state": {
       "_dom_classes": [
        "widget-interact"
       ],
       "_model_module_version": "~2.1.4",
       "_view_module_version": "~2.1.4",
       "children": [
        "IPY_MODEL_4fcd853071854a7b886795138c03f671",
        "IPY_MODEL_f2a004b13b0d4cd9afa1f1def2608c7f",
        "IPY_MODEL_1da0a158898545ce8868becbe45c7389"
       ],
       "layout": "IPY_MODEL_94683502bb55432aadf2bd90fbdfe90d"
      }
     },
     "b78e4938918c49d58c1497af6301fda6": {
      "model_module": "jupyter-js-widgets",
      "model_module_version": "~2.1.4",
      "model_name": "LayoutModel",
      "state": {
       "_model_module_version": "~2.1.4",
       "_view_module_version": "~2.1.4"
      }
     },
     "b94f4e1849a74dc2987773e8a8ef8edb": {
      "model_module": "jupyter-js-widgets",
      "model_module_version": "~2.1.4",
      "model_name": "VBoxModel",
      "state": {
       "_dom_classes": [
        "widget-interact"
       ],
       "_model_module_version": "~2.1.4",
       "_view_module_version": "~2.1.4",
       "children": [
        "IPY_MODEL_c6e39f0c229a407daa1576e7ef8fb24d",
        "IPY_MODEL_32a3e1bb62374a6291484eb171d5e582",
        "IPY_MODEL_c6861abd6ce7423f8150bec3f715a8e4"
       ],
       "layout": "IPY_MODEL_7aba5cb7b39d490cb14b45676ccee68d"
      }
     },
     "b9cf5aa376bd408da94b2a58af8e7e22": {
      "model_module": "jupyter-js-widgets",
      "model_module_version": "~2.1.4",
      "model_name": "FloatSliderModel",
      "state": {
       "_model_module_version": "~2.1.4",
       "_view_module_version": "~2.1.4",
       "description": "z",
       "layout": "IPY_MODEL_7b32a6bde2854773a7a19aa7dfec02ae",
       "max": 6,
       "min": -2,
       "step": 0.1,
       "value": 2
      }
     },
     "ba1c81dc0108426dac5645ef0a52cc1f": {
      "model_module": "jupyter-js-widgets",
      "model_module_version": "~2.1.4",
      "model_name": "TextModel",
      "state": {
       "_model_module_version": "~2.1.4",
       "_view_module_version": "~2.1.4",
       "description": "x",
       "layout": "IPY_MODEL_054aca4fb5f842369d69acf57205ce20"
      }
     },
     "bb182dd9d2c54338a0bbe0c9cb1ee798": {
      "model_module": "jupyter-js-widgets",
      "model_module_version": "~2.1.4",
      "model_name": "OutputModel",
      "state": {
       "_dom_classes": [],
       "_model_module": "jupyter-js-widgets",
       "_model_module_version": "~2.1.4",
       "_view_module": "jupyter-js-widgets",
       "_view_module_version": "~2.1.4",
       "layout": "IPY_MODEL_3ed87766b4684799883fb24bd6777066",
       "msg_throttle": 1
      }
     },
     "bb80fa2ddf7a401c99c70aeb0884bbf1": {
      "model_module": "jupyter-js-widgets",
      "model_module_version": "~2.1.4",
      "model_name": "LayoutModel",
      "state": {
       "_model_module_version": "~2.1.4",
       "_view_module_version": "~2.1.4"
      }
     },
     "bc9bcb1b17564d5ca5b2b3bb08cfafe8": {
      "model_module": "jupyter-js-widgets",
      "model_module_version": "~2.1.4",
      "model_name": "SelectModel",
      "state": {
       "_model_module_version": "~2.1.4",
       "_options_labels": [
        "All",
        "London Blackfriars [BFR]",
        "London Bridge [LBG]",
        "London Cannon Street [CST]",
        "London Charing Cross [CHX]",
        "London Euston [EUS]",
        "London Fenchurch Street [FST]",
        "London Kings Cross [KGX]",
        "London Liverpool Street [LST]",
        "London Marylebone [MYB]",
        "London Paddington [PAD]",
        "London St Pancras International [STP]",
        "London Victoria [VIC]",
        "London Waterloo [WAT]"
       ],
       "_view_module_version": "~2.1.4",
       "description": "x",
       "layout": "IPY_MODEL_da769971515d4d2ea97c5e1d4df25362",
       "value": "London Bridge [LBG]"
      }
     },
     "bd1fe7bfb6114b5fa473be93c3ffb225": {
      "model_module": "jupyter-js-widgets",
      "model_module_version": "~2.1.4",
      "model_name": "LayoutModel",
      "state": {
       "_model_module_version": "~2.1.4",
       "_view_module_version": "~2.1.4"
      }
     },
     "bd3bba821baf424f92553b7872864c3d": {
      "model_module": "jupyter-js-widgets",
      "model_module_version": "~2.1.4",
      "model_name": "LayoutModel",
      "state": {
       "_model_module_version": "~2.1.4",
       "_view_module_version": "~2.1.4"
      }
     },
     "bf771dc8844c480db850614fd37a6b36": {
      "model_module": "jupyter-js-widgets",
      "model_module_version": "~2.1.4",
      "model_name": "FloatSliderModel",
      "state": {
       "_model_module_version": "~2.1.4",
       "_range": true,
       "_view_module_version": "~2.1.4",
       "description": "y",
       "layout": "IPY_MODEL_700256c23a0b4fbe8b4291e73e6ffc05",
       "max": 4,
       "step": 0.5,
       "value": [
        1,
        2
       ]
      }
     },
     "c08de3794c31454dabe782aa30c0dd68": {
      "model_module": "jupyter-js-widgets",
      "model_module_version": "~2.1.4",
      "model_name": "FloatSliderModel",
      "state": {
       "_model_module_version": "~2.1.4",
       "_view_module_version": "~2.1.4",
       "description": "y",
       "layout": "IPY_MODEL_23dd5677d16547fe831d5265d670174d",
       "max": 3,
       "min": -1,
       "step": 0.1,
       "value": 1
      }
     },
     "c10fd50da36a4d9a9895fa213cf35ca0": {
      "model_module": "jupyter-js-widgets",
      "model_module_version": "~2.1.4",
      "model_name": "FloatSliderModel",
      "state": {
       "_model_module_version": "~2.1.4",
       "_range": true,
       "_view_module_version": "~2.1.4",
       "description": "y",
       "layout": "IPY_MODEL_04e3389e807d46659035a1447eff8e49",
       "max": 4,
       "step": 0.5,
       "value": [
        1,
        2
       ]
      }
     },
     "c247753ef6ea4dc8bbb5f77b4add523f": {
      "model_module": "jupyter-js-widgets",
      "model_module_version": "~2.1.4",
      "model_name": "LayoutModel",
      "state": {
       "_model_module_version": "~2.1.4",
       "_view_module_version": "~2.1.4"
      }
     },
     "c3a22aa282124115a0f8737fcaa3df4c": {
      "model_module": "jupyter-js-widgets",
      "model_module_version": "~2.1.4",
      "model_name": "FloatSliderModel",
      "state": {
       "_model_module_version": "~2.1.4",
       "_range": true,
       "_view_module_version": "~2.1.4",
       "layout": "IPY_MODEL_d711849c3a874259a6dd59e8fec2475c",
       "max": 4,
       "step": 0.5,
       "value": [
        1,
        2
       ]
      }
     },
     "c4af66a8ed9a47d29cf10263a42b4ce4": {
      "model_module": "jupyter-js-widgets",
      "model_module_version": "~2.1.4",
      "model_name": "FloatSliderModel",
      "state": {
       "_model_module_version": "~2.1.4",
       "_view_module_version": "~2.1.4",
       "description": "z",
       "layout": "IPY_MODEL_f40b3a7a38784fd2a9d476c4bf0055c1",
       "max": 6,
       "min": -2,
       "step": 0.1,
       "value": 2
      }
     },
     "c6861abd6ce7423f8150bec3f715a8e4": {
      "model_module": "jupyter-js-widgets",
      "model_module_version": "~2.1.4",
      "model_name": "OutputModel",
      "state": {
       "_dom_classes": [],
       "_model_module": "jupyter-js-widgets",
       "_model_module_version": "~2.1.4",
       "_view_module": "jupyter-js-widgets",
       "_view_module_version": "~2.1.4",
       "layout": "IPY_MODEL_7ce975de2c9747e6b9a87f71d25e49cc",
       "msg_throttle": 1
      }
     },
     "c6e39f0c229a407daa1576e7ef8fb24d": {
      "model_module": "jupyter-js-widgets",
      "model_module_version": "~2.1.4",
      "model_name": "SelectModel",
      "state": {
       "_model_module_version": "~2.1.4",
       "_options_labels": [
        "All",
        "London Blackfriars [BFR]",
        "London Bridge [LBG]",
        "London Cannon Street [CST]",
        "London Charing Cross [CHX]",
        "London Euston [EUS]",
        "London Fenchurch Street [FST]",
        "London Kings Cross [KGX]",
        "London Liverpool Street [LST]",
        "London Marylebone [MYB]",
        "London Paddington [PAD]",
        "London St Pancras International [STP]",
        "London Victoria [VIC]",
        "London Waterloo [WAT]"
       ],
       "_view_module_version": "~2.1.4",
       "description": "x",
       "layout": "IPY_MODEL_4e8b4e4842b04a0ba33b5c9ddaccd12a",
       "value": "London Kings Cross [KGX]"
      }
     },
     "c86bbb67ad54493e9a1f962aa115d250": {
      "model_module": "jupyter-js-widgets",
      "model_module_version": "~2.1.4",
      "model_name": "LayoutModel",
      "state": {
       "_model_module_version": "~2.1.4",
       "_view_module_version": "~2.1.4"
      }
     },
     "c8d7904605154612ba87014c61c6ede8": {
      "model_module": "jupyter-js-widgets",
      "model_module_version": "~2.1.4",
      "model_name": "LayoutModel",
      "state": {
       "_model_module_version": "~2.1.4",
       "_view_module_version": "~2.1.4"
      }
     },
     "cb03fc68485f46d88d80f81fde9a81a0": {
      "model_module": "jupyter-js-widgets",
      "model_module_version": "~2.1.4",
      "model_name": "SelectModel",
      "state": {
       "_model_module_version": "~2.1.4",
       "_options_labels": [
        "All",
        "London Blackfriars [BFR]",
        "London Bridge [LBG]",
        "London Cannon Street [CST]",
        "London Charing Cross [CHX]",
        "London Euston [EUS]",
        "London Fenchurch Street [FST]",
        "London Kings Cross [KGX]",
        "London Liverpool Street [LST]",
        "London Marylebone [MYB]",
        "London Paddington [PAD]",
        "London St Pancras International [STP]",
        "London Victoria [VIC]",
        "London Waterloo [WAT]"
       ],
       "_view_module_version": "~2.1.4",
       "description": "x",
       "layout": "IPY_MODEL_e0a9e750f3404371a785a3362dc96930",
       "value": "All"
      }
     },
     "cd15f1ff2fe4406c9ff0d555f252dfe5": {
      "model_module": "jupyter-js-widgets",
      "model_module_version": "~2.1.4",
      "model_name": "SelectModel",
      "state": {
       "_model_module_version": "~2.1.4",
       "_options_labels": [
        "All",
        "London Blackfriars [BFR]",
        "London Bridge [LBG]",
        "London Cannon Street [CST]",
        "London Charing Cross [CHX]",
        "London Euston [EUS]",
        "London Fenchurch Street [FST]",
        "London Kings Cross [KGX]",
        "London Liverpool Street [LST]",
        "London Marylebone [MYB]",
        "London Paddington [PAD]",
        "London St Pancras International [STP]",
        "London Victoria [VIC]",
        "London Waterloo [WAT]"
       ],
       "_view_module_version": "~2.1.4",
       "layout": "IPY_MODEL_a4d83b59ef29473ea4c65e2dbd94403e",
       "value": "All"
      }
     },
     "cf9fd97c2f0545ba8681483ebdab6b3a": {
      "model_module": "jupyter-js-widgets",
      "model_module_version": "~2.1.4",
      "model_name": "VBoxModel",
      "state": {
       "_dom_classes": [
        "widget-interact"
       ],
       "_model_module_version": "~2.1.4",
       "_view_module_version": "~2.1.4",
       "children": [
        "IPY_MODEL_4c47d0be0d374a44a83f8ec29c2f2bc5",
        "IPY_MODEL_a748d5f875764176a8ca19e320c6cdd1",
        "IPY_MODEL_3e5f01b7300e45cebdbafd0cd33a8ed5",
        "IPY_MODEL_20172d4ecfc749c1a45e690d52c11af4"
       ],
       "layout": "IPY_MODEL_f85ebb26c6794d368e51c62f6946e5c1"
      }
     },
     "d015e819e4014ad4ba5551932382875a": {
      "model_module": "jupyter-js-widgets",
      "model_module_version": "~2.1.4",
      "model_name": "LayoutModel",
      "state": {
       "_model_module_version": "~2.1.4",
       "_view_module_version": "~2.1.4"
      }
     },
     "d09fde566f60447c989ebcae2aeac657": {
      "model_module": "jupyter-js-widgets",
      "model_module_version": "~2.1.4",
      "model_name": "LayoutModel",
      "state": {
       "_model_module_version": "~2.1.4",
       "_view_module_version": "~2.1.4"
      }
     },
     "d27da9da2afa447993b2a355de5cfa93": {
      "model_module": "jupyter-js-widgets",
      "model_module_version": "~2.1.4",
      "model_name": "LayoutModel",
      "state": {
       "_model_module_version": "~2.1.4",
       "_view_module_version": "~2.1.4"
      }
     },
     "d33a3bb3810e4b7c81a63881d74ab20e": {
      "model_module": "jupyter-js-widgets",
      "model_module_version": "~2.1.4",
      "model_name": "LayoutModel",
      "state": {
       "_model_module_version": "~2.1.4",
       "_view_module_version": "~2.1.4"
      }
     },
     "d388fe1b5e7740e0bef47c6efe45b573": {
      "model_module": "jupyter-js-widgets",
      "model_module_version": "~2.1.4",
      "model_name": "VBoxModel",
      "state": {
       "_dom_classes": [
        "widget-interact"
       ],
       "_model_module_version": "~2.1.4",
       "_view_module_version": "~2.1.4",
       "children": [
        "IPY_MODEL_f922113805fd407aa0b01f1bae5d1f7d",
        "IPY_MODEL_04535590f6da4613b3cff352f7370bac",
        "IPY_MODEL_1e66a0a0604041889e168f9d354c1a4f"
       ],
       "layout": "IPY_MODEL_57a5e581da1547209d329a68c6c6f8d2"
      }
     },
     "d5306630f5ad46dfbb70e1eddac8161c": {
      "model_module": "jupyter-js-widgets",
      "model_module_version": "~2.1.4",
      "model_name": "SelectModel",
      "state": {
       "_model_module_version": "~2.1.4",
       "_options_labels": [
        "All",
        "Aber [ABE]",
        "Abercynon [ACY]",
        "Aberdovey [AVY]",
        "Abergavenny [AGV]",
        "Abergele & Pensarn [AGL]",
        "Aberystwyth [AYW]",
        "Accrington [ACR]",
        "Acle [ACL]",
        "Acocks Green [ACG]",
        "Adderley Park [ADD]",
        "Addlestone [ASN]",
        "Adisham [ADM]",
        "Adlington (Cheshire) [ADC]",
        "Aigburth [AIG]",
        "Ainsdale [ANS]",
        "Aintree [AIN]",
        "Albrighton [ALB]",
        "Alderley Edge [ALD]",
        "Aldermaston [AMT]",
        "Aldershot [AHT]",
        "Aldrington [AGT]",
        "Allens West [ALW]",
        "Alresford (Essex) [ALR]",
        "Alsager [ASG]",
        "Althorne (Essex) [ALN]",
        "Alton [AON]",
        "Alvechurch [ALV]",
        "Ambergate [AMB]",
        "Amberley [AMY]",
        "Amersham [AMR]",
        "Ammanford [AMF]",
        "Ancaster [ANC]",
        "Andover [ADV]",
        "Angmering [ANG]",
        "Ansdell & Fairhaven [AFV]",
        "Appleby [APP]",
        "Appledore (Kent) [APD]",
        "Appleford [APF]",
        "Appley Bridge [APB]",
        "Apsley [APS]",
        "Ardwick [ADK]",
        "Argyle Street [AGS]",
        "Arlesey [ARL]",
        "Arnside [ARN]",
        "Arram [ARR]",
        "Arundel [ARU]",
        "Ascot (Berks) [ACT]",
        "Ash Vale [AHV]",
        "Ash [ASH]",
        "Ashchurch for Tewkesbury [ASC]",
        "Ashford (Surrey) [AFS]",
        "Ashford International [AFK]",
        "Ashley [ASY]",
        "Ashtead [AHD]",
        "Ashurst (Kent) [AHS]",
        "Ashurst New Forest [ANF]",
        "Ashwell & Morden [AWM]",
        "Askam [ASK]",
        "Aslockton [ALK]",
        "Aspatria [ASP]",
        "Aspley Guise [APG]",
        "Aston [AST]",
        "Atherton [ATN]",
        "Attenborough [ATB]",
        "Attleborough [ATL]",
        "Audley End [AUD]",
        "Aughton Park [AUG]",
        "Avoncliff [AVF]",
        "Avonmouth [AVN]",
        "Axminster [AXM]",
        "Aylesbury [AYS]",
        "Aylesford [AYL]",
        "Aylesham [AYH]",
        "Bache [BAC]",
        "Baglan [BAJ]",
        "Bagshot [BAG]",
        "Baildon [BLD]",
        "Balcombe [BAB]",
        "Baldock [BDK]",
        "Bamber Bridge [BMB]",
        "Bamford [BAM]",
        "Banbury [BAN]",
        "Bangor (Gwynedd) [BNG]",
        "Bank Hall [BAH]",
        "Banstead [BAD]",
        "Bardon Mill [BLL]",
        "Bare Lane [BAR]",
        "Bargoed [BGD]",
        "Barming [BMG]",
        "Barnetby [BTB]",
        "Barnham [BAA]",
        "Barnsley [BNY]",
        "Barnstaple [BNP]",
        "Barnt Green [BTG]",
        "Barrow Haven [BAV]",
        "Barrow-in-Furness [BIF]",
        "Barrow-upon-Soar [BWS]",
        "Barry Docks [BYD]",
        "Barry Island [BYI]",
        "Barry [BRY]",
        "Barton-on-Humber [BAU]",
        "Basildon [BSO]",
        "Basingstoke [BSK]",
        "Bat & Ball [BBL]",
        "Bath Spa [BTH]",
        "Batley [BTL]",
        "Battersby [BTT]",
        "Battle [BAT]",
        "Battlesbridge [BLB]",
        "Beaconsfield [BCF]",
        "Bearley [BER]",
        "Bearsted [BSD]",
        "Beaulieu Road [BEU]",
        "Bebington [BEB]",
        "Beccles [BCC]",
        "Bedford St Johns [BSJ]",
        "Bedhampton [BDH]",
        "Bedminster [BMT]",
        "Bedworth [BEH]",
        "Beeston [BEE]",
        "Bekesbourne [BKS]",
        "Belper [BLP]",
        "Beltring [BEG]",
        "Ben Rhydding [BEY]",
        "Benfleet [BEF]",
        "Bentley (Hants) [BTY]",
        "Bentley (South Yorks) [BYK]",
        "Bere Alston [BAS]",
        "Bere Ferrers [BFE]",
        "Berkhamsted [BKM]",
        "Berkswell [BKW]",
        "Berney Arms [BYA]",
        "Berry Brow [BBW]",
        "Berwick (Sussex) [BRK]",
        "Berwick-upon-Tweed [BWK]",
        "Bescot Stadium [BSC]",
        "Betws-y-Coed [BYC]",
        "Beverley [BEV]",
        "Bexhill [BEX]",
        "Bicester North [BCS]",
        "Bicester Village [BIT]",
        "Bidston [BID]",
        "Biggleswade [BIW]",
        "Bilbrook [BBK]",
        "Billericay [BIC]",
        "Billingham (Cleveland) [BIL]",
        "Billingshurst [BIG]",
        "Bingham [BIN]",
        "Bingley [BIY]",
        "Birchgrove [BCG]",
        "Birchington-on-Sea [BCH]",
        "Birchwood [BWD]",
        "Birkdale [BDL]",
        "Birkenhead Central [BKC]",
        "Birkenhead Hamilton Square [BKQ]",
        "Birkenhead North [BKN]",
        "Birkenhead Park [BKP]",
        "Birmingham International [BHI]",
        "Birmingham Moor Street [BMO]",
        "Birmingham New Street [BHM]",
        "Birmingham Snow Hill [BSW]",
        "Bishop Auckland [BIA]",
        "Bishops Stortford [BIS]",
        "Bishopstone (Sussex) [BIP]",
        "Bitterne [BTE]",
        "Blackburn [BBN]",
        "Blackpool North [BPN]",
        "Blackpool Pleasure Beach [BPB]",
        "Blackpool South [BPS]",
        "Blackrod [BLK]",
        "Blackwater [BAW]",
        "Blaenau Ffestiniog [BFF]",
        "Blake Street [BKT]",
        "Blakedown [BKD]",
        "Blaydon [BLO]",
        "Bleasby [BSB]",
        "Bletchley [BLY]",
        "Bloxwich North [BWN]",
        "Bloxwich [BLX]",
        "Blundellsands & Crosby [BLN]",
        "Blythe Bridge [BYB]",
        "Bodmin Parkway [BOD]",
        "Bodorgan [BOR]",
        "Bognor Regis [BOG]",
        "Bolton [BON]",
        "Bookham [BKA]",
        "Bootle (Cumbria) [BOC]",
        "Bootle New Strand [BNW]",
        "Bootle Oriel Road [BOT]",
        "Borough Green & Wrotham [BRG]",
        "Borth [BRH]",
        "Bosham [BOH]",
        "Botley [BOE]",
        "Bottesford [BTF]",
        "Bourne End [BNE]",
        "Bournemouth [BMH]",
        "Bournville [BRV]",
        "Bow Brickhill [BWB]",
        "Box Hill & Westhumble [BXW]",
        "Bracknell [BCE]",
        "Bradford Interchange [BDI]",
        "Bradford-on-Avon [BOA]",
        "Brading [BDN]",
        "Braintree Freeport [BTP]",
        "Bramhall [BML]",
        "Bramley (Hants) [BMY]",
        "Bramley (W Yorks) [BLE]",
        "Brampton (Cumbria) [BMP]",
        "Brampton (Suffolk) [BRP]",
        "Brandon [BND]",
        "Branksome [BSM]",
        "Braystones (Cumbria) [BYS]",
        "Bredbury [BDY]",
        "Brentwood [BRE]",
        "Bridgend [BGN]",
        "Bridgeton [BDG]",
        "Bridgwater [BWT]",
        "Bridlington [BDT]",
        "Brierfield [BRF]",
        "Brighouse [BGH]",
        "Brighton [BTN]",
        "Brinnington [BNT]",
        "Bristol Parkway [BPW]",
        "Bristol Temple Meads [BRI]",
        "Brithdir [BHD]",
        "Briton Ferry [BNF]",
        "Broad Green [BGE]",
        "Broadbottom [BDB]",
        "Broadstairs [BSR]",
        "Brockenhurst [BCU]",
        "Brockholes [BHS]",
        "Bromborough Rake [BMR]",
        "Bromborough [BOM]",
        "Bromley Cross (Lancs) [BMC]",
        "Bromsgrove [BMV]",
        "Brookmans Park [BPK]",
        "Brookwood [BKO]",
        "Broome [BME]",
        "Broomfleet [BMF]",
        "Brough [BUH]",
        "Broxbourne [BXB]",
        "Brundall Gardens [BGA]",
        "Brundall [BDA]",
        "Brunswick [BRW]",
        "Bruton [BRU]",
        "Bryn [BYN]",
        "Buckley [BCK]",
        "Bucknell [BUK]",
        "Buckshaw Parkway [BSV]",
        "Bugle [BGL]",
        "Builth Road [BHR]",
        "Bulwell [BLW]",
        "Bures [BUE]",
        "Burgess Hill [BUG]",
        "Burley Park [BUY]",
        "Burnage [BNA]",
        "Burneside (Cumbria) [BUD]",
        "Burnham (Bucks) [BNM]",
        "Burnham-on-Crouch [BUU]",
        "Burnley Barracks [BUB]",
        "Burnley Central [BNC]",
        "Burnley Manchester Road [BYM]",
        "Burscough Bridge [BCB]",
        "Burscough Junction [BCJ]",
        "Bursledon [BUO]",
        "Burton Joyce [BUJ]",
        "Burton-on-Trent [BUT]",
        "Bury St Edmunds [BSE]",
        "Bushey [BSH]",
        "Butlers Lane [BUL]",
        "Buxted [BXD]",
        "Buxton [BUX]",
        "Byfleet & New Haw [BFN]",
        "Bynea [BYE]",
        "Cadoxton [CAD]",
        "Caergwrle [CGW]",
        "Caerphilly [CPH]",
        "Caersws [CWS]",
        "Calstock [CSK]",
        "Cam & Dursley [CDU]",
        "Camberley [CAM]",
        "Camborne [CBN]",
        "Canley [CNL]",
        "Cannock [CAO]",
        "Canterbury East [CBE]",
        "Canterbury West [CBW]",
        "Cantley [CNY]",
        "Capenhurst [CPU]",
        "Cardiff Bay [CDB]",
        "Cardiff Central [CDF]",
        "Cark & Cartmel [CAK]",
        "Carlisle [CAR]",
        "Carlton [CTO]",
        "Carmarthen [CMN]",
        "Carnforth [CNF]",
        "Carpenders Park [CPK]",
        "Castle Cary [CLC]",
        "Castleford [CFD]",
        "Castleton (Manchester) [CAS]",
        "Castleton Moor [CSM]",
        "Caterham [CAT]",
        "Causeland [CAU]",
        "Cefn-y-Bedd [CYB]",
        "Chafford Hundred Lakeside [CFH]",
        "Chalfont & Latimer [CFO]",
        "Chalkwell [CHW]",
        "Chandlers Ford [CFR]",
        "Chapel-en-le-Frith [CEF]",
        "Chapelton (Devon) [CPN]",
        "Chapeltown (South Yorks) [CLN]",
        "Chappel & Wakes Colne [CWC]",
        "Charing (Kent) [CHG]",
        "Charlbury [CBY]",
        "Chartham [CRT]",
        "Chassen Road [CSR]",
        "Chatham [CTM]",
        "Chathill [CHT]",
        "Cheadle Hulme [CHU]",
        "Cheddington [CED]",
        "Chelford (Cheshire) [CEL]",
        "Chelmsford [CHM]",
        "Cheltenham Spa [CNM]",
        "Chepstow [CPW]",
        "Cherry Tree [CYT]",
        "Chertsey [CHY]",
        "Cheshunt [CHN]",
        "Chester Road [CRD]",
        "Chester [CTR]",
        "Chester-le-Street [CLS]",
        "Chesterfield [CHD]",
        "Chestfield & Swalecliffe [CSW]",
        "Chetnole [CNO]",
        "Chichester [CCH]",
        "Chilham [CIL]",
        "Chippenham [CPM]",
        "Chirk [CRK]",
        "Cholsey [CHO]",
        "Chorley [CRL]",
        "Chorleywood [CLW]",
        "Christchurch [CHR]",
        "Christs Hospital [CHH]",
        "Church & Oswaldtwistle [CTW]",
        "Church Fenton [CHF]",
        "Church Stretton [CTT]",
        "Cilmeri [CIM]",
        "Clacton-on-Sea [CLT]",
        "Clandon [CLA]",
        "Clapham (North Yorkshire) [CPY]",
        "Clarbeston Road [CLR]",
        "Claverdon [CLV]",
        "Claygate [CLG]",
        "Cleethorpes [CLE]",
        "Clifton (Manchester) [CLI]",
        "Clifton Down [CFN]",
        "Clitheroe [CLH]",
        "Clunderwen [CUW]",
        "Cobham & Stoke D'Abernon [CSD]",
        "Codsall [CSL]",
        "Cogan [CGN]",
        "Colchester Town [CET]",
        "Colchester [COL]",
        "Coleshill Parkway [CEH]",
        "Collingham [CLM]",
        "Collington [CLL]",
        "Colne [CNE]",
        "Colwall [CWL]",
        "Colwyn Bay [CWB]",
        "Commondale [COM]",
        "Congleton [CNG]",
        "Conisbrough [CNS]",
        "Cononley [CEY]",
        "Conway Park [CNP]",
        "Conwy [CNW]",
        "Cooden Beach [COB]",
        "Cookham [COO]",
        "Cooksbridge [CBR]",
        "Copplestone [COP]",
        "Corbridge [CRB]",
        "Corby [COR]",
        "Corkerhill [CKH]",
        "Corkickle [CKL]",
        "Coryton [COY]",
        "Coseley [CSY]",
        "Cosford [COS]",
        "Cosham [CSA]",
        "Cottingham [CGM]",
        "Cottingley [COT]",
        "Coventry [COV]",
        "Cowden (Kent) [CWN]",
        "Cradley Heath [CRA]",
        "Craven Arms [CRV]",
        "Crawley [CRW]",
        "Crediton [CDI]",
        "Cressington [CSG]",
        "Creswell [CWD]",
        "Crewe [CRE]",
        "Crewkerne [CKN]",
        "Cromer [CMR]",
        "Cromford [CMF]",
        "Crossflatts [CFL]",
        "Crosshill [COI]",
        "Crosskeys [CKY]",
        "Croston [CSO]",
        "Crowborough [COH]",
        "Crowhurst [CWU]",
        "Crowle [CWE]",
        "Cuddington [CUD]",
        "Cuffley [CUF]",
        "Culham [CUM]",
        "Curriehill [CUH]",
        "Cuxton [CUX]",
        "Cwmbach [CMH]",
        "Cwmbran [CWM]",
        "Cynghordy [CYN]",
        "Daisy Hill [DSY]",
        "Dalmarnock [DAK]",
        "Dalmeny [DAM]",
        "Dalston (Cumbria) [DLS]",
        "Dalton (Cumbria) [DLT]",
        "Danby [DNY]",
        "Danescourt [DCT]",
        "Danzey [DZY]",
        "Darlington [DAR]",
        "Darnall [DAN]",
        "Darsham [DSM]",
        "Dartford [DFD]",
        "Darton [DRT]",
        "Darwen [DWN]",
        "Datchet [DAT]",
        "Davenport [DVN]",
        "Dawlish Warren [DWW]",
        "Dawlish [DWL]",
        "Deal [DEA]",
        "Dean (Wilts) [DEN]",
        "Deganwy [DGY]",
        "Deighton [DHN]",
        "Denby Dale [DBD]",
        "Denham Golf Club [DGC]",
        "Denham [DNM]",
        "Dent [DNT]",
        "Derby Road (Ipswich) [DBR]",
        "Derby [DBY]",
        "Devonport (Devon) [DPT]",
        "Devonport Dockyard [DOC]",
        "Dewsbury [DEW]",
        "Didcot Parkway [DID]",
        "Digby & Sowton [DIG]",
        "Dilton Marsh [DMH]",
        "Dinas (Rhondda) [DMG]",
        "Dinas Powys [DNS]",
        "Dingle Road [DGL]",
        "Disley [DSL]",
        "Diss [DIS]",
        "Dodworth [DOD]",
        "Dolau [DOL]",
        "Doleham [DLH]",
        "Dolgarrog [DLG]",
        "Dolwyddelan [DWD]",
        "Doncaster [DON]",
        "Dorchester South [DCH]",
        "Dorchester West [DCW]",
        "Dore & Totley [DOR]",
        "Dorking (Main) [DKG]",
        "Dormans [DMS]",
        "Dorridge [DDG]",
        "Dove Holes [DVH]",
        "Dover Priory [DVP]",
        "Dovercourt [DVC]",
        "Dovey Junction [DVY]",
        "Downham Market [DOW]",
        "Drem [DRM]",
        "Drigg [DRI]",
        "Droitwich Spa [DTW]",
        "Duddeston [DUD]",
        "Dudley Port [DDP]",
        "Duffield [DFI]",
        "Dullingham [DUL]",
        "Dumbreck [DUM]",
        "Dumfries [DMF]",
        "Dumpton Park [DMP]",
        "Dunbar [DUN]",
        "Dunston [DOT]",
        "Dunton Green [DNG]",
        "Durham [DHM]",
        "Durrington-on-Sea [DUR]",
        "Eaglescliffe [EAG]",
        "Earlestown [ERL]",
        "Earley [EAR]",
        "Earlswood (Surrey) [ELD]",
        "Earlswood (West Midlands) [EWD]",
        "East Farleigh [EFL]",
        "East Garforth [EGF]",
        "East Grinstead [EGR]",
        "East Malling [EML]",
        "East Midlands Parkway [EMD]",
        "East Tilbury [ETL]",
        "East Worthing [EWR]",
        "Eastbourne [EBN]",
        "Eastbrook [EBK]",
        "Eastham Rake [ERA]",
        "Eastleigh [ESL]",
        "Eastrington [EGN]",
        "Ebbw Vale Parkway [EBV]",
        "Eccles (Manchester) [ECC]",
        "Eccles Road [ECS]",
        "Eccleston Park [ECL]",
        "Edale [EDL]",
        "Edenbridge Town [EBT]",
        "Edenbridge(Kent) [EBR]",
        "Edge Hill [EDG]",
        "Edinburgh Park [EDP]",
        "Edinburgh [EDB]",
        "Effingham Junction [EFF]",
        "Eggesford [EGG]",
        "Egham [EGH]",
        "Egton [EGT]",
        "Ellesmere Port [ELP]",
        "Elmswell [ESW]",
        "Elsecar [ELR]",
        "Elsenham (Essex) [ESM]",
        "Elstree & Borehamwood [ELS]",
        "Ely [ELY]",
        "Emsworth [EMS]",
        "Entwistle [ENT]",
        "Epsom (Surrey) [EPS]",
        "Erdington [ERD]",
        "Eridge [ERI]",
        "Esher [ESH]",
        "Etchingham [ETC]",
        "Euxton Balshaw Lane [EBA]",
        "Evesham [EVE]",
        "Ewell East [EWE]",
        "Ewell West [EWW]",
        "Exeter Central [EXC]",
        "Exeter St David's [EXD]",
        "Exeter St Thomas [EXT]",
        "Exmouth [EXM]",
        "Exton [EXN]",
        "Eynsford [EYN]",
        "Fairbourne [FRB]",
        "Fairfield [FRF]",
        "Fairwater [FRW]",
        "Falmer [FMR]",
        "Falmouth Docks [FAL]",
        "Falmouth Town [FMT]",
        "Fareham [FRM]",
        "Farnborough (Main) [FNB]",
        "Farncombe [FNC]",
        "Farnham [FNH]",
        "Farningham Road [FNR]",
        "Farnworth [FNW]",
        "Faversham [FAV]",
        "Faygate [FGT]",
        "Fazakerley [FAZ]",
        "Featherstone [FEA]",
        "Felixstowe [FLX]",
        "Feniton [FNT]",
        "Fenny Stratford [FEN]",
        "Fernhill [FER]",
        "Ferriby [FRY]",
        "Ferryside [FYS]",
        "Ffairfach [FFA]",
        "Filey [FIL]",
        "Filton Abbey Wood [FIT]",
        "Finstock [FIN]",
        "Fishbourne (Sussex) [FSB]",
        "Fiskerton [FSK]",
        "Fitzwilliam [FZW]",
        "Five Ways [FWY]",
        "Fleet [FLE]",
        "Flimby [FLM]",
        "Flint [FLN]",
        "Flitwick [FLT]",
        "Flixton [FLI]",
        "Flowery Field [FLF]",
        "Folkestone Central [FKC]",
        "Folkestone West [FKW]",
        "Ford [FOD]",
        "Formby [FBY]",
        "Four Oaks [FOK]",
        "Foxfield [FOX]",
        "Frant [FRT]",
        "Fratton [FTN]",
        "Freshfield [FRE]",
        "Freshford [FFD]",
        "Frinton-on-Sea [FRI]",
        "Frizinghall [FZH]",
        "Frodsham [FRD]",
        "Frome [FRO]",
        "Furze Platt [FZP]",
        "Gainsborough Central [GNB]",
        "Gainsborough Lea Road [GBL]",
        "Garforth [GRF]",
        "Gargrave [GGV]",
        "Garsdale [GSD]",
        "Garston (Hertfordshire) [GSN]",
        "Garswood [GSW]",
        "Garth (Mid Glamorgan) [GMG]",
        "Garth (Powys) [GTH]",
        "Gathurst [GST]",
        "Gatley [GTY]",
        "Gerrards Cross [GER]",
        "Giggleswick [GIG]",
        "Gilberdyke [GBD]",
        "Gilfach Fargoed [GFF]",
        "Gillingham (Dorset) [GIL]",
        "Gillingham (Kent) [GLM]",
        "Glaisdale [GLS]",
        "Glan Conwy [GCW]",
        "Glasgow Central [GLC]",
        "Glasgow Queen Street [GLQ]",
        "Glasshoughton [GLH]",
        "Glazebrook [GLZ]",
        "Glossop [GLO]",
        "Gloucester [GCR]",
        "Glynde [GLY]",
        "Gobowen [GOB]",
        "Godalming [GOD]",
        "Godley [GDL]",
        "Godstone [GDN]",
        "Goldthorpe [GOE]",
        "Gomshall [GOM]",
        "Goole [GOO]",
        "Goostrey [GTR]",
        "Goring & Streatley [GOR]",
        "Goring-by-Sea [GBS]",
        "Gorton [GTO]",
        "Gowerton [GWN]",
        "Goxhill [GOX]",
        "Grange-over-Sands [GOS]",
        "Grangetown (Cardiff) [GTN]",
        "Grantham [GRA]",
        "Grateley [GRT]",
        "Gravelly Hill [GVH]",
        "Gravesend [GRV]",
        "Grays [GRY]",
        "Great Ayton [GTA]",
        "Great Bentley [GRB]",
        "Great Chesterford [GRC]",
        "Great Coates [GCT]",
        "Great Malvern [GMV]",
        "Great Missenden [GMN]",
        "Great Yarmouth [GYM]",
        "Green Lane [GNL]",
        "Green Road [GNR]",
        "Greenbank [GBK]",
        "Greenfield [GNF]",
        "Gretna Green [GEA]",
        "Grimsby Town [GMB]",
        "Grindleford [GRN]",
        "Grosmont [GMT]",
        "Guide Bridge [GUI]",
        "Guildford [GLD]",
        "Guiseley [GSY]",
        "Gunton [GNT]",
        "Gwersyllt [GWE]",
        "Gypsy Lane [GYP]",
        "Habrough [HAB]",
        "Haddenham & Thame Parkway [HDM]",
        "Haddiscoe [HAD]",
        "Hag Fold [HGF]",
        "Hagley [HAG]",
        "Hale (Manchester) [HAL]",
        "Halesworth [HAS]",
        "Halewood [HED]",
        "Halifax [HFX]",
        "Hall Green [HLG]",
        "Hall Road [HLR]",
        "Hall-i-th-Wood [HID]",
        "Halling [HAI]",
        "Haltwhistle [HWH]",
        "Ham Street [HMT]",
        "Hamble [HME]",
        "Hampden Park (Sussex) [HMD]",
        "Hampton Court [HMC]",
        "Hampton-in-Arden [HIA]",
        "Hamstead (Birmingham) [HSD]",
        "Hamworthy [HAM]",
        "Handforth [HTH]",
        "Hapton [HPN]",
        "Harling Road [HRD]",
        "Harlington (Beds) [HLN]",
        "Harlow Mill [HWM]",
        "Harlow Town [HWN]",
        "Harpenden [HPD]",
        "Harrietsham [HRM]",
        "Harrington [HRR]",
        "Harrogate [HGT]",
        "Hartford (Cheshire) [HTF]",
        "Hartlebury [HBY]",
        "Hartlepool [HPL]",
        "Harwich International [HPQ]",
        "Harwich Town [HWC]",
        "Haslemere [HSL]",
        "Hassocks [HSK]",
        "Hastings [HGS]",
        "Hatfield (Herts) [HAT]",
        "Hatfield Peverel [HAP]",
        "Hathersage [HSG]",
        "Hattersley [HTY]",
        "Hatton [HTN]",
        "Havant [HAV]",
        "Havenhouse [HVN]",
        "Haverfordwest [HVF]",
        "Hawarden Bridge [HWB]",
        "Hawarden [HWD]",
        "Haydon Bridge [HDB]",
        "Haymarket [HYM]",
        "Haywards Heath [HHE]",
        "Hazel Grove [HAZ]",
        "Headcorn [HCN]",
        "Headingley [HDY]",
        "Heald Green [HDG]",
        "Heath High Level [HHL]",
        "Heaton Chapel [HTC]",
        "Hebden Bridge [HBD]",
        "Heckington [HEC]",
        "Hedge End [HDE]",
        "Hednesford [HNF]",
        "Heighington [HEI]",
        "Hellifield [HLD]",
        "Helsby [HSB]",
        "Hemel Hempstead [HML]",
        "Hengoed [HNG]",
        "Henley-on-Thames [HOT]",
        "Hensall [HEL]",
        "Hereford [HFD]",
        "Herne Bay [HNB]",
        "Hersham [HER]",
        "Hertford East [HFE]",
        "Hertford North [HFN]",
        "Hessle [HES]",
        "Heswall [HSW]",
        "Hever [HEV]",
        "Heworth [HEW]",
        "Hexham [HEX]",
        "Heysham Port [HHB]",
        "High Brooms [HIB]",
        "High Wycombe [HWY]",
        "Higham (Kent) [HGM]",
        "Highbridge & Burnham [HIG]",
        "Hightown [HTO]",
        "Hildenborough [HLB]",
        "Hinchley Wood [HYW]",
        "Hinckley (Leics) [HNK]",
        "Hindley [HIN]",
        "Hitchin [HIT]",
        "Hockley [HOC]",
        "Hollingbourne [HBN]",
        "Holmes Chapel [HCH]",
        "Holmwood [HLM]",
        "Holton Heath [HOL]",
        "Holyhead [HHD]",
        "Honley [HOY]",
        "Hook [HOK]",
        "Hooton [HOO]",
        "Hope (Derbyshire) [HOP]",
        "Hope (Flintshire) [HPE]",
        "Hopton Heath [HPT]",
        "Horley [HOR]",
        "Hornbeam Park [HBP]",
        "Horsforth [HRS]",
        "Horsham [HRH]",
        "Horsley [HSY]",
        "Horton-in-Ribblesdale [HIR]",
        "Horwich Parkway [HWI]",
        "Hoscar [HSC]",
        "Hough Green [HGN]",
        "Hove [HOV]",
        "Hoveton & Wroxham [HXM]",
        "How Wood (Herts) [HWW]",
        "Howden [HOW]",
        "Hoylake [HYK]",
        "Hubberts Bridge [HBB]",
        "Hucknall [HKN]",
        "Huddersfield [HUD]",
        "Hull [HUL]",
        "Humphrey Park [HUP]",
        "Huncoat [HCT]",
        "Hungerford [HGD]",
        "Hunmanby [HUB]",
        "Huntingdon [HUN]",
        "Hunts Cross [HNX]",
        "Hurst Green [HUR]",
        "Hutton Cranswick [HUT]",
        "Huyton [HUY]",
        "Hyde Central [HYC]",
        "Hyde North [HYT]",
        "Hykeham [HKM]",
        "Hythe (Essex) [HYH]",
        "Ifield [IFI]",
        "Ilkley [ILK]",
        "Ince & Elton [INE]",
        "Ince (Manchester) [INC]",
        "Ingatestone [INT]",
        "Inverkeithing [INK]",
        "Ipswich [IPS]",
        "Iver [IVR]",
        "Ivybridge [IVY]",
        "Jewellery Quarter [JEQ]",
        "Johnston (Pembs) [JOH]",
        "Kearsley (Manchester) [KSL]",
        "Kearsney (Kent) [KSN]",
        "Keighley [KEI]",
        "Kelvedon [KEL]",
        "Kemble [KEM]",
        "Kempston Hardwick [KMH]",
        "Kempton Park [KMP]",
        "Kemsing [KMS]",
        "Kemsley [KML]",
        "Kendal [KEN]",
        "Kennett [KNE]",
        "Kents Bank [KBK]",
        "Kettering [KET]",
        "Keyham [KEY]",
        "Keynsham [KYN]",
        "Kidderminster [KID]",
        "Kidsgrove [KDG]",
        "Kidwelly [KWL]",
        "Kildale [KLD]",
        "Kilgetty [KGT]",
        "Kingham [KGM]",
        "Kings Langley [KGL]",
        "Kings Lynn [KLN]",
        "Kings Norton [KNN]",
        "Kings Nympton [KGN]",
        "Kingswood [KND]",
        "Kintbury [KIT]",
        "Kirby Cross [KBX]",
        "Kirk Sandall [KKS]",
        "Kirkby (Merseyside) [KIR]",
        "Kirkby-in-Ashfield [KKB]",
        "Kirkby-in-Furness [KBF]",
        "Kirkconnel [KRK]",
        "Kirkdale [KKD]",
        "Kirkham & Wesham [KKM]",
        "Knaresborough [KNA]",
        "Knebworth [KBW]",
        "Knighton [KNI]",
        "Knucklas [KNU]",
        "Knutsford [KNF]",
        "Laindon [LAI]",
        "Lake [LKE]",
        "Lancaster [LAN]",
        "Lancing [LAC]",
        "Landywood [LAW]",
        "Langho [LHO]",
        "Langley (Berks) [LNY]",
        "Langley Green [LGG]",
        "Langley Mill [LGM]",
        "Langwith-Whaley Thorns [LAG]",
        "Lapford [LAP]",
        "Lapworth [LPW]",
        "Lawrence Hill [LWH]",
        "Layton (Lancs) [LAY]",
        "Lea Green [LEG]",
        "Lea Hall [LEH]",
        "Leagrave [LEA]",
        "Lealholm [LHM]",
        "Leamington Spa [LMS]",
        "Leasowe [LSW]",
        "Leatherhead [LHD]",
        "Ledbury [LED]",
        "Leeds [LDS]",
        "Leicester [LEI]",
        "Leigh (Kent) [LIH]",
        "Leigh-on-Sea [LES]",
        "Leighton Buzzard [LBZ]",
        "Lenham [LEN]",
        "Leominster [LEO]",
        "Letchworth Garden City [LET]",
        "Levenshulme [LVM]",
        "Lewes [LWS]",
        "Lichfield City [LIC]",
        "Lichfield Trent Valley [LTV]",
        "Lidlington [LID]",
        "Lincoln [LCN]",
        "Lingfield [LFD]",
        "Lingwood [LGD]",
        "Liphook [LIP]",
        "Liskeard [LSK]",
        "Liss [LIS]",
        "Lisvane & Thornhill [LVT]",
        "Little Kimble [LTK]",
        "Little Sutton [LTT]",
        "Littleborough [LTL]",
        "Littlehampton [LIT]",
        "Littlehaven [LVN]",
        "Littleport [LTP]",
        "Liverpool Central [LVC]",
        "Liverpool James Street [LVJ]",
        "Liverpool Lime Street [LIV]",
        "Livingston North [LSN]",
        "Llanbister Road [LLT]",
        "Llanbradach [LNB]",
        "Llandeilo [LLL]",
        "Llandovery [LLV]",
        "Llandrindod [LLO]",
        "Llandudno Junction [LLJ]",
        "Llandudno [LLD]",
        "Llanelli [LLE]",
        "Llanfairfechan [LLF]",
        "Llanfairpwll [LPG]",
        "Llangadog [LLG]",
        "Llangammarch [LLM]",
        "Llangennech [LLH]",
        "Llangynllo [LGO]",
        "Llanharan [LLR]",
        "Llanhilleth [LTH]",
        "Llanishen [LLS]",
        "Llanrwst [LWR]",
        "Llansamlet [LAS]",
        "Llantwit Major [LWM]",
        "Llanwrda [LNR]",
        "Llanwrtyd [LNW]",
        "Llwyngwril [LLW]",
        "Llwynypia [LLY]",
        "Lockerbie [LOC]",
        "Lockwood [LCK]",
        "London Road (Brighton) [LRB]",
        "Long Buckby [LBK]",
        "Long Eaton [LGE]",
        "Long Preston [LPR]",
        "Longbridge [LOB]",
        "Longcross [LNG]",
        "Longfield [LGF]",
        "Longniddry [LND]",
        "Longport [LPT]",
        "Longton [LGN]",
        "Looe [LOO]",
        "Lostock Gralam [LTG]",
        "Lostock Hall [LOH]",
        "Lostwithiel [LOS]",
        "Loughborough [LBO]",
        "Lowdham [LOW]",
        "Lowestoft [LWT]",
        "Ludlow [LUD]",
        "Luton Airport Parkway [LTN]",
        "Luton [LUT]",
        "Luxulyan [LUX]",
        "Lydney [LYD]",
        "Lymington Town [LYT]",
        "Lympstone Commando [LYC]",
        "Lympstone Village [LYM]",
        "Lytham [LTM]",
        "Macclesfield [MAC]",
        "Machynlleth [MCN]",
        "Maesteg (Ewenny Road) [MEW]",
        "Maesteg [MST]",
        "Maghull [MAG]",
        "Maiden Newton [MDN]",
        "Maidenhead [MAI]",
        "Maidstone Barracks [MDB]",
        "Maidstone East [MDE]",
        "Maidstone West [MDW]",
        "Malton [MLT]",
        "Malvern Link [MVL]",
        "Manchester Airport [MIA]",
        "Manchester Oxford Road [MCO]",
        "Manchester Piccadilly [MAN]",
        "Manea [MNE]",
        "Manningtree [MNG]",
        "Manor Road [MNR]",
        "Manors [MAS]",
        "March [MCH]",
        "Marden (Kent) [MRN]",
        "Margate [MAR]",
        "Market Harborough [MHR]",
        "Market Rasen [MKR]",
        "Marks Tey [MKT]",
        "Marlow [MLW]",
        "Marple [MPL]",
        "Marsden (Yorks) [MSN]",
        "Marske [MSK]",
        "Marston Green [MGN]",
        "Martin Mill [MTM]",
        "Martins Heron [MAO]",
        "Marton [MTO]",
        "Maryport [MRY]",
        "Matlock Bath [MTB]",
        "Matlock [MAT]",
        "Mauldeth Road [MAU]",
        "Meadowhall [MHS]",
        "Meldreth [MEL]",
        "Melksham [MKM]",
        "Melton (Suffolk) [MES]",
        "Melton Mowbray [MMO]",
        "Menheniot [MEN]",
        "Menston [MNN]",
        "Meols Cop [MEC]",
        "Meols [MEO]",
        "Meopham [MEP]",
        "Merstham [MHM]",
        "Merthyr Vale [MEV]",
        "Metheringham [MGM]",
        "Metrocentre [MCE]",
        "Mexborough [MEX]",
        "Micheldever [MIC]",
        "Micklefield [MIK]",
        "Middlesbrough [MBR]",
        "Middlewood [MDL]",
        "Midgham [MDG]",
        "Milford (Surrey) [MLF]",
        "Milford Haven [MFH]",
        "Mill Hill (Lancs) [MLH]",
        "Millbrook (Beds) [MLB]",
        "Millbrook (Hants) [MBK]",
        "Millom [MLM]",
        "Mills Hill (Manchester) [MIH]",
        "Milton Keynes Central [MKC]",
        "Minster [MSR]",
        "Mirfield [MIR]",
        "Mistley [MIS]",
        "Mobberley [MOB]",
        "Monks Risborough [MRS]",
        "Montpelier [MTP]",
        "Moorfields [MRF]",
        "Moorthorpe [MRP]",
        "Morchard Road [MRD]",
        "Moreton (Dorset) [MTN]",
        "Moreton (Merseyside) [MRT]",
        "Moreton-in-Marsh [MIM]",
        "Morfa Mawddach [MFA]",
        "Morley [MLY]",
        "Morpeth [MPT]",
        "Mortimer [MOR]",
        "Moss Side [MOS]",
        "Mossley (Manchester) [MSL]",
        "Mossley Hill [MSH]",
        "Mosspark [MPK]",
        "Moston [MSO]",
        "Mottisfont & Dunbridge [DBG]",
        "Mouldsworth [MLD]",
        "Moulsecoomb [MCB]",
        "Mount Florida [MFL]",
        "Mountain Ash [MTA]",
        "Musselburgh [MUB]",
        "Mytholmroyd [MYT]",
        "Nailsea & Backwell [NLS]",
        "Nantwich [NAN]",
        "Narberth [NAR]",
        "Navigation Road [NVR]",
        "Neath [NTH]",
        "Needham Market [NMT]",
        "Neston [NES]",
        "Netherfield [NET]",
        "Nethertown [NRT]",
        "Netley [NTL]",
        "New Brighton [NBN]",
        "New Cumnock [NCK]",
        "New Holland [NHL]",
        "New Hythe [NHE]",
        "New Lane [NLN]",
        "New Mills Newtown [NMN]",
        "New Milton [NWM]",
        "New Pudsey [NPD]",
        "Newark Castle [NCT]",
        "Newark North Gate [NNG]",
        "Newbridge [NBE]",
        "Newbury Racecourse [NRC]",
        "Newbury [NBY]",
        "Newcastle [NCL]",
        "Newhaven Harbour [NVH]",
        "Newhaven Town [NVN]",
        "Newington [NGT]",
        "Newmarket [NMK]",
        "Newport (Essex) [NWE]",
        "Newport (South Wales) [NWP]",
        "Newstead [NSD]",
        "Newton Abbot [NTA]",
        "Newton Aycliffe [NAY]",
        "Newton St Cyres [NTC]",
        "Newton for Hyde [NWN]",
        "Newton-le-Willows [NLW]",
        "Newtown (Powys) [NWT]",
        "Ninian Park [NNP]",
        "Normans Bay [NSB]",
        "North Camp [NCM]",
        "North Llanrwst [NLR]",
        "North Queensferry [NQU]",
        "North Road (Darlington) [NRD]",
        "North Walsham [NWA]",
        "Northallerton [NTR]",
        "Northampton [NMP]",
        "Northfield [NFD]",
        "Northfleet [NFL]",
        "Northwich [NWI]",
        "Norwich [NRW]",
        "Nottingham [NOT]",
        "Nuneaton [NUN]",
        "Nunthorpe [NNT]",
        "Nutbourne [NUT]",
        "Nutfield [NUF]",
        "Oakengates [OKN]",
        "Oakham [OKM]",
        "Ockendon [OCK]",
        "Ockley [OLY]",
        "Old Hill [OHL]",
        "Old Roan [ORN]",
        "Oldfield Park [OLF]",
        "Olton [OLT]",
        "Ore [ORE]",
        "Ormskirk [OMS]",
        "Orrell Park [OPK]",
        "Orrell [ORR]",
        "Otford [OTF]",
        "Oulton Broad North [OUN]",
        "Oulton Broad South [OUS]",
        "Outwood [OUT]",
        "Overpool [OVE]",
        "Overton [OVR]",
        "Oxenholme Lake District [OXN]",
        "Oxford [OXF]",
        "Oxshott [OXS]",
        "Oxted [OXT]",
        "Paddock Wood [PDW]",
        "Padgate [PDG]",
        "Paignton [PGN]",
        "Pangbourne [PAN]",
        "Pannal [PNL]",
        "Pantyffynnon [PTF]",
        "Par [PAR]",
        "Parbold [PBL]",
        "Park Street [PKT]",
        "Parkstone (Dorset) [PKS]",
        "Parson Street [PSN]",
        "Parton [PRN]",
        "Patchway [PWY]",
        "Patricroft [PAT]",
        "Peartree [PEA]",
        "Pegswood [PEG]",
        "Pemberton [PEM]",
        "Pembrey & Burry Port [PBY]",
        "Pen-y-Bont [PNY]",
        "Penally [PNA]",
        "Penarth [PEN]",
        "Pencoed [PCD]",
        "Pengam [PGM]",
        "Penhelig [PHG]",
        "Penkridge [PKG]",
        "Penmaenmawr [PMW]",
        "Penmere [PNM]",
        "Penrhiwceiber [PER]",
        "Penrith (North Lakes) [PNR]",
        "Penryn (Cornwall) [PYN]",
        "Penshurst [PHR]",
        "Pentre-Bach [PTB]",
        "Penyffordd [PNF]",
        "Perry Barr [PRY]",
        "Peterborough [PBO]",
        "Petersfield [PTR]",
        "Pevensey & Westham [PEV]",
        "Pevensey Bay [PEB]",
        "Pewsey [PEW]",
        "Pinhoe [PIN]",
        "Pitsea [PSE]",
        "Pleasington [PLS]",
        "Pluckley [PLC]",
        "Plumley [PLM]",
        "Plumpton [PMP]",
        "Plymouth [PLY]",
        "Pokesdown [POK]",
        "Polegate [PLG]",
        "Polesworth [PSW]",
        "Pollokshields East [PLE]",
        "Pollokshields West [PLW]",
        "Polsloe Bridge [POL]",
        "Pont-y-Pant [PYP]",
        "Pontefract Baghill [PFR]",
        "Pontefract Monkhill [PFM]",
        "Pontlottyn [PLT]",
        "Pontyclun [PYC]",
        "Pontypool & New Inn [PPL]",
        "Pontypridd [PPD]",
        "Poole [POO]",
        "Poppleton [POP]",
        "Port Sunlight [PSL]",
        "Portchester [PTC]",
        "Porth [POR]",
        "Portslade [PLD]",
        "Portsmouth & Southsea [PMS]",
        "Portsmouth Arms [PMA]",
        "Potters Bar [PBR]",
        "Poulton-le-Fylde [PFY]",
        "Poynton [PYT]",
        "Prees [PRS]",
        "Prescot [PSC]",
        "Prestatyn [PRT]",
        "Prestbury [PRB]",
        "Preston (Lancs) [PRE]",
        "Preston Park [PRP]",
        "Prestonpans [PST]",
        "Princes Risborough [PRR]",
        "Prudhoe [PRU]",
        "Pulborough [PUL]",
        "Pyle [PYL]",
        "Quakers Yard [QYD]",
        "Queenborough [QBR]",
        "Queens Park (Glasgow) [QPK]",
        "Radcliffe-on-Trent [RDF]",
        "Radlett [RDT]",
        "Radley [RAD]",
        "Rainford [RNF]",
        "Rainham (Kent) [RAI]",
        "Ramsgate [RAM]",
        "Ramsgreave & Wilpshire [RGW]",
        "Ravenglass for Eskdale [RAV]",
        "Ravensthorpe [RVN]",
        "Rawcliffe [RWC]",
        "Rayleigh [RLG]",
        "Reading West [RDW]",
        "Reading [RDG]",
        "Redbridge [RDB]",
        "Redcar Central [RCC]",
        "Redcar East [RCE]",
        "Reddish North [RDN]",
        "Redditch [RDC]",
        "Redhill [RDH]",
        "Redland [RDA]",
        "Redruth [RED]",
        "Reedham (Norfolk) [REE]",
        "Reigate [REI]",
        "Retford [RET]",
        "Rhiwbina [RHI]",
        "Rhoose Cardiff International Airport [RIA]",
        "Rhosneigr [RHO]",
        "Rhyl [RHL]",
        "Rice Lane [RIL]",
        "Rickmansworth [RIC]",
        "Ridgmont [RID]",
        "Riding Mill [RDM]",
        "Risca & Pontymister [RCA]",
        "Rishton [RIS]",
        "Robertsbridge [RBR]",
        "Roby [ROB]",
        "Rochdale [RCD]",
        "Roche [ROC]",
        "Rochester [RTR]",
        "Rochford [RFD]",
        "Rock Ferry [RFY]",
        "Rogerstone [ROR]",
        "Rolleston [ROL]",
        "Roman Bridge [RMB]",
        "Romiley [RML]",
        "Romsey [ROM]",
        "Roose [ROO]",
        "Rose Grove [RSG]",
        "Rose Hill Marple [RSH]",
        "Rotherham Central [RMC]",
        "Roughton Road [RNR]",
        "Rowlands Castle [RLN]",
        "Rowley Regis [ROW]",
        "Roydon [RYN]",
        "Ruabon [RUA]",
        "Rufford [RUF]",
        "Rugby [RUG]",
        "Rugeley Town [RGT]",
        "Rugeley Trent Valley [RGL]",
        "Runcorn East [RUE]",
        "Runcorn [RUN]",
        "Ruskington [RKT]",
        "Ruswarp [RUS]",
        "Rutherglen [RUT]",
        "Ryde Esplanade [RYD]",
        "Ryde Pier Head [RYP]",
        "Ryde St Johns Road [RYR]",
        "Rye (Sussex) [RYE]",
        "Rye House [RYH]",
        "Salford Central [SFD]",
        "Salford Crescent [SLD]",
        "Salfords (Surrey) [SAF]",
        "Salhouse [SAH]",
        "Salisbury [SAL]",
        "Saltaire [SAE]",
        "Saltash [STS]",
        "Saltburn [SLB]",
        "Saltmarshe [SAM]",
        "Salwick [SLW]",
        "Sandal & Agbrigg [SNA]",
        "Sandbach [SDB]",
        "Sandown [SAN]",
        "Sandplace [SDP]",
        "Sandwell & Dudley [SAD]",
        "Sandwich [SDW]",
        "Sandy [SDY]",
        "Sankey for Penketh [SNK]",
        "Sanquhar [SQH]",
        "Sarn [SRR]",
        "Saundersfoot [SDF]",
        "Saunderton [SDR]",
        "Sawbridgeworth [SAW]",
        "Saxilby [SXY]",
        "Saxmundham [SAX]",
        "Scarborough [SCA]",
        "Scunthorpe [SCU]",
        "Sea Mills [SML]",
        "Seaford (Sussex) [SEF]",
        "Seaforth & Litherland [SFL]",
        "Seamer [SEM]",
        "Seascale [SSC]",
        "Seaton Carew [SEC]",
        "Seer Green [SRG]",
        "Sellafield [SEL]",
        "Selling [SEG]",
        "Settle [SET]",
        "Sevenoaks [SEV]",
        "Severn Beach [SVB]",
        "Severn Tunnel Junction [STJ]",
        "Shanklin [SHN]",
        "Shawford [SHW]",
        "Sheerness-on-Sea [SSS]",
        "Sheffield [SHF]",
        "Shelford (Cambs) [SED]",
        "Shenfield [SNF]",
        "Shenstone [SEN]",
        "Shepherds Well [SPH]",
        "Shepley [SPY]",
        "Shepperton [SHP]",
        "Shepreth [STH]",
        "Sherborne [SHE]",
        "Sherburn-in-Elmet [SIE]",
        "Sheringham [SHM]",
        "Shifnal [SFN]",
        "Shildon [SHD]",
        "Shiplake [SHI]",
        "Shipley (Yorks) [SHY]",
        "Shippea Hill [SPP]",
        "Shirebrook [SHB]",
        "Shirehampton [SHH]",
        "Shireoaks [SRO]",
        "Shirley [SRL]",
        "Shoeburyness [SRY]",
        "Sholing [SHO]",
        "Shoreham (Kent) [SEH]",
        "Shoreham-by-Sea [SSE]",
        "Shotton [SHT]",
        "Shrewsbury [SHR]",
        "Sileby [SIL]",
        "Silecroft [SIC]",
        "Silkstone Common [SLK]",
        "Silverdale [SVR]",
        "Sittingbourne [SIT]",
        "Skegness [SKG]",
        "Skewen [SKE]",
        "Skipton [SKI]",
        "Slaithwaite [SWT]",
        "Sleaford [SLR]",
        "Sleights [SLH]",
        "Slough [SLO]",
        "Small Heath [SMA]",
        "Smallbrook Junction [SAB]",
        "Smethwick Galton Bridge [SGB]",
        "Smithy Bridge [SMB]",
        "Snodland [SDA]",
        "Snowdown [SWO]",
        "Sole Street [SOR]",
        "Solihull [SOL]",
        "Somerleyton [SYT]",
        "South Bank [SBK]",
        "South Elmsall [SES]",
        "South Gyle [SGL]",
        "South Milford [SOM]",
        "South Wigston [SWS]",
        "Southampton Airport Parkway [SOA]",
        "Southampton Central [SOU]",
        "Southbourne [SOB]",
        "Southease [SEE]",
        "Southend Central [SOC]",
        "Southend East [SOE]",
        "Southend Victoria [SOV]",
        "Southport [SOP]",
        "Southwick [SWK]",
        "Spalding [SPA]",
        "Spital [SPI]",
        "Spondon [SPO]",
        "Spooner Row [SPN]",
        "Spring Road [SRI]",
        "Squires Gate [SQU]",
        "St Albans Abbey [SAA]",
        "St Albans City [SAC]",
        "St Andrews Road [SAR]",
        "St Annes-on-Sea [SAS]",
        "St Bees [SBS]",
        "St Budeaux Ferry Road [SBF]",
        "St Budeaux Victoria Road [SBV]",
        "St Columb Road [SCR]",
        "St Denys [SDN]",
        "St Erth [SER]",
        "St Germans [SGM]",
        "St Helens Central [SNH]",
        "St Helens Junction [SHJ]",
        "St James Park (Exeter) [SJP]",
        "St Keyne Wishing Well Halt [SKN]",
        "St Leonards Warrior Square [SLQ]",
        "St Margarets (Herts) [SMT]",
        "St Neots [SNO]",
        "Stafford [STA]",
        "Staines [SNS]",
        "Stallingborough [SLL]",
        "Stalybridge [SYB]",
        "Stamford (Lincs) [SMD]",
        "Stanford-le-Hope [SFO]",
        "Stanlow & Thornton [SNT]",
        "Stansted Airport [SSD]",
        "Stansted Mountfitchet [SST]",
        "Staplehurst [SPU]",
        "Stapleton Road [SRD]",
        "Starbeck [SBE]",
        "Starcross [SCS]",
        "Staveley (Cumbria) [SVL]",
        "Stechford [SCF]",
        "Steeton & Silsden [SON]",
        "Stevenage [SVG]",
        "Stewartby [SWR]",
        "Stockport [SPT]",
        "Stocksfield [SKS]",
        "Stocksmoor [SSM]",
        "Stockton [STK]",
        "Stoke Mandeville [SKM]",
        "Stoke-on-Trent [SOT]",
        "Stone Crossing [SCG]",
        "Stonegate [SOG]",
        "Stonehouse [SHU]",
        "Stoneleigh [SNL]",
        "Stourbridge Junction [SBJ]",
        "Stourbridge Town [SBT]",
        "Stowmarket [SMK]",
        "Stratford-upon-Avon [SAV]",
        "Strines [SRN]",
        "Strood (Kent) [SOO]",
        "Stroud (Gloucs) [STD]",
        "Sturry [STU]",
        "Styal [SYA]",
        "Sunderland [SUN]",
        "Sunningdale [SNG]",
        "Sunnymeads [SNY]",
        "Sutton Coldfield [SUT]",
        "Sutton Parkway [SPK]",
        "Swale [SWL]",
        "Swanley [SAY]",
        "Swanscombe [SWM]",
        "Swansea [SWA]",
        "Swanwick [SNW]",
        "Sway [SWY]",
        "Swaythling [SWG]",
        "Swinderby [SWD]",
        "Swindon (Wilts) [SWI]",
        "Swineshead [SWE]",
        "Swinton (Manchester) [SNN]",
        "Swinton (South Yorks) [SWN]",
        "Syston [SYS]",
        "Tackley [TAC]",
        "Tadworth [TAD]",
        "Taffs Well [TAF]",
        "Tame Bridge Parkway [TAB]",
        "Tamworth [TAM]",
        "Taplow [TAP]",
        "Tattenham Corner [TAT]",
        "Taunton [TAU]",
        "Teignmouth [TGM]",
        "Telford Central [TFC]",
        "Templecombe [TMC]",
        "Tenby [TEN]",
        "Teynham [TEY]",
        "Thames Ditton [THD]",
        "Thatcham [THA]",
        "Thatto Heath [THH]",
        "The Hawthorns [THW]",
        "The Lakes (Warks) [TLK]",
        "Theale [THE]",
        "Theobalds Grove [TEO]",
        "Thetford [TTF]",
        "Thirsk [THI]",
        "Thornaby [TBY]",
        "Thorne North [TNN]",
        "Thorne South [TNS]",
        "Thornford [THO]",
        "Thornton Abbey [TNA]",
        "Thorpe Bay [TPB]",
        "Thorpe Culvert [TPC]",
        "Thorpe-le-Soken [TLS]",
        "Three Bridges [TBD]",
        "Three Oaks [TOK]",
        "Thurnscoe [THC]",
        "Thurston [TRS]",
        "Tile Hill [THL]",
        "Tilehurst [TLH]",
        "Tipton [TIP]",
        "Tir-Phil [TIR]",
        "Tisbury [TIS]",
        "Tiverton Parkway [TVP]",
        "Todmorden [TOD]",
        "Ton Pentre [TPN]",
        "Tonbridge [TON]",
        "Tondu [TDU]",
        "Tonypandy [TNP]",
        "Topsham [TOP]",
        "Torquay [TQY]",
        "Torre [TRR]",
        "Totnes [TOT]",
        "Totton [TTN]",
        "Town Green [TWN]",
        "Trefforest Estate [TRE]",
        "Trefforest [TRF]",
        "Trehafod [TRH]",
        "Treherbert [TRB]",
        "Treorchy [TRY]",
        "Tring [TRI]",
        "Troed-y-Rhiw [TRD]",
        "Trowbridge [TRO]",
        "Truro [TRU]",
        "Tunbridge Wells [TBW]",
        "Tutbury & Hatton [TUT]",
        "Twyford [TWY]",
        "Ty Croes [TYC]",
        "Ty Glas [TGS]",
        "Tywyn [TYW]",
        "Uckfield [UCK]",
        "Ulleskelf [ULL]",
        "Ulverston [ULV]",
        "Umberleigh [UMB]",
        "Uphall [UHA]",
        "Upholland [UPL]",
        "Upper Halliford [UPH]",
        "Upper Warlingham [UWL]",
        "Upton (Merseyside) [UPT]",
        "Upwey [UPW]",
        "Urmston [URM]",
        "Uttoxeter [UTT]",
        "Valley [VAL]",
        "Virginia Water [VIR]",
        "Wadhurst [WAD]",
        "Wakefield Kirkgate [WKK]",
        "Wakefield Westgate [WKF]",
        "Walkden [WKD]",
        "Wallasey Grove Road [WLG]",
        "Wallasey Village [WLV]",
        "Wallyford [WAF]",
        "Walmer [WAM]",
        "Walsall [WSL]",
        "Walsden [WDN]",
        "Waltham Cross [WLC]",
        "Walton (Merseyside) [WAO]",
        "Walton-on-Thames [WAL]",
        "Wanborough [WAN]",
        "Ware (Herts) [WAR]",
        "Wareham (Dorset) [WRM]",
        "Wargrave [WGV]",
        "Warminster [WMN]",
        "Warnham [WNH]",
        "Warrington Bank Quay [WBQ]",
        "Warrington Central [WAC]",
        "Warwick Parkway [WRP]",
        "Warwick [WRW]",
        "Water Orton [WTO]",
        "Wateringbury [WTR]",
        "Waterloo (Merseyside) [WLO]",
        "Watford High Street [WFH]",
        "Watford Junction [WFJ]",
        "Watlington [WTG]",
        "Watton-at-Stone [WAS]",
        "Waun-Gron Park [WNG]",
        "Weeley [WEE]",
        "Welham Green [WMG]",
        "Wellingborough [WEL]",
        "Wellington (Shropshire) [WLN]",
        "Welshpool [WLP]",
        "Welwyn Garden City [WGC]",
        "Welwyn North [WLW]",
        "Wem [WEM]",
        "Wendover [WND]",
        "Wennington [WNN]",
        "West Allerton [WSA]",
        "West Byfleet [WBY]",
        "West Kirby [WKI]",
        "West Malling [WMA]",
        "West Runton [WRN]",
        "West St Leonards [WLD]",
        "West Worthing [WWO]",
        "Westbury (Wilts) [WSB]",
        "Westcliff [WCF]",
        "Westenhanger [WHA]",
        "Westerfield [WFI]",
        "Westgate-on-Sea [WGA]",
        "Westhoughton [WHG]",
        "Weston Milton [WNM]",
        "Weston-super-Mare [WSM]",
        "Wetheral [WRL]",
        "Weybridge [WYB]",
        "Weymouth [WEY]",
        "Whaley Bridge [WBR]",
        "Whalley (Lancs) [WHE]",
        "Whatstandwell [WTS]",
        "Whimple [WHM]",
        "Whiston [WHN]",
        "Whitby [WTB]",
        "Whitchurch (Cardiff) [WHT]",
        "Whitchurch (Hants) [WCH]",
        "Whitchurch (Shropshire) [WTC]",
        "White Notley [WNY]",
        "Whitehaven [WTH]",
        "Whitland [WTL]",
        "Whitley Bridge [WBD]",
        "Whitlocks End [WTE]",
        "Whitstable [WHI]",
        "Whittlesea [WLE]",
        "Whitwell (Derbyshire) [WWL]",
        "Whyteleafe South [WHS]",
        "Whyteleafe [WHY]",
        "Wickford [WIC]",
        "Wickham Market [WCM]",
        "Widdrington [WDD]",
        "Widnes [WID]",
        "Wigan North Western [WGN]",
        "Wigan Wallgate [WGW]",
        "Wigton [WGT]",
        "Wildmill [WMI]",
        "Wilmcote [WMC]",
        "Wilmslow [WML]",
        "Wilnecote (Staffs) [WNE]",
        "Winchelsea [WSE]",
        "Winchester [WIN]",
        "Winchfield [WNF]",
        "Windermere [WDM]",
        "Windsor & Eton Central [WNC]",
        "Windsor & Eton Riverside [WNR]",
        "Winnersh Triangle [WTI]",
        "Winnersh [WNS]",
        "Winsford [WSF]",
        "Witham [WTM]",
        "Witley [WTY]",
        "Wivelsfield [WVF]",
        "Wivenhoe [WIV]",
        "Woburn Sands [WOB]",
        "Woking [WOK]",
        "Wokingham [WKM]",
        "Woldingham [WOH]",
        "Wolverhampton [WVH]",
        "Wombwell [WOM]",
        "Wood End [WDE]",
        "Woodbridge [WDB]",
        "Woodhouse [WDH]",
        "Woodlesford [WDS]",
        "Woodley [WLY]",
        "Woodsmoor [WSR]",
        "Wool [WOO]",
        "Woolston [WLS]",
        "Wootton Wawen [WWW]",
        "Worcester Foregate Street [WOF]",
        "Worcester Shrub Hill [WOS]",
        "Workington [WKG]",
        "Worksop [WRK]",
        "Worle [WOR]",
        "Worplesdon [WPL]",
        "Worstead [WRT]",
        "Worthing [WRH]",
        "Wrabness [WRB]",
        "Wraysbury [WRY]",
        "Wrenbury [WRE]",
        "Wressle [WRS]",
        "Wrexham Central [WXC]",
        "Wrexham General [WRX]",
        "Wye [WYE]",
        "Wylam [WYM]",
        "Wylde Green [WYL]",
        "Wymondham [WMD]",
        "Wythall [WYT]",
        "Yardley Wood [YRD]",
        "Yarm [YRM]",
        "Yate [YAE]",
        "Yatton [YAT]",
        "Yeoford [YEO]",
        "Yeovil Junction [YVJ]",
        "Yeovil Pen Mill [YVP]",
        "Yetminster [YET]",
        "Ynyswen [YNW]",
        "York [YRK]",
        "Yorton [YRT]",
        "Ystrad Mynach [YSM]",
        "Ystrad Rhondda [YSR]"
       ],
       "_view_module_version": "~2.1.4",
       "description": "x",
       "layout": "IPY_MODEL_704509f5fe5b4ec892aeb5cb0ba53242",
       "value": "All"
      }
     },
     "d711849c3a874259a6dd59e8fec2475c": {
      "model_module": "jupyter-js-widgets",
      "model_module_version": "~2.1.4",
      "model_name": "LayoutModel",
      "state": {
       "_model_module_version": "~2.1.4",
       "_view_module_version": "~2.1.4"
      }
     },
     "d8345d08e96d4e01af7ebddd64ea6c71": {
      "model_module": "jupyter-js-widgets",
      "model_module_version": "~2.1.4",
      "model_name": "LayoutModel",
      "state": {
       "_model_module_version": "~2.1.4",
       "_view_module_version": "~2.1.4"
      }
     },
     "d876eb7e69fe4e7389c3ecd83f66f1f0": {
      "model_module": "jupyter-js-widgets",
      "model_module_version": "~2.1.4",
      "model_name": "LayoutModel",
      "state": {
       "_model_module_version": "~2.1.4",
       "_view_module_version": "~2.1.4"
      }
     },
     "d96bb659dd8d432e933380d32f162e7b": {
      "model_module": "jupyter-js-widgets",
      "model_module_version": "~2.1.4",
      "model_name": "OutputModel",
      "state": {
       "_dom_classes": [],
       "_model_module": "jupyter-js-widgets",
       "_model_module_version": "~2.1.4",
       "_view_module": "jupyter-js-widgets",
       "_view_module_version": "~2.1.4",
       "layout": "IPY_MODEL_bd1fe7bfb6114b5fa473be93c3ffb225",
       "msg_throttle": 1
      }
     },
     "da769971515d4d2ea97c5e1d4df25362": {
      "model_module": "jupyter-js-widgets",
      "model_module_version": "~2.1.4",
      "model_name": "LayoutModel",
      "state": {
       "_model_module_version": "~2.1.4",
       "_view_module_version": "~2.1.4"
      }
     },
     "dade53e26da0497abe1c0c0567d963e1": {
      "model_module": "jupyter-js-widgets",
      "model_module_version": "~2.1.4",
      "model_name": "FloatSliderModel",
      "state": {
       "_model_module_version": "~2.1.4",
       "_range": true,
       "_view_module_version": "~2.1.4",
       "layout": "IPY_MODEL_12adb4cd5592498088cb20ede10297d4",
       "max": 4,
       "step": 0.5,
       "value": [
        1,
        2
       ]
      }
     },
     "dd17a550139f4d4380f7edae2f13e781": {
      "model_module": "jupyter-js-widgets",
      "model_module_version": "~2.1.4",
      "model_name": "LayoutModel",
      "state": {
       "_model_module_version": "~2.1.4",
       "_view_module_version": "~2.1.4"
      }
     },
     "de894e7673964f3b94dccd4b3a0ea856": {
      "model_module": "jupyter-js-widgets",
      "model_module_version": "~2.1.4",
      "model_name": "LayoutModel",
      "state": {
       "_model_module_version": "~2.1.4",
       "_view_module_version": "~2.1.4"
      }
     },
     "df95ed17eced4cf0b703712806964261": {
      "model_module": "jupyter-js-widgets",
      "model_module_version": "~2.1.4",
      "model_name": "VBoxModel",
      "state": {
       "_dom_classes": [
        "widget-interact"
       ],
       "_model_module_version": "~2.1.4",
       "_view_module_version": "~2.1.4",
       "children": [
        "IPY_MODEL_bc9bcb1b17564d5ca5b2b3bb08cfafe8",
        "IPY_MODEL_7cdf8b02a0f0446e8e31e55228228df4",
        "IPY_MODEL_6a7ec7ce8c484abcade2c6a6cfb72bc1"
       ],
       "layout": "IPY_MODEL_9ab74886d9a4431aa35a615b2589154a"
      }
     },
     "e0a9e750f3404371a785a3362dc96930": {
      "model_module": "jupyter-js-widgets",
      "model_module_version": "~2.1.4",
      "model_name": "LayoutModel",
      "state": {
       "_model_module_version": "~2.1.4",
       "_view_module_version": "~2.1.4"
      }
     },
     "e1fb29c3db45477d957afc939737c6d6": {
      "model_module": "jupyter-js-widgets",
      "model_module_version": "~2.1.4",
      "model_name": "SelectModel",
      "state": {
       "_model_module_version": "~2.1.4",
       "_options_labels": [
        "All",
        "London Blackfriars [BFR]",
        "London Bridge [LBG]",
        "London Cannon Street [CST]",
        "London Charing Cross [CHX]",
        "London Euston [EUS]",
        "London Fenchurch Street [FST]",
        "London Kings Cross [KGX]",
        "London Liverpool Street [LST]",
        "London Marylebone [MYB]",
        "London Paddington [PAD]",
        "London St Pancras International [STP]",
        "London Victoria [VIC]",
        "London Waterloo [WAT]"
       ],
       "_view_module_version": "~2.1.4",
       "description": "x",
       "layout": "IPY_MODEL_297ef0765c694179b99bcea0a979ca9b",
       "value": "All"
      }
     },
     "e244775c2e1e4ba48646c5cdd2d3a5e6": {
      "model_module": "jupyter-js-widgets",
      "model_module_version": "~2.1.4",
      "model_name": "LayoutModel",
      "state": {
       "_model_module_version": "~2.1.4",
       "_view_module_version": "~2.1.4"
      }
     },
     "e2c07d0f666740ce87717bc51b0836d4": {
      "model_module": "jupyter-js-widgets",
      "model_module_version": "~2.1.4",
      "model_name": "VBoxModel",
      "state": {
       "_dom_classes": [
        "widget-interact"
       ],
       "_model_module_version": "~2.1.4",
       "_view_module_version": "~2.1.4",
       "children": [
        "IPY_MODEL_2b3c318b24fe420e9ba65a32bb5d79ab",
        "IPY_MODEL_6b6a143370e2439d86ea98d1d783bba3",
        "IPY_MODEL_6948bb0bc19c4c1d991c28702f34fb69",
        "IPY_MODEL_4db85abd5918412ea0a2c74c28fc1874"
       ],
       "layout": "IPY_MODEL_e244775c2e1e4ba48646c5cdd2d3a5e6"
      }
     },
     "e52b9ff5323544be8fd41767d38b380a": {
      "model_module": "jupyter-js-widgets",
      "model_module_version": "~2.1.4",
      "model_name": "LayoutModel",
      "state": {
       "_model_module_version": "~2.1.4",
       "_view_module_version": "~2.1.4"
      }
     },
     "e6ad24d4c759471cb40e18ef302d0fe9": {
      "model_module": "jupyter-js-widgets",
      "model_module_version": "~2.1.4",
      "model_name": "LayoutModel",
      "state": {
       "_model_module_version": "~2.1.4",
       "_view_module_version": "~2.1.4"
      }
     },
     "e8b593d73a6640649bd55e68d4da873e": {
      "model_module": "jupyter-js-widgets",
      "model_module_version": "~2.1.4",
      "model_name": "LayoutModel",
      "state": {
       "_model_module_version": "~2.1.4",
       "_view_module_version": "~2.1.4"
      }
     },
     "e8ca48eef81149a8b092a5c9002faf32": {
      "model_module": "jupyter-js-widgets",
      "model_module_version": "~2.1.4",
      "model_name": "FloatSliderModel",
      "state": {
       "_model_module_version": "~2.1.4",
       "_view_module_version": "~2.1.4",
       "description": "z",
       "layout": "IPY_MODEL_46c29495ce2d49bdb189de48c2e21b48",
       "max": 6,
       "min": -2,
       "step": 0.1,
       "value": 2
      }
     },
     "e9dffd2ebe8846c4b6997bef87a57b16": {
      "model_module": "jupyter-js-widgets",
      "model_module_version": "~2.1.4",
      "model_name": "VBoxModel",
      "state": {
       "_dom_classes": [
        "widget-interact"
       ],
       "_model_module_version": "~2.1.4",
       "_view_module_version": "~2.1.4",
       "children": [
        "IPY_MODEL_45d2d4f154624c4cbda912aa02870e42",
        "IPY_MODEL_533bf636ad9b4fc1b18bc430aca42c2c",
        "IPY_MODEL_264ee0532d224160aa90ec69fbb7e2e7"
       ],
       "layout": "IPY_MODEL_dd17a550139f4d4380f7edae2f13e781"
      }
     },
     "ea1ee8215d6b4de4b4b2e400823daf8d": {
      "model_module": "jupyter-js-widgets",
      "model_module_version": "~2.1.4",
      "model_name": "FloatSliderModel",
      "state": {
       "_model_module_version": "~2.1.4",
       "_view_module_version": "~2.1.4",
       "description": "y",
       "layout": "IPY_MODEL_2e44830cd72c46159ab04f8518e74ed7",
       "max": 4,
       "step": 0.5,
       "value": 1
      }
     },
     "ea3e93b7e668400aa9a1d3800c96fa55": {
      "model_module": "jupyter-js-widgets",
      "model_module_version": "~2.1.4",
      "model_name": "VBoxModel",
      "state": {
       "_dom_classes": [
        "widget-interact"
       ],
       "_model_module_version": "~2.1.4",
       "_view_module_version": "~2.1.4",
       "children": [
        "IPY_MODEL_a4e64be990e443a9a3cf77b124372575",
        "IPY_MODEL_bb182dd9d2c54338a0bbe0c9cb1ee798"
       ],
       "layout": "IPY_MODEL_d27da9da2afa447993b2a355de5cfa93"
      }
     },
     "eadf576dda534f4787ce9c52941a48cc": {
      "model_module": "jupyter-js-widgets",
      "model_module_version": "~2.1.4",
      "model_name": "LayoutModel",
      "state": {
       "_model_module_version": "~2.1.4",
       "_view_module_version": "~2.1.4"
      }
     },
     "eb13d52f517b47cda3ffa3765f1426d7": {
      "model_module": "jupyter-js-widgets",
      "model_module_version": "~2.1.4",
      "model_name": "LayoutModel",
      "state": {
       "_model_module_version": "~2.1.4",
       "_view_module_version": "~2.1.4"
      }
     },
     "ec68cb126c924a678f2d3eeeac1f82e1": {
      "model_module": "jupyter-js-widgets",
      "model_module_version": "~2.1.4",
      "model_name": "FloatSliderModel",
      "state": {
       "_model_module_version": "~2.1.4",
       "_range": true,
       "_view_module_version": "~2.1.4",
       "layout": "IPY_MODEL_d015e819e4014ad4ba5551932382875a",
       "max": 4,
       "step": 0.5,
       "value": [
        1,
        2
       ]
      }
     },
     "eef2abf47b6447bdaf33ead06894274f": {
      "model_module": "jupyter-js-widgets",
      "model_module_version": "~2.1.4",
      "model_name": "SelectModel",
      "state": {
       "_model_module_version": "~2.1.4",
       "_options_labels": [
        "All",
        "London Blackfriars [BFR]",
        "London Bridge [LBG]",
        "London Cannon Street [CST]",
        "London Charing Cross [CHX]",
        "London Euston [EUS]",
        "London Fenchurch Street [FST]",
        "London Kings Cross [KGX]",
        "London Liverpool Street [LST]",
        "London Marylebone [MYB]",
        "London Paddington [PAD]",
        "London St Pancras International [STP]",
        "London Victoria [VIC]",
        "London Waterloo [WAT]"
       ],
       "_view_module_version": "~2.1.4",
       "description": "x",
       "layout": "IPY_MODEL_71abb2db77744741af4663f510b5f86a",
       "value": "London Bridge [LBG]"
      }
     },
     "efc57ebf52d0448fb76a0178d269bcac": {
      "model_module": "jupyter-js-widgets",
      "model_module_version": "~2.1.4",
      "model_name": "LayoutModel",
      "state": {
       "_model_module_version": "~2.1.4",
       "_view_module_version": "~2.1.4"
      }
     },
     "f2a004b13b0d4cd9afa1f1def2608c7f": {
      "model_module": "jupyter-js-widgets",
      "model_module_version": "~2.1.4",
      "model_name": "FloatSliderModel",
      "state": {
       "_model_module_version": "~2.1.4",
       "_view_module_version": "~2.1.4",
       "description": "y",
       "layout": "IPY_MODEL_e6ad24d4c759471cb40e18ef302d0fe9",
       "max": 4,
       "step": 0.5,
       "value": 1
      }
     },
     "f33b65c6dfe04cc0b89c813ab55bea61": {
      "model_module": "jupyter-js-widgets",
      "model_module_version": "~2.1.4",
      "model_name": "VBoxModel",
      "state": {
       "_dom_classes": [
        "widget-interact"
       ],
       "_model_module_version": "~2.1.4",
       "_view_module_version": "~2.1.4",
       "children": [
        "IPY_MODEL_ba1c81dc0108426dac5645ef0a52cc1f",
        "IPY_MODEL_816207e8ae634705929ef423b63f5c22",
        "IPY_MODEL_262e7b0fe47f48d3973273cc33890e72",
        "IPY_MODEL_3b92ba1540424315bb67a77cd1ec43d2"
       ],
       "layout": "IPY_MODEL_c247753ef6ea4dc8bbb5f77b4add523f"
      }
     },
     "f376b8843e174984a0e13b602c486174": {
      "model_module": "jupyter-js-widgets",
      "model_module_version": "~2.1.4",
      "model_name": "LayoutModel",
      "state": {
       "_model_module_version": "~2.1.4",
       "_view_module_version": "~2.1.4"
      }
     },
     "f40b3a7a38784fd2a9d476c4bf0055c1": {
      "model_module": "jupyter-js-widgets",
      "model_module_version": "~2.1.4",
      "model_name": "LayoutModel",
      "state": {
       "_model_module_version": "~2.1.4",
       "_view_module_version": "~2.1.4"
      }
     },
     "f487ccd2ccf040d3b4144bf5232a30be": {
      "model_module": "jupyter-js-widgets",
      "model_module_version": "~2.1.4",
      "model_name": "FloatSliderModel",
      "state": {
       "_model_module_version": "~2.1.4",
       "_range": true,
       "_view_module_version": "~2.1.4",
       "layout": "IPY_MODEL_73543e2eed3e473f95d08a13b2d40e9e",
       "max": 4,
       "step": 0.5,
       "value": [
        1,
        2
       ]
      }
     },
     "f74d46ca227d43b5bea4827e3a518e4d": {
      "model_module": "jupyter-js-widgets",
      "model_module_version": "~2.1.4",
      "model_name": "LayoutModel",
      "state": {
       "_model_module_version": "~2.1.4",
       "_view_module_version": "~2.1.4"
      }
     },
     "f806cd47b7a246dbae30f47dc5218298": {
      "model_module": "jupyter-js-widgets",
      "model_module_version": "~2.1.4",
      "model_name": "LayoutModel",
      "state": {
       "_model_module_version": "~2.1.4",
       "_view_module_version": "~2.1.4"
      }
     },
     "f85ebb26c6794d368e51c62f6946e5c1": {
      "model_module": "jupyter-js-widgets",
      "model_module_version": "~2.1.4",
      "model_name": "LayoutModel",
      "state": {
       "_model_module_version": "~2.1.4",
       "_view_module_version": "~2.1.4"
      }
     },
     "f8899f493c804759878b189e34022a70": {
      "model_module": "jupyter-js-widgets",
      "model_module_version": "~2.1.4",
      "model_name": "VBoxModel",
      "state": {
       "_dom_classes": [
        "widget-interact"
       ],
       "_model_module_version": "~2.1.4",
       "_view_module_version": "~2.1.4",
       "children": [
        "IPY_MODEL_41dcf9b232594efea3415fed3af74df2",
        "IPY_MODEL_ea1ee8215d6b4de4b4b2e400823daf8d",
        "IPY_MODEL_b383f02cbe9740978a4123f6db5cd189"
       ],
       "layout": "IPY_MODEL_4f297a49e46b41288943008731756f32"
      }
     },
     "f922113805fd407aa0b01f1bae5d1f7d": {
      "model_module": "jupyter-js-widgets",
      "model_module_version": "~2.1.4",
      "model_name": "SelectModel",
      "state": {
       "_model_module_version": "~2.1.4",
       "_options_labels": [
        "All",
        "London Blackfriars [BFR]",
        "London Bridge [LBG]",
        "London Cannon Street [CST]",
        "London Charing Cross [CHX]",
        "London Euston [EUS]",
        "London Fenchurch Street [FST]",
        "London Kings Cross [KGX]",
        "London Liverpool Street [LST]",
        "London Marylebone [MYB]",
        "London Paddington [PAD]",
        "London St Pancras International [STP]",
        "London Victoria [VIC]",
        "London Waterloo [WAT]"
       ],
       "_view_module_version": "~2.1.4",
       "description": "x",
       "layout": "IPY_MODEL_947671c5ae2e48a783bb0a766347d230",
       "value": "London Cannon Street [CST]"
      }
     },
     "f9697b96495641528fbd9449329343b3": {
      "model_module": "jupyter-js-widgets",
      "model_module_version": "~2.1.4",
      "model_name": "VBoxModel",
      "state": {
       "_dom_classes": [
        "widget-interact"
       ],
       "_model_module_version": "~2.1.4",
       "_view_module_version": "~2.1.4",
       "children": [
        "IPY_MODEL_1ddfb2326013471c981e86432ab194b8",
        "IPY_MODEL_a2a7535404cc444188f2a2f7a3f9e399"
       ],
       "layout": "IPY_MODEL_74e83f710604449d897f0cd7a76b4b8a"
      }
     },
     "fc37ae48b18d45e6b40d5e3050490089": {
      "model_module": "jupyter-js-widgets",
      "model_module_version": "~2.1.4",
      "model_name": "LayoutModel",
      "state": {
       "_model_module_version": "~2.1.4",
       "_view_module_version": "~2.1.4"
      }
     }
    },
    "version_major": 1,
    "version_minor": 0
   }
  }
 },
 "nbformat": 4,
 "nbformat_minor": 1
}
